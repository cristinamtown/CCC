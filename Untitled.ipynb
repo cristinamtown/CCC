{
 "cells": [
  {
   "cell_type": "markdown",
   "metadata": {},
   "source": [
    "# CCC Interview Presentation"
   ]
  },
  {
   "cell_type": "markdown",
   "metadata": {},
   "source": [
    "<u>**Background**</u>\t\t\t\t\t\t\t\t\t\t\t\t\t\t\t\t\n",
    "This data compares clients enrolled in two mental health programs: usual care and a new intervention we're piloting.\t\t\t\t\t\t\t\t\t\t\t\t\t\t\t\t\n",
    "The data represents a one-year lookback. All clients were enrolled for the full year.\t\t\t\t\t\t\t\t\t\t\t\t\t\t\t\t\n",
    "\t\t\t\t\t\t\t\t\t\t\t\t\t\t\t\t\n",
    "<u>**Columns**</u>\n",
    "    \n",
    "**PPID** -\tUnique client identifier\t\t\t\t\t\t\t\t\t\t\t\t\t\t\t\n",
    "Program\tProgram that the client was enrolled in for the full year (usual care vs. intervention)\t\t\t\t\t\t\t\t\t\t\t\t\t\t\t\n",
    "Age\tClient's age at the start of the one-year lookback\t\t\t\t\t\t\t\t\t\t\t\t\t\t\t\n",
    "Gender\tCategorical variable representing client's gender\t\t\t\t\t\t\t\t\t\t\t\t\t\t\t\n",
    "RaceEthnicity\tComposite variable representing client's race and ethnicity\t\t\t\t\t\t\t\t\t\t\t\t\t\t\t\n",
    "MHDx\tPrimary mental health diagnosis; a diagnosis is required for enrollment in mental health treatment\t\t\t\t\t\t\t\t\t\t\t\t\t\t\t\n",
    "SUDx\tPrimary substance use diagnosis; no substance use disorder is required for enrollment in mental health treatment\t\t\t\t\t\t\t\t\t\t\t\t\t\t\t\n",
    "MedDx\tNumber of chronic medical conditions; no medical diagnoses are required for enrollment in mental health treatment\t\t\t\t\t\t\t\t\t\t\t\t\t\t\t\n",
    "PsychAdmit\tNumber of psychiatric  hospital admissions in the past year; this is a primary outcome that our funders would like to reduce\t\t\t\t\t\t\t\t\t\t\t\t\t\t\t\n",
    "DLA1\tAverage score on the DLA-20 assessment at the start of the year lookback; measures functional status; possible range of 1-7 (higher is better)\t\t\t\t\t\t\t\t\t\t\t\t\t\t\t\n",
    "DLA2\tAverage score on the DLA-20 assessment at the end of the year lookback; measures functional status; possible range of 1-7 (higher is better)\t\t\t\t\t\t\t\t\t\t\t\t\t\t\t"
   ]
  }
 ],
 "metadata": {
  "kernelspec": {
   "display_name": "learn-env",
   "language": "python",
   "name": "learn-env"
  },
  "language_info": {
   "codemirror_mode": {
    "name": "ipython",
    "version": 3
   },
   "file_extension": ".py",
   "mimetype": "text/x-python",
   "name": "python",
   "nbconvert_exporter": "python",
   "pygments_lexer": "ipython3",
   "version": "3.6.9"
  },
  "toc": {
   "base_numbering": 1,
   "nav_menu": {},
   "number_sections": true,
   "sideBar": true,
   "skip_h1_title": false,
   "title_cell": "Table of Contents",
   "title_sidebar": "Contents",
   "toc_cell": false,
   "toc_position": {},
   "toc_section_display": true,
   "toc_window_display": true
  }
 },
 "nbformat": 4,
 "nbformat_minor": 2
}
