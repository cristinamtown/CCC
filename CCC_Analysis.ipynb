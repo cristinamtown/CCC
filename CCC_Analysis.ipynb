{
 "cells": [
  {
   "cell_type": "markdown",
   "metadata": {},
   "source": [
    "# CCC Interview Presentation"
   ]
  },
  {
   "cell_type": "markdown",
   "metadata": {},
   "source": [
    "**<u>Background</u>**\t\t\t\t\t\t\t\t\t\t\t\t\t\t\t\n",
    "This data compares clients enrolled in two mental health programs: usual care and a new intervention we're piloting.\t\t\t\t\t\t\t\t\t\t\t\t\t\t\t\t\n",
    "The data represents a one-year lookback. All clients were enrolled for the full year.\t\n",
    "\n",
    "<u>**Analysis Questions**</u>: The new intervention has been up and running for a full year, and everyone seems to think it’s very successful. However, the new intervention costs about 50% more than the “usual care.” Our leaders have asked for an analysis of the effectiveness of the new intervention. Key questions include (but are not limited to):\n",
    "- Is the new intervention better than “usual care”?\n",
    "- Which clients are best served by the intervention?\n",
    "- Should we expand the care model from the new intervention to our “usual care” team?\n",
    "\n",
    "\t\t\t\t\t\t\t\t\t\t\t\t\t\t\t\t\n",
    "<u>**Columns**</u>\n",
    "    \n",
    "**PPID** -\tUnique client identifier\t\t\t\t\t\t\t\t\t\t\t\t\t\t\t\n",
    "Program\tProgram that the client was enrolled in for the full year (usual care vs. intervention)\t\t\t\t\t\t\t\t\t\t\t\t\t\t\t\n",
    "**Age**\t- Client's age at the start of the one-year lookback\t\t\t\t\t\t\t\t\t\t\t\t\t\t\t\n",
    "**Gender** - Categorical variable representing client's gender\t\t\t\t\t\t\t\t\t\t\t\t\t\t\t\n",
    "**RaceEthnicity** - Composite variable representing client's race and ethnicity\t\t\t\t\t\t\t\t\t\t\t\t\t\t\t\n",
    "**MHDx** -\tPrimary mental health diagnosis; a diagnosis is required for enrollment in mental health treatment\t\t\t\t\t\t\t\t\t\t\t\t\t\t\t\n",
    "**SUDx** -\tPrimary substance use diagnosis; no substance use disorder is required for enrollment in mental health treatment\t\t\t\t\t\t\t\t\t\t\t\t\t\t\t\n",
    "**MedDx** -\tNumber of chronic medical conditions; no medical diagnoses are required for enrollment in mental health treatment\t\t\t\t\t\t\t\t\t\t\t\t\t\t\t\n",
    "**PsychAdmit** - Number of psychiatric  hospital admissions in the past year; this is a primary outcome that our funders would like to reduce\t\t\t\t\t\t\t\t\t\t\t\t\t\t\t\n",
    "**DLA1** - Average score on the DLA-20 assessment at the start of the year lookback; measures functional status; possible range of 1-7 (higher is better)\t\t\t\t\t\t\t\t\t\t\t\t\t\t\t\n",
    "**DLA2** -\tAverage score on the DLA-20 assessment at the end of the year lookback; measures functional status; possible range of 1-7 (higher is better)\t\t\t\t\t\t\t\t\t\t\t\t\t\t\t"
   ]
  },
  {
   "cell_type": "markdown",
   "metadata": {},
   "source": [
    "### Import and initial look at the Data"
   ]
  },
  {
   "cell_type": "code",
   "execution_count": 1,
   "metadata": {},
   "outputs": [],
   "source": [
    "import pandas as pd"
   ]
  },
  {
   "cell_type": "code",
   "execution_count": 2,
   "metadata": {},
   "outputs": [
    {
     "data": {
      "text/html": [
       "<div>\n",
       "<style scoped>\n",
       "    .dataframe tbody tr th:only-of-type {\n",
       "        vertical-align: middle;\n",
       "    }\n",
       "\n",
       "    .dataframe tbody tr th {\n",
       "        vertical-align: top;\n",
       "    }\n",
       "\n",
       "    .dataframe thead th {\n",
       "        text-align: right;\n",
       "    }\n",
       "</style>\n",
       "<table border=\"1\" class=\"dataframe\">\n",
       "  <thead>\n",
       "    <tr style=\"text-align: right;\">\n",
       "      <th></th>\n",
       "      <th>PPID</th>\n",
       "      <th>Program</th>\n",
       "      <th>Age</th>\n",
       "      <th>Gender</th>\n",
       "      <th>RaceEthnicity</th>\n",
       "      <th>MHDx</th>\n",
       "      <th>SUDx</th>\n",
       "      <th>MedDx</th>\n",
       "      <th>PsychAdmit</th>\n",
       "      <th>DLA1</th>\n",
       "      <th>DLA2</th>\n",
       "    </tr>\n",
       "  </thead>\n",
       "  <tbody>\n",
       "    <tr>\n",
       "      <th>0</th>\n",
       "      <td>A234282</td>\n",
       "      <td>Intervention</td>\n",
       "      <td>34</td>\n",
       "      <td>F</td>\n",
       "      <td>Other</td>\n",
       "      <td>Depression</td>\n",
       "      <td>Alcohol</td>\n",
       "      <td>2</td>\n",
       "      <td>1</td>\n",
       "      <td>3.69</td>\n",
       "      <td>4.13</td>\n",
       "    </tr>\n",
       "    <tr>\n",
       "      <th>1</th>\n",
       "      <td>A232412</td>\n",
       "      <td>Intervention</td>\n",
       "      <td>26</td>\n",
       "      <td>M</td>\n",
       "      <td>NonHispWhite</td>\n",
       "      <td>Trauma</td>\n",
       "      <td>Opioid</td>\n",
       "      <td>0</td>\n",
       "      <td>0</td>\n",
       "      <td>4.22</td>\n",
       "      <td>4.68</td>\n",
       "    </tr>\n",
       "    <tr>\n",
       "      <th>2</th>\n",
       "      <td>A259052</td>\n",
       "      <td>Intervention</td>\n",
       "      <td>62</td>\n",
       "      <td>M</td>\n",
       "      <td>NativeAm</td>\n",
       "      <td>Depression</td>\n",
       "      <td>Opioid</td>\n",
       "      <td>0</td>\n",
       "      <td>1</td>\n",
       "      <td>4.17</td>\n",
       "      <td>4.78</td>\n",
       "    </tr>\n",
       "    <tr>\n",
       "      <th>3</th>\n",
       "      <td>A353421</td>\n",
       "      <td>Intervention</td>\n",
       "      <td>34</td>\n",
       "      <td>F</td>\n",
       "      <td>NonHispWhite</td>\n",
       "      <td>Depression</td>\n",
       "      <td>Alcohol</td>\n",
       "      <td>0</td>\n",
       "      <td>0</td>\n",
       "      <td>4.11</td>\n",
       "      <td>4.46</td>\n",
       "    </tr>\n",
       "    <tr>\n",
       "      <th>4</th>\n",
       "      <td>A302351</td>\n",
       "      <td>UsualCare</td>\n",
       "      <td>46</td>\n",
       "      <td>M</td>\n",
       "      <td>NonHispBlack</td>\n",
       "      <td>Trauma</td>\n",
       "      <td>Opioid</td>\n",
       "      <td>0</td>\n",
       "      <td>1</td>\n",
       "      <td>4.19</td>\n",
       "      <td>4.25</td>\n",
       "    </tr>\n",
       "  </tbody>\n",
       "</table>\n",
       "</div>"
      ],
      "text/plain": [
       "      PPID       Program  Age Gender RaceEthnicity        MHDx     SUDx MedDx  \\\n",
       "0  A234282  Intervention   34      F         Other  Depression  Alcohol     2   \n",
       "1  A232412  Intervention   26      M  NonHispWhite      Trauma   Opioid     0   \n",
       "2  A259052  Intervention   62      M      NativeAm  Depression   Opioid     0   \n",
       "3  A353421  Intervention   34      F  NonHispWhite  Depression  Alcohol     0   \n",
       "4  A302351     UsualCare   46      M  NonHispBlack      Trauma   Opioid     0   \n",
       "\n",
       "   PsychAdmit  DLA1  DLA2  \n",
       "0           1  3.69  4.13  \n",
       "1           0  4.22  4.68  \n",
       "2           1  4.17  4.78  \n",
       "3           0  4.11  4.46  \n",
       "4           1  4.19  4.25  "
      ]
     },
     "execution_count": 2,
     "metadata": {},
     "output_type": "execute_result"
    }
   ],
   "source": [
    "df = pd.read_csv('Test_MH_Data.csv')\n",
    "df.head()"
   ]
  },
  {
   "cell_type": "code",
   "execution_count": 3,
   "metadata": {},
   "outputs": [
    {
     "name": "stdout",
     "output_type": "stream",
     "text": [
      "<class 'pandas.core.frame.DataFrame'>\n",
      "RangeIndex: 479 entries, 0 to 478\n",
      "Data columns (total 11 columns):\n",
      "PPID             479 non-null object\n",
      "Program          479 non-null object\n",
      "Age              479 non-null int64\n",
      "Gender           479 non-null object\n",
      "RaceEthnicity    479 non-null object\n",
      "MHDx             479 non-null object\n",
      "SUDx             479 non-null object\n",
      "MedDx            479 non-null object\n",
      "PsychAdmit       479 non-null int64\n",
      "DLA1             479 non-null float64\n",
      "DLA2             479 non-null float64\n",
      "dtypes: float64(2), int64(2), object(7)\n",
      "memory usage: 41.2+ KB\n"
     ]
    }
   ],
   "source": [
    "df.info()"
   ]
  },
  {
   "cell_type": "code",
   "execution_count": 4,
   "metadata": {},
   "outputs": [
    {
     "data": {
      "text/plain": [
       "PPID             0\n",
       "Program          0\n",
       "Age              0\n",
       "Gender           0\n",
       "RaceEthnicity    0\n",
       "MHDx             0\n",
       "SUDx             0\n",
       "MedDx            0\n",
       "PsychAdmit       0\n",
       "DLA1             0\n",
       "DLA2             0\n",
       "dtype: int64"
      ]
     },
     "execution_count": 4,
     "metadata": {},
     "output_type": "execute_result"
    }
   ],
   "source": [
    "# Check for null\n",
    "df.isnull().sum()"
   ]
  },
  {
   "cell_type": "code",
   "execution_count": null,
   "metadata": {},
   "outputs": [],
   "source": []
  }
 ],
 "metadata": {
  "kernelspec": {
   "display_name": "learn-env",
   "language": "python",
   "name": "learn-env"
  },
  "language_info": {
   "codemirror_mode": {
    "name": "ipython",
    "version": 3
   },
   "file_extension": ".py",
   "mimetype": "text/x-python",
   "name": "python",
   "nbconvert_exporter": "python",
   "pygments_lexer": "ipython3",
   "version": "3.6.9"
  },
  "toc": {
   "base_numbering": 1,
   "nav_menu": {},
   "number_sections": true,
   "sideBar": true,
   "skip_h1_title": false,
   "title_cell": "Table of Contents",
   "title_sidebar": "Contents",
   "toc_cell": false,
   "toc_position": {},
   "toc_section_display": true,
   "toc_window_display": true
  }
 },
 "nbformat": 4,
 "nbformat_minor": 2
}
