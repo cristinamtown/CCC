{
 "cells": [
  {
   "cell_type": "markdown",
   "metadata": {},
   "source": [
    "# CCC Interview Presentation"
   ]
  },
  {
   "cell_type": "markdown",
   "metadata": {},
   "source": [
    "**<u>Background</u>**\t\t\t\t\t\t\t\t\t\t\t\t\t\t\t\n",
    "This data compares clients enrolled in two mental health programs: usual care and a new intervention we're piloting.\t\t\t\t\t\t\t\t\t\t\t\t\t\t\t\t\n",
    "The data represents a one-year lookback. All clients were enrolled for the full year.\t\n",
    "\n",
    "<u>**Analysis Questions**</u>: The new intervention has been up and running for a full year, and everyone seems to think it’s very successful. However, the new intervention costs about 50% more than the “usual care.” Our leaders have asked for an analysis of the effectiveness of the new intervention. Key questions include (but are not limited to):\n",
    "- Is the new intervention better than “usual care”?\n",
    "- Which clients are best served by the intervention?\n",
    "- Should we expand the care model from the new intervention to our “usual care” team?\n",
    "\n",
    "\t\t\t\t\t\t\t\t\t\t\t\t\t\t\t\t\n",
    "<u>**Columns**</u>\n",
    "    \n",
    "**PPID** -\tUnique client identifier\t\t\t\t\t\t\t\t\t\t\t\t\t\t\t\n",
    "Program\tProgram that the client was enrolled in for the full year (usual care vs. intervention)\t\t\t\t\t\t\t\t\t\t\t\t\t\t\t\n",
    "**Age**\t- Client's age at the start of the one-year lookback\t\t\t\t\t\t\t\t\t\t\t\t\t\t\t\n",
    "**Gender** - Categorical variable representing client's gender\t\t\t\t\t\t\t\t\t\t\t\t\t\t\t\n",
    "**RaceEthnicity** - Composite variable representing client's race and ethnicity\t\t\t\t\t\t\t\t\t\t\t\t\t\t\t\n",
    "**MHDx** -\tPrimary mental health diagnosis; a diagnosis is required for enrollment in mental health treatment\t\t\t\t\t\t\t\t\t\t\t\t\t\t\t\n",
    "**SUDx** -\tPrimary substance use diagnosis; no substance use disorder is required for enrollment in mental health treatment\t\t\t\t\t\t\t\t\t\t\t\t\t\t\t\n",
    "**MedDx** -\tNumber of chronic medical conditions; no medical diagnoses are required for enrollment in mental health treatment\t\t\t\t\t\t\t\t\t\t\t\t\t\t\t\n",
    "**PsychAdmit** - Number of psychiatric  hospital admissions in the past year; this is a primary outcome that our funders would like to reduce\t\t\t\t\t\t\t\t\t\t\t\t\t\t\t\n",
    "**DLA1** - Average score on the DLA-20 assessment at the start of the year lookback; measures functional status; possible range of 1-7 (higher is better)\t\t\t\t\t\t\t\t\t\t\t\t\t\t\t\n",
    "**DLA2** -\tAverage score on the DLA-20 assessment at the end of the year lookback; measures functional status; possible range of 1-7 (higher is better)\t\t\t\t\t\t\t\t\t\t\t\t\t\t\t"
   ]
  },
  {
   "cell_type": "markdown",
   "metadata": {},
   "source": [
    "## Import and initial look at the Data"
   ]
  },
  {
   "cell_type": "code",
   "execution_count": 1,
   "metadata": {},
   "outputs": [],
   "source": [
    "import pandas as pd"
   ]
  },
  {
   "cell_type": "code",
   "execution_count": 2,
   "metadata": {},
   "outputs": [
    {
     "data": {
      "text/html": [
       "<div>\n",
       "<style scoped>\n",
       "    .dataframe tbody tr th:only-of-type {\n",
       "        vertical-align: middle;\n",
       "    }\n",
       "\n",
       "    .dataframe tbody tr th {\n",
       "        vertical-align: top;\n",
       "    }\n",
       "\n",
       "    .dataframe thead th {\n",
       "        text-align: right;\n",
       "    }\n",
       "</style>\n",
       "<table border=\"1\" class=\"dataframe\">\n",
       "  <thead>\n",
       "    <tr style=\"text-align: right;\">\n",
       "      <th></th>\n",
       "      <th>PPID</th>\n",
       "      <th>Program</th>\n",
       "      <th>Age</th>\n",
       "      <th>Gender</th>\n",
       "      <th>RaceEthnicity</th>\n",
       "      <th>MHDx</th>\n",
       "      <th>SUDx</th>\n",
       "      <th>MedDx</th>\n",
       "      <th>PsychAdmit</th>\n",
       "      <th>DLA1</th>\n",
       "      <th>DLA2</th>\n",
       "    </tr>\n",
       "  </thead>\n",
       "  <tbody>\n",
       "    <tr>\n",
       "      <th>0</th>\n",
       "      <td>A234282</td>\n",
       "      <td>Intervention</td>\n",
       "      <td>34</td>\n",
       "      <td>F</td>\n",
       "      <td>Other</td>\n",
       "      <td>Depression</td>\n",
       "      <td>Alcohol</td>\n",
       "      <td>2</td>\n",
       "      <td>1</td>\n",
       "      <td>3.69</td>\n",
       "      <td>4.13</td>\n",
       "    </tr>\n",
       "    <tr>\n",
       "      <th>1</th>\n",
       "      <td>A232412</td>\n",
       "      <td>Intervention</td>\n",
       "      <td>26</td>\n",
       "      <td>M</td>\n",
       "      <td>NonHispWhite</td>\n",
       "      <td>Trauma</td>\n",
       "      <td>Opioid</td>\n",
       "      <td>0</td>\n",
       "      <td>0</td>\n",
       "      <td>4.22</td>\n",
       "      <td>4.68</td>\n",
       "    </tr>\n",
       "    <tr>\n",
       "      <th>2</th>\n",
       "      <td>A259052</td>\n",
       "      <td>Intervention</td>\n",
       "      <td>62</td>\n",
       "      <td>M</td>\n",
       "      <td>NativeAm</td>\n",
       "      <td>Depression</td>\n",
       "      <td>Opioid</td>\n",
       "      <td>0</td>\n",
       "      <td>1</td>\n",
       "      <td>4.17</td>\n",
       "      <td>4.78</td>\n",
       "    </tr>\n",
       "    <tr>\n",
       "      <th>3</th>\n",
       "      <td>A353421</td>\n",
       "      <td>Intervention</td>\n",
       "      <td>34</td>\n",
       "      <td>F</td>\n",
       "      <td>NonHispWhite</td>\n",
       "      <td>Depression</td>\n",
       "      <td>Alcohol</td>\n",
       "      <td>0</td>\n",
       "      <td>0</td>\n",
       "      <td>4.11</td>\n",
       "      <td>4.46</td>\n",
       "    </tr>\n",
       "    <tr>\n",
       "      <th>4</th>\n",
       "      <td>A302351</td>\n",
       "      <td>UsualCare</td>\n",
       "      <td>46</td>\n",
       "      <td>M</td>\n",
       "      <td>NonHispBlack</td>\n",
       "      <td>Trauma</td>\n",
       "      <td>Opioid</td>\n",
       "      <td>0</td>\n",
       "      <td>1</td>\n",
       "      <td>4.19</td>\n",
       "      <td>4.25</td>\n",
       "    </tr>\n",
       "  </tbody>\n",
       "</table>\n",
       "</div>"
      ],
      "text/plain": [
       "      PPID       Program  Age Gender RaceEthnicity        MHDx     SUDx MedDx  \\\n",
       "0  A234282  Intervention   34      F         Other  Depression  Alcohol     2   \n",
       "1  A232412  Intervention   26      M  NonHispWhite      Trauma   Opioid     0   \n",
       "2  A259052  Intervention   62      M      NativeAm  Depression   Opioid     0   \n",
       "3  A353421  Intervention   34      F  NonHispWhite  Depression  Alcohol     0   \n",
       "4  A302351     UsualCare   46      M  NonHispBlack      Trauma   Opioid     0   \n",
       "\n",
       "   PsychAdmit  DLA1  DLA2  \n",
       "0           1  3.69  4.13  \n",
       "1           0  4.22  4.68  \n",
       "2           1  4.17  4.78  \n",
       "3           0  4.11  4.46  \n",
       "4           1  4.19  4.25  "
      ]
     },
     "execution_count": 2,
     "metadata": {},
     "output_type": "execute_result"
    }
   ],
   "source": [
    "df = pd.read_csv('Test_MH_Data.csv')\n",
    "df.head()"
   ]
  },
  {
   "cell_type": "code",
   "execution_count": 3,
   "metadata": {},
   "outputs": [
    {
     "name": "stdout",
     "output_type": "stream",
     "text": [
      "<class 'pandas.core.frame.DataFrame'>\n",
      "RangeIndex: 479 entries, 0 to 478\n",
      "Data columns (total 11 columns):\n",
      "PPID             479 non-null object\n",
      "Program          479 non-null object\n",
      "Age              479 non-null int64\n",
      "Gender           479 non-null object\n",
      "RaceEthnicity    479 non-null object\n",
      "MHDx             479 non-null object\n",
      "SUDx             479 non-null object\n",
      "MedDx            479 non-null object\n",
      "PsychAdmit       479 non-null int64\n",
      "DLA1             479 non-null float64\n",
      "DLA2             479 non-null float64\n",
      "dtypes: float64(2), int64(2), object(7)\n",
      "memory usage: 41.2+ KB\n"
     ]
    }
   ],
   "source": [
    "df.info()"
   ]
  },
  {
   "cell_type": "code",
   "execution_count": 4,
   "metadata": {},
   "outputs": [
    {
     "data": {
      "text/plain": [
       "PPID             0\n",
       "Program          0\n",
       "Age              0\n",
       "Gender           0\n",
       "RaceEthnicity    0\n",
       "MHDx             0\n",
       "SUDx             0\n",
       "MedDx            0\n",
       "PsychAdmit       0\n",
       "DLA1             0\n",
       "DLA2             0\n",
       "dtype: int64"
      ]
     },
     "execution_count": 4,
     "metadata": {},
     "output_type": "execute_result"
    }
   ],
   "source": [
    "# Check for null\n",
    "df.isnull().sum()"
   ]
  },
  {
   "cell_type": "code",
   "execution_count": 17,
   "metadata": {},
   "outputs": [],
   "source": [
    "# add column that show yearly improvement\n",
    "df[\"DLA_Diff\"] = df[\"DLA2\"] - df[\"DLA1\"]"
   ]
  },
  {
   "cell_type": "code",
   "execution_count": 18,
   "metadata": {},
   "outputs": [
    {
     "data": {
      "text/html": [
       "<div>\n",
       "<style scoped>\n",
       "    .dataframe tbody tr th:only-of-type {\n",
       "        vertical-align: middle;\n",
       "    }\n",
       "\n",
       "    .dataframe tbody tr th {\n",
       "        vertical-align: top;\n",
       "    }\n",
       "\n",
       "    .dataframe thead th {\n",
       "        text-align: right;\n",
       "    }\n",
       "</style>\n",
       "<table border=\"1\" class=\"dataframe\">\n",
       "  <thead>\n",
       "    <tr style=\"text-align: right;\">\n",
       "      <th></th>\n",
       "      <th>PPID</th>\n",
       "      <th>Program</th>\n",
       "      <th>Age</th>\n",
       "      <th>Gender</th>\n",
       "      <th>RaceEthnicity</th>\n",
       "      <th>MHDx</th>\n",
       "      <th>SUDx</th>\n",
       "      <th>MedDx</th>\n",
       "      <th>PsychAdmit</th>\n",
       "      <th>DLA1</th>\n",
       "      <th>DLA2</th>\n",
       "      <th>DLA_Diff</th>\n",
       "    </tr>\n",
       "  </thead>\n",
       "  <tbody>\n",
       "    <tr>\n",
       "      <th>0</th>\n",
       "      <td>A234282</td>\n",
       "      <td>Intervention</td>\n",
       "      <td>34</td>\n",
       "      <td>F</td>\n",
       "      <td>Other</td>\n",
       "      <td>Depression</td>\n",
       "      <td>Alcohol</td>\n",
       "      <td>2</td>\n",
       "      <td>1</td>\n",
       "      <td>3.69</td>\n",
       "      <td>4.13</td>\n",
       "      <td>0.44</td>\n",
       "    </tr>\n",
       "    <tr>\n",
       "      <th>1</th>\n",
       "      <td>A232412</td>\n",
       "      <td>Intervention</td>\n",
       "      <td>26</td>\n",
       "      <td>M</td>\n",
       "      <td>NonHispWhite</td>\n",
       "      <td>Trauma</td>\n",
       "      <td>Opioid</td>\n",
       "      <td>0</td>\n",
       "      <td>0</td>\n",
       "      <td>4.22</td>\n",
       "      <td>4.68</td>\n",
       "      <td>0.46</td>\n",
       "    </tr>\n",
       "    <tr>\n",
       "      <th>2</th>\n",
       "      <td>A259052</td>\n",
       "      <td>Intervention</td>\n",
       "      <td>62</td>\n",
       "      <td>M</td>\n",
       "      <td>NativeAm</td>\n",
       "      <td>Depression</td>\n",
       "      <td>Opioid</td>\n",
       "      <td>0</td>\n",
       "      <td>1</td>\n",
       "      <td>4.17</td>\n",
       "      <td>4.78</td>\n",
       "      <td>0.61</td>\n",
       "    </tr>\n",
       "    <tr>\n",
       "      <th>3</th>\n",
       "      <td>A353421</td>\n",
       "      <td>Intervention</td>\n",
       "      <td>34</td>\n",
       "      <td>F</td>\n",
       "      <td>NonHispWhite</td>\n",
       "      <td>Depression</td>\n",
       "      <td>Alcohol</td>\n",
       "      <td>0</td>\n",
       "      <td>0</td>\n",
       "      <td>4.11</td>\n",
       "      <td>4.46</td>\n",
       "      <td>0.35</td>\n",
       "    </tr>\n",
       "    <tr>\n",
       "      <th>4</th>\n",
       "      <td>A302351</td>\n",
       "      <td>UsualCare</td>\n",
       "      <td>46</td>\n",
       "      <td>M</td>\n",
       "      <td>NonHispBlack</td>\n",
       "      <td>Trauma</td>\n",
       "      <td>Opioid</td>\n",
       "      <td>0</td>\n",
       "      <td>1</td>\n",
       "      <td>4.19</td>\n",
       "      <td>4.25</td>\n",
       "      <td>0.06</td>\n",
       "    </tr>\n",
       "  </tbody>\n",
       "</table>\n",
       "</div>"
      ],
      "text/plain": [
       "      PPID       Program  Age Gender RaceEthnicity        MHDx     SUDx MedDx  \\\n",
       "0  A234282  Intervention   34      F         Other  Depression  Alcohol     2   \n",
       "1  A232412  Intervention   26      M  NonHispWhite      Trauma   Opioid     0   \n",
       "2  A259052  Intervention   62      M      NativeAm  Depression   Opioid     0   \n",
       "3  A353421  Intervention   34      F  NonHispWhite  Depression  Alcohol     0   \n",
       "4  A302351     UsualCare   46      M  NonHispBlack      Trauma   Opioid     0   \n",
       "\n",
       "   PsychAdmit  DLA1  DLA2  DLA_Diff  \n",
       "0           1  3.69  4.13      0.44  \n",
       "1           0  4.22  4.68      0.46  \n",
       "2           1  4.17  4.78      0.61  \n",
       "3           0  4.11  4.46      0.35  \n",
       "4           1  4.19  4.25      0.06  "
      ]
     },
     "execution_count": 18,
     "metadata": {},
     "output_type": "execute_result"
    }
   ],
   "source": [
    "df.head()"
   ]
  },
  {
   "cell_type": "code",
   "execution_count": 19,
   "metadata": {},
   "outputs": [
    {
     "data": {
      "text/html": [
       "<div>\n",
       "<style scoped>\n",
       "    .dataframe tbody tr th:only-of-type {\n",
       "        vertical-align: middle;\n",
       "    }\n",
       "\n",
       "    .dataframe tbody tr th {\n",
       "        vertical-align: top;\n",
       "    }\n",
       "\n",
       "    .dataframe thead th {\n",
       "        text-align: right;\n",
       "    }\n",
       "</style>\n",
       "<table border=\"1\" class=\"dataframe\">\n",
       "  <thead>\n",
       "    <tr style=\"text-align: right;\">\n",
       "      <th></th>\n",
       "      <th>Age</th>\n",
       "      <th>PsychAdmit</th>\n",
       "      <th>DLA1</th>\n",
       "      <th>DLA2</th>\n",
       "      <th>DLA_Diff</th>\n",
       "    </tr>\n",
       "  </thead>\n",
       "  <tbody>\n",
       "    <tr>\n",
       "      <th>count</th>\n",
       "      <td>479.000000</td>\n",
       "      <td>479.000000</td>\n",
       "      <td>479.000000</td>\n",
       "      <td>479.000000</td>\n",
       "      <td>479.000000</td>\n",
       "    </tr>\n",
       "    <tr>\n",
       "      <th>mean</th>\n",
       "      <td>45.661795</td>\n",
       "      <td>0.613779</td>\n",
       "      <td>3.878789</td>\n",
       "      <td>4.053236</td>\n",
       "      <td>0.174447</td>\n",
       "    </tr>\n",
       "    <tr>\n",
       "      <th>std</th>\n",
       "      <td>12.485909</td>\n",
       "      <td>0.807327</td>\n",
       "      <td>0.501458</td>\n",
       "      <td>0.587929</td>\n",
       "      <td>0.292922</td>\n",
       "    </tr>\n",
       "    <tr>\n",
       "      <th>min</th>\n",
       "      <td>18.000000</td>\n",
       "      <td>0.000000</td>\n",
       "      <td>2.270000</td>\n",
       "      <td>2.290000</td>\n",
       "      <td>-0.120000</td>\n",
       "    </tr>\n",
       "    <tr>\n",
       "      <th>25%</th>\n",
       "      <td>37.000000</td>\n",
       "      <td>0.000000</td>\n",
       "      <td>3.510000</td>\n",
       "      <td>3.650000</td>\n",
       "      <td>-0.020000</td>\n",
       "    </tr>\n",
       "    <tr>\n",
       "      <th>50%</th>\n",
       "      <td>46.000000</td>\n",
       "      <td>0.000000</td>\n",
       "      <td>3.880000</td>\n",
       "      <td>4.040000</td>\n",
       "      <td>0.020000</td>\n",
       "    </tr>\n",
       "    <tr>\n",
       "      <th>75%</th>\n",
       "      <td>55.000000</td>\n",
       "      <td>1.000000</td>\n",
       "      <td>4.230000</td>\n",
       "      <td>4.460000</td>\n",
       "      <td>0.440000</td>\n",
       "    </tr>\n",
       "    <tr>\n",
       "      <th>max</th>\n",
       "      <td>80.000000</td>\n",
       "      <td>5.000000</td>\n",
       "      <td>5.530000</td>\n",
       "      <td>6.020000</td>\n",
       "      <td>0.960000</td>\n",
       "    </tr>\n",
       "  </tbody>\n",
       "</table>\n",
       "</div>"
      ],
      "text/plain": [
       "              Age  PsychAdmit        DLA1        DLA2    DLA_Diff\n",
       "count  479.000000  479.000000  479.000000  479.000000  479.000000\n",
       "mean    45.661795    0.613779    3.878789    4.053236    0.174447\n",
       "std     12.485909    0.807327    0.501458    0.587929    0.292922\n",
       "min     18.000000    0.000000    2.270000    2.290000   -0.120000\n",
       "25%     37.000000    0.000000    3.510000    3.650000   -0.020000\n",
       "50%     46.000000    0.000000    3.880000    4.040000    0.020000\n",
       "75%     55.000000    1.000000    4.230000    4.460000    0.440000\n",
       "max     80.000000    5.000000    5.530000    6.020000    0.960000"
      ]
     },
     "execution_count": 19,
     "metadata": {},
     "output_type": "execute_result"
    }
   ],
   "source": [
    "# look at numerical columns\n",
    "df.describe()"
   ]
  },
  {
   "cell_type": "code",
   "execution_count": 20,
   "metadata": {},
   "outputs": [],
   "source": [
    "# create dataframe of just clients that received usual care\n",
    "df_usual = df[df['Program'] == \"UsualCare\"]"
   ]
  },
  {
   "cell_type": "code",
   "execution_count": 21,
   "metadata": {},
   "outputs": [
    {
     "data": {
      "text/html": [
       "<div>\n",
       "<style scoped>\n",
       "    .dataframe tbody tr th:only-of-type {\n",
       "        vertical-align: middle;\n",
       "    }\n",
       "\n",
       "    .dataframe tbody tr th {\n",
       "        vertical-align: top;\n",
       "    }\n",
       "\n",
       "    .dataframe thead th {\n",
       "        text-align: right;\n",
       "    }\n",
       "</style>\n",
       "<table border=\"1\" class=\"dataframe\">\n",
       "  <thead>\n",
       "    <tr style=\"text-align: right;\">\n",
       "      <th></th>\n",
       "      <th>PPID</th>\n",
       "      <th>Program</th>\n",
       "      <th>Age</th>\n",
       "      <th>Gender</th>\n",
       "      <th>RaceEthnicity</th>\n",
       "      <th>MHDx</th>\n",
       "      <th>SUDx</th>\n",
       "      <th>MedDx</th>\n",
       "      <th>PsychAdmit</th>\n",
       "      <th>DLA1</th>\n",
       "      <th>DLA2</th>\n",
       "      <th>DLA_Diff</th>\n",
       "    </tr>\n",
       "  </thead>\n",
       "  <tbody>\n",
       "    <tr>\n",
       "      <th>4</th>\n",
       "      <td>A302351</td>\n",
       "      <td>UsualCare</td>\n",
       "      <td>46</td>\n",
       "      <td>M</td>\n",
       "      <td>NonHispBlack</td>\n",
       "      <td>Trauma</td>\n",
       "      <td>Opioid</td>\n",
       "      <td>0</td>\n",
       "      <td>1</td>\n",
       "      <td>4.19</td>\n",
       "      <td>4.25</td>\n",
       "      <td>0.06</td>\n",
       "    </tr>\n",
       "    <tr>\n",
       "      <th>8</th>\n",
       "      <td>A212390</td>\n",
       "      <td>UsualCare</td>\n",
       "      <td>41</td>\n",
       "      <td>F</td>\n",
       "      <td>Other</td>\n",
       "      <td>Depression</td>\n",
       "      <td>Opioid</td>\n",
       "      <td>1</td>\n",
       "      <td>1</td>\n",
       "      <td>3.95</td>\n",
       "      <td>4.01</td>\n",
       "      <td>0.06</td>\n",
       "    </tr>\n",
       "    <tr>\n",
       "      <th>9</th>\n",
       "      <td>A310084</td>\n",
       "      <td>UsualCare</td>\n",
       "      <td>33</td>\n",
       "      <td>M</td>\n",
       "      <td>NativeAm</td>\n",
       "      <td>Trauma</td>\n",
       "      <td>None</td>\n",
       "      <td>2</td>\n",
       "      <td>0</td>\n",
       "      <td>4.18</td>\n",
       "      <td>4.16</td>\n",
       "      <td>-0.02</td>\n",
       "    </tr>\n",
       "    <tr>\n",
       "      <th>11</th>\n",
       "      <td>A280897</td>\n",
       "      <td>UsualCare</td>\n",
       "      <td>76</td>\n",
       "      <td>M</td>\n",
       "      <td>NonHispWhite</td>\n",
       "      <td>Psychosis</td>\n",
       "      <td>Opioid</td>\n",
       "      <td>0</td>\n",
       "      <td>1</td>\n",
       "      <td>3.74</td>\n",
       "      <td>3.70</td>\n",
       "      <td>-0.04</td>\n",
       "    </tr>\n",
       "    <tr>\n",
       "      <th>14</th>\n",
       "      <td>A350961</td>\n",
       "      <td>UsualCare</td>\n",
       "      <td>47</td>\n",
       "      <td>M</td>\n",
       "      <td>NonHispWhite</td>\n",
       "      <td>Depression</td>\n",
       "      <td>Stimulant</td>\n",
       "      <td>1</td>\n",
       "      <td>1</td>\n",
       "      <td>4.11</td>\n",
       "      <td>4.06</td>\n",
       "      <td>-0.05</td>\n",
       "    </tr>\n",
       "  </tbody>\n",
       "</table>\n",
       "</div>"
      ],
      "text/plain": [
       "       PPID    Program  Age Gender RaceEthnicity        MHDx       SUDx MedDx  \\\n",
       "4   A302351  UsualCare   46      M  NonHispBlack      Trauma     Opioid     0   \n",
       "8   A212390  UsualCare   41      F         Other  Depression     Opioid     1   \n",
       "9   A310084  UsualCare   33      M      NativeAm      Trauma       None     2   \n",
       "11  A280897  UsualCare   76      M  NonHispWhite   Psychosis     Opioid     0   \n",
       "14  A350961  UsualCare   47      M  NonHispWhite  Depression  Stimulant     1   \n",
       "\n",
       "    PsychAdmit  DLA1  DLA2  DLA_Diff  \n",
       "4            1  4.19  4.25      0.06  \n",
       "8            1  3.95  4.01      0.06  \n",
       "9            0  4.18  4.16     -0.02  \n",
       "11           1  3.74  3.70     -0.04  \n",
       "14           1  4.11  4.06     -0.05  "
      ]
     },
     "execution_count": 21,
     "metadata": {},
     "output_type": "execute_result"
    }
   ],
   "source": [
    "df_usual.head()"
   ]
  },
  {
   "cell_type": "code",
   "execution_count": 22,
   "metadata": {},
   "outputs": [],
   "source": [
    "# create dataframe of just clients that received intervention care\n",
    "df_intervention = df[df['Program'] == \"Intervention\"]"
   ]
  },
  {
   "cell_type": "code",
   "execution_count": 23,
   "metadata": {},
   "outputs": [
    {
     "data": {
      "text/html": [
       "<div>\n",
       "<style scoped>\n",
       "    .dataframe tbody tr th:only-of-type {\n",
       "        vertical-align: middle;\n",
       "    }\n",
       "\n",
       "    .dataframe tbody tr th {\n",
       "        vertical-align: top;\n",
       "    }\n",
       "\n",
       "    .dataframe thead th {\n",
       "        text-align: right;\n",
       "    }\n",
       "</style>\n",
       "<table border=\"1\" class=\"dataframe\">\n",
       "  <thead>\n",
       "    <tr style=\"text-align: right;\">\n",
       "      <th></th>\n",
       "      <th>PPID</th>\n",
       "      <th>Program</th>\n",
       "      <th>Age</th>\n",
       "      <th>Gender</th>\n",
       "      <th>RaceEthnicity</th>\n",
       "      <th>MHDx</th>\n",
       "      <th>SUDx</th>\n",
       "      <th>MedDx</th>\n",
       "      <th>PsychAdmit</th>\n",
       "      <th>DLA1</th>\n",
       "      <th>DLA2</th>\n",
       "      <th>DLA_Diff</th>\n",
       "    </tr>\n",
       "  </thead>\n",
       "  <tbody>\n",
       "    <tr>\n",
       "      <th>0</th>\n",
       "      <td>A234282</td>\n",
       "      <td>Intervention</td>\n",
       "      <td>34</td>\n",
       "      <td>F</td>\n",
       "      <td>Other</td>\n",
       "      <td>Depression</td>\n",
       "      <td>Alcohol</td>\n",
       "      <td>2</td>\n",
       "      <td>1</td>\n",
       "      <td>3.69</td>\n",
       "      <td>4.13</td>\n",
       "      <td>0.44</td>\n",
       "    </tr>\n",
       "    <tr>\n",
       "      <th>1</th>\n",
       "      <td>A232412</td>\n",
       "      <td>Intervention</td>\n",
       "      <td>26</td>\n",
       "      <td>M</td>\n",
       "      <td>NonHispWhite</td>\n",
       "      <td>Trauma</td>\n",
       "      <td>Opioid</td>\n",
       "      <td>0</td>\n",
       "      <td>0</td>\n",
       "      <td>4.22</td>\n",
       "      <td>4.68</td>\n",
       "      <td>0.46</td>\n",
       "    </tr>\n",
       "    <tr>\n",
       "      <th>2</th>\n",
       "      <td>A259052</td>\n",
       "      <td>Intervention</td>\n",
       "      <td>62</td>\n",
       "      <td>M</td>\n",
       "      <td>NativeAm</td>\n",
       "      <td>Depression</td>\n",
       "      <td>Opioid</td>\n",
       "      <td>0</td>\n",
       "      <td>1</td>\n",
       "      <td>4.17</td>\n",
       "      <td>4.78</td>\n",
       "      <td>0.61</td>\n",
       "    </tr>\n",
       "    <tr>\n",
       "      <th>3</th>\n",
       "      <td>A353421</td>\n",
       "      <td>Intervention</td>\n",
       "      <td>34</td>\n",
       "      <td>F</td>\n",
       "      <td>NonHispWhite</td>\n",
       "      <td>Depression</td>\n",
       "      <td>Alcohol</td>\n",
       "      <td>0</td>\n",
       "      <td>0</td>\n",
       "      <td>4.11</td>\n",
       "      <td>4.46</td>\n",
       "      <td>0.35</td>\n",
       "    </tr>\n",
       "    <tr>\n",
       "      <th>5</th>\n",
       "      <td>A315862</td>\n",
       "      <td>Intervention</td>\n",
       "      <td>51</td>\n",
       "      <td>M</td>\n",
       "      <td>NonHispWhite</td>\n",
       "      <td>Anxiety</td>\n",
       "      <td>Opioid</td>\n",
       "      <td>1</td>\n",
       "      <td>0</td>\n",
       "      <td>3.55</td>\n",
       "      <td>4.06</td>\n",
       "      <td>0.51</td>\n",
       "    </tr>\n",
       "  </tbody>\n",
       "</table>\n",
       "</div>"
      ],
      "text/plain": [
       "      PPID       Program  Age Gender RaceEthnicity        MHDx     SUDx MedDx  \\\n",
       "0  A234282  Intervention   34      F         Other  Depression  Alcohol     2   \n",
       "1  A232412  Intervention   26      M  NonHispWhite      Trauma   Opioid     0   \n",
       "2  A259052  Intervention   62      M      NativeAm  Depression   Opioid     0   \n",
       "3  A353421  Intervention   34      F  NonHispWhite  Depression  Alcohol     0   \n",
       "5  A315862  Intervention   51      M  NonHispWhite     Anxiety   Opioid     1   \n",
       "\n",
       "   PsychAdmit  DLA1  DLA2  DLA_Diff  \n",
       "0           1  3.69  4.13      0.44  \n",
       "1           0  4.22  4.68      0.46  \n",
       "2           1  4.17  4.78      0.61  \n",
       "3           0  4.11  4.46      0.35  \n",
       "5           0  3.55  4.06      0.51  "
      ]
     },
     "execution_count": 23,
     "metadata": {},
     "output_type": "execute_result"
    }
   ],
   "source": [
    "df_intervention.head()"
   ]
  },
  {
   "cell_type": "code",
   "execution_count": null,
   "metadata": {},
   "outputs": [],
   "source": []
  },
  {
   "cell_type": "markdown",
   "metadata": {},
   "source": [
    "## Exploratory Data Analysis"
   ]
  },
  {
   "cell_type": "code",
   "execution_count": 5,
   "metadata": {},
   "outputs": [],
   "source": [
    "import plotly.express as px"
   ]
  },
  {
   "cell_type": "code",
   "execution_count": 24,
   "metadata": {},
   "outputs": [
    {
     "data": {
      "text/html": [
       "<div>\n",
       "<style scoped>\n",
       "    .dataframe tbody tr th:only-of-type {\n",
       "        vertical-align: middle;\n",
       "    }\n",
       "\n",
       "    .dataframe tbody tr th {\n",
       "        vertical-align: top;\n",
       "    }\n",
       "\n",
       "    .dataframe thead th {\n",
       "        text-align: right;\n",
       "    }\n",
       "</style>\n",
       "<table border=\"1\" class=\"dataframe\">\n",
       "  <thead>\n",
       "    <tr style=\"text-align: right;\">\n",
       "      <th></th>\n",
       "      <th>Age</th>\n",
       "      <th>PsychAdmit</th>\n",
       "      <th>DLA1</th>\n",
       "      <th>DLA2</th>\n",
       "      <th>DLA_Diff</th>\n",
       "    </tr>\n",
       "  </thead>\n",
       "  <tbody>\n",
       "    <tr>\n",
       "      <th>count</th>\n",
       "      <td>336.000000</td>\n",
       "      <td>336.000000</td>\n",
       "      <td>336.000000</td>\n",
       "      <td>336.000000</td>\n",
       "      <td>336.000000</td>\n",
       "    </tr>\n",
       "    <tr>\n",
       "      <th>mean</th>\n",
       "      <td>46.508929</td>\n",
       "      <td>0.711310</td>\n",
       "      <td>3.866042</td>\n",
       "      <td>3.863006</td>\n",
       "      <td>-0.003036</td>\n",
       "    </tr>\n",
       "    <tr>\n",
       "      <th>std</th>\n",
       "      <td>11.089591</td>\n",
       "      <td>0.851683</td>\n",
       "      <td>0.510502</td>\n",
       "      <td>0.516134</td>\n",
       "      <td>0.048681</td>\n",
       "    </tr>\n",
       "    <tr>\n",
       "      <th>min</th>\n",
       "      <td>19.000000</td>\n",
       "      <td>0.000000</td>\n",
       "      <td>2.270000</td>\n",
       "      <td>2.290000</td>\n",
       "      <td>-0.120000</td>\n",
       "    </tr>\n",
       "    <tr>\n",
       "      <th>25%</th>\n",
       "      <td>39.000000</td>\n",
       "      <td>0.000000</td>\n",
       "      <td>3.510000</td>\n",
       "      <td>3.500000</td>\n",
       "      <td>-0.030000</td>\n",
       "    </tr>\n",
       "    <tr>\n",
       "      <th>50%</th>\n",
       "      <td>47.000000</td>\n",
       "      <td>1.000000</td>\n",
       "      <td>3.870000</td>\n",
       "      <td>3.860000</td>\n",
       "      <td>0.000000</td>\n",
       "    </tr>\n",
       "    <tr>\n",
       "      <th>75%</th>\n",
       "      <td>54.000000</td>\n",
       "      <td>1.000000</td>\n",
       "      <td>4.210000</td>\n",
       "      <td>4.220000</td>\n",
       "      <td>0.030000</td>\n",
       "    </tr>\n",
       "    <tr>\n",
       "      <th>max</th>\n",
       "      <td>80.000000</td>\n",
       "      <td>5.000000</td>\n",
       "      <td>5.530000</td>\n",
       "      <td>5.560000</td>\n",
       "      <td>0.170000</td>\n",
       "    </tr>\n",
       "  </tbody>\n",
       "</table>\n",
       "</div>"
      ],
      "text/plain": [
       "              Age  PsychAdmit        DLA1        DLA2    DLA_Diff\n",
       "count  336.000000  336.000000  336.000000  336.000000  336.000000\n",
       "mean    46.508929    0.711310    3.866042    3.863006   -0.003036\n",
       "std     11.089591    0.851683    0.510502    0.516134    0.048681\n",
       "min     19.000000    0.000000    2.270000    2.290000   -0.120000\n",
       "25%     39.000000    0.000000    3.510000    3.500000   -0.030000\n",
       "50%     47.000000    1.000000    3.870000    3.860000    0.000000\n",
       "75%     54.000000    1.000000    4.210000    4.220000    0.030000\n",
       "max     80.000000    5.000000    5.530000    5.560000    0.170000"
      ]
     },
     "execution_count": 24,
     "metadata": {},
     "output_type": "execute_result"
    }
   ],
   "source": [
    "df_usual.describe()"
   ]
  },
  {
   "cell_type": "code",
   "execution_count": 25,
   "metadata": {},
   "outputs": [
    {
     "data": {
      "text/html": [
       "<div>\n",
       "<style scoped>\n",
       "    .dataframe tbody tr th:only-of-type {\n",
       "        vertical-align: middle;\n",
       "    }\n",
       "\n",
       "    .dataframe tbody tr th {\n",
       "        vertical-align: top;\n",
       "    }\n",
       "\n",
       "    .dataframe thead th {\n",
       "        text-align: right;\n",
       "    }\n",
       "</style>\n",
       "<table border=\"1\" class=\"dataframe\">\n",
       "  <thead>\n",
       "    <tr style=\"text-align: right;\">\n",
       "      <th></th>\n",
       "      <th>Age</th>\n",
       "      <th>PsychAdmit</th>\n",
       "      <th>DLA1</th>\n",
       "      <th>DLA2</th>\n",
       "      <th>DLA_Diff</th>\n",
       "    </tr>\n",
       "  </thead>\n",
       "  <tbody>\n",
       "    <tr>\n",
       "      <th>count</th>\n",
       "      <td>143.000000</td>\n",
       "      <td>143.000000</td>\n",
       "      <td>143.000000</td>\n",
       "      <td>143.000000</td>\n",
       "      <td>143.000000</td>\n",
       "    </tr>\n",
       "    <tr>\n",
       "      <th>mean</th>\n",
       "      <td>43.671329</td>\n",
       "      <td>0.384615</td>\n",
       "      <td>3.908741</td>\n",
       "      <td>4.500210</td>\n",
       "      <td>0.591469</td>\n",
       "    </tr>\n",
       "    <tr>\n",
       "      <th>std</th>\n",
       "      <td>15.131711</td>\n",
       "      <td>0.638253</td>\n",
       "      <td>0.479951</td>\n",
       "      <td>0.498272</td>\n",
       "      <td>0.183230</td>\n",
       "    </tr>\n",
       "    <tr>\n",
       "      <th>min</th>\n",
       "      <td>18.000000</td>\n",
       "      <td>0.000000</td>\n",
       "      <td>2.810000</td>\n",
       "      <td>3.090000</td>\n",
       "      <td>0.240000</td>\n",
       "    </tr>\n",
       "    <tr>\n",
       "      <th>25%</th>\n",
       "      <td>32.500000</td>\n",
       "      <td>0.000000</td>\n",
       "      <td>3.515000</td>\n",
       "      <td>4.145000</td>\n",
       "      <td>0.455000</td>\n",
       "    </tr>\n",
       "    <tr>\n",
       "      <th>50%</th>\n",
       "      <td>43.000000</td>\n",
       "      <td>0.000000</td>\n",
       "      <td>3.930000</td>\n",
       "      <td>4.540000</td>\n",
       "      <td>0.610000</td>\n",
       "    </tr>\n",
       "    <tr>\n",
       "      <th>75%</th>\n",
       "      <td>57.000000</td>\n",
       "      <td>1.000000</td>\n",
       "      <td>4.260000</td>\n",
       "      <td>4.850000</td>\n",
       "      <td>0.710000</td>\n",
       "    </tr>\n",
       "    <tr>\n",
       "      <th>max</th>\n",
       "      <td>76.000000</td>\n",
       "      <td>3.000000</td>\n",
       "      <td>5.160000</td>\n",
       "      <td>6.020000</td>\n",
       "      <td>0.960000</td>\n",
       "    </tr>\n",
       "  </tbody>\n",
       "</table>\n",
       "</div>"
      ],
      "text/plain": [
       "              Age  PsychAdmit        DLA1        DLA2    DLA_Diff\n",
       "count  143.000000  143.000000  143.000000  143.000000  143.000000\n",
       "mean    43.671329    0.384615    3.908741    4.500210    0.591469\n",
       "std     15.131711    0.638253    0.479951    0.498272    0.183230\n",
       "min     18.000000    0.000000    2.810000    3.090000    0.240000\n",
       "25%     32.500000    0.000000    3.515000    4.145000    0.455000\n",
       "50%     43.000000    0.000000    3.930000    4.540000    0.610000\n",
       "75%     57.000000    1.000000    4.260000    4.850000    0.710000\n",
       "max     76.000000    3.000000    5.160000    6.020000    0.960000"
      ]
     },
     "execution_count": 25,
     "metadata": {},
     "output_type": "execute_result"
    }
   ],
   "source": [
    "df_intervention.describe()"
   ]
  },
  {
   "cell_type": "markdown",
   "metadata": {},
   "source": [
    "First look at the data, it seems that the intervention program has better outcomes. The difference in the mean of DLA1 and DLA2 for usual care is -0.003, while the difference in the mean of the intervention program is 0.591."
   ]
  },
  {
   "cell_type": "code",
   "execution_count": 31,
   "metadata": {},
   "outputs": [
    {
     "data": {
      "application/vnd.plotly.v1+json": {
       "config": {
        "plotlyServerURL": "https://plot.ly"
       },
       "data": [
        {
         "alignmentgroup": "True",
         "bingroup": "x",
         "hoverlabel": {
          "namelength": 0
         },
         "hovertemplate": "DLA_Diff=%{x}<br>count=%{y}",
         "legendgroup": "",
         "marker": {
          "color": "#636efa"
         },
         "name": "",
         "offsetgroup": "",
         "orientation": "v",
         "showlegend": false,
         "type": "histogram",
         "x": [
          0.05999999999999961,
          0.05999999999999961,
          -0.019999999999999574,
          -0.040000000000000036,
          -0.05000000000000071,
          -0.020000000000000018,
          0.08000000000000007,
          0,
          -0.029999999999999805,
          0.04999999999999982,
          -0.08999999999999986,
          0.02999999999999936,
          0.019999999999999574,
          0.020000000000000018,
          -0.010000000000000231,
          0.010000000000000231,
          0.010000000000000231,
          -0.009999999999999787,
          0.05999999999999961,
          -0.10000000000000053,
          -0.03000000000000025,
          -0.010000000000000675,
          0.040000000000000036,
          -0.03000000000000025,
          -0.04999999999999982,
          0.010000000000000231,
          0.10000000000000009,
          -0.10000000000000053,
          0,
          -0.050000000000000266,
          -0.04999999999999982,
          0.020000000000000018,
          0.010000000000000231,
          -0.009999999999999787,
          0.06000000000000005,
          0,
          0.06000000000000005,
          -0.10000000000000009,
          -0.019999999999999574,
          0.020000000000000018,
          -0.0600000000000005,
          -0.08999999999999986,
          -0.020000000000000018,
          0.08000000000000007,
          -0.04999999999999982,
          0.040000000000000036,
          -0.05999999999999961,
          -0.040000000000000036,
          -0.009999999999999787,
          0.040000000000000036,
          -0.020000000000000018,
          0.040000000000000036,
          -0.08000000000000007,
          -0.07000000000000028,
          -0.09000000000000075,
          0.07000000000000028,
          -0.10000000000000009,
          0.03000000000000025,
          0.04999999999999982,
          0.009999999999999787,
          -0.03000000000000025,
          0,
          0.020000000000000462,
          0,
          -0.009999999999999787,
          -0.029999999999999805,
          -0.040000000000000036,
          0.07000000000000028,
          -0.020000000000000018,
          -0.03000000000000025,
          0.05000000000000071,
          -0.10999999999999988,
          -0.10999999999999988,
          -0.020000000000000018,
          -0.07000000000000028,
          0,
          0.040000000000000036,
          0.05000000000000071,
          -0.050000000000000266,
          0.040000000000000036,
          0.1200000000000001,
          0.020000000000000018,
          0.0699999999999994,
          0.029999999999999805,
          -0.04999999999999982,
          -0.03000000000000025,
          -0.020000000000000462,
          -0.03000000000000025,
          0,
          0,
          -0.019999999999999574,
          -0.009999999999999787,
          0.040000000000000036,
          0.04999999999999982,
          -0.040000000000000036,
          0.1299999999999999,
          0.009999999999999787,
          -0.03000000000000025,
          0.03000000000000025,
          0.06999999999999984,
          0.009999999999999787,
          -0.009999999999999787,
          -0.009999999999999787,
          0.05000000000000071,
          0,
          -0.06000000000000005,
          0.06000000000000005,
          -0.020000000000000462,
          0.019999999999999574,
          0.019999999999999574,
          0.040000000000000036,
          -0.009999999999999787,
          0,
          -0.040000000000000036,
          -0.08000000000000007,
          0.050000000000000266,
          -0.10000000000000009,
          -0.06000000000000005,
          0.040000000000000036,
          0.04999999999999982,
          -0.009999999999999787,
          0,
          -0.040000000000000036,
          -0.009999999999999787,
          0.040000000000000036,
          -0.010000000000000231,
          0,
          -0.029999999999999805,
          -0.009999999999999787,
          -0.06000000000000005,
          -0.04999999999999982,
          -0.06000000000000005,
          0.03000000000000025,
          0.009999999999999787,
          -0.040000000000000036,
          -0.010000000000000675,
          0.040000000000000036,
          -0.03000000000000025,
          0.009999999999999787,
          -0.009999999999999787,
          0,
          -0.06000000000000005,
          -0.03000000000000025,
          -0.020000000000000018,
          0.040000000000000036,
          0.029999999999999805,
          0.03000000000000025,
          0.040000000000000036,
          0.03000000000000025,
          -0.040000000000000036,
          0.010000000000000675,
          0.040000000000000036,
          -0.050000000000000266,
          0.06000000000000005,
          -0.08999999999999986,
          0.009999999999999787,
          -0.010000000000000231,
          -0.04999999999999982,
          0.009999999999999787,
          0.009999999999999787,
          0,
          0,
          0.040000000000000036,
          -0.050000000000000266,
          0.029999999999999805,
          0.04999999999999982,
          0.05000000000000071,
          0.050000000000000266,
          0.010000000000000675,
          -0.03000000000000025,
          -0.02999999999999936,
          0.009999999999999787,
          0.09000000000000075,
          0.040000000000000036,
          0.08000000000000007,
          0.010000000000000231,
          -0.050000000000000266,
          0.0900000000000003,
          0.07000000000000028,
          0.040000000000000036,
          0.010000000000000675,
          0.08999999999999986,
          0.010000000000000231,
          0.040000000000000036,
          -0.040000000000000036,
          -0.08000000000000007,
          0.009999999999999787,
          0,
          0.09999999999999964,
          -0.04999999999999982,
          -0.04999999999999982,
          -0.029999999999999805,
          0.05999999999999961,
          0.04999999999999982,
          -0.04999999999999982,
          0.029999999999999805,
          -0.009999999999999787,
          0.16999999999999993,
          -0.06999999999999984,
          0.010000000000000675,
          0.019999999999999574,
          0.020000000000000018,
          0.06000000000000005,
          -0.03000000000000025,
          -0.04999999999999982,
          -0.019999999999999574,
          0,
          -0.09999999999999964,
          -0.029999999999999805,
          0.009999999999999787,
          0.009999999999999787,
          -0.03000000000000025,
          -0.06000000000000005,
          -0.050000000000000266,
          -0.050000000000000266,
          -0.029999999999999805,
          -0.06999999999999984,
          0.020000000000000018,
          -0.040000000000000036,
          -0.1200000000000001,
          0.020000000000000018,
          0.029999999999999805,
          -0.040000000000000036,
          0.04999999999999982,
          -0.1200000000000001,
          -0.009999999999999787,
          -0.03000000000000025,
          -0.08999999999999986,
          0.040000000000000036,
          0.020000000000000018,
          0.08000000000000007,
          0.050000000000000266,
          0.06000000000000005,
          0.020000000000000018,
          -0.02999999999999936,
          -0.019999999999999574,
          -0.06000000000000005,
          -0.019999999999999574,
          -0.020000000000000018,
          -0.020000000000000018,
          -0.11000000000000032,
          -0.050000000000000266,
          -0.03000000000000025,
          0,
          -0.05999999999999961,
          -0.029999999999999805,
          0.010000000000000231,
          0.03000000000000025,
          0.06000000000000005,
          0.009999999999999787,
          0.05999999999999961,
          0.020000000000000018,
          -0.04999999999999982,
          0.020000000000000018,
          0.06000000000000005,
          0.03000000000000025,
          -0.009999999999999787,
          0,
          -0.019999999999999574,
          -0.020000000000000462,
          0.0600000000000005,
          0.019999999999999574,
          -0.020000000000000018,
          0.05999999999999961,
          -0.03000000000000025,
          0,
          -0.07999999999999963,
          -0.04999999999999982,
          -0.020000000000000018,
          -0.03000000000000025,
          -0.03000000000000025,
          -0.020000000000000018,
          -0.029999999999999805,
          -0.10000000000000009,
          0,
          0.0699999999999994,
          0.009999999999999787,
          -0.009999999999999787,
          -0.009999999999999787,
          -0.020000000000000018,
          -0.009999999999999787,
          0.029999999999999805,
          -0.11999999999999966,
          -0.009999999999999787,
          0.06000000000000005,
          0.02999999999999936,
          0.009999999999999787,
          0.009999999999999787,
          -0.1200000000000001,
          -0.019999999999999574,
          -0.040000000000000036,
          0.08999999999999986,
          0,
          -0.04999999999999982,
          0.08000000000000007,
          -0.040000000000000036,
          0.04999999999999982,
          0,
          -0.019999999999999574,
          0.04999999999999982,
          -0.03000000000000025,
          -0.07000000000000028,
          0.020000000000000018,
          0.010000000000000231,
          -0.009999999999999787,
          0.1200000000000001,
          -0.020000000000000462,
          0,
          0.04999999999999982,
          -0.029999999999999805,
          -0.10999999999999988,
          0.040000000000000036,
          0.02999999999999936,
          0,
          0.06000000000000005,
          -0.020000000000000018,
          -0.009999999999999787,
          0.04999999999999982,
          0.020000000000000018,
          0,
          0.020000000000000462,
          -0.04999999999999982,
          -0.040000000000000036,
          0.020000000000000018,
          0,
          0.010000000000000231,
          -0.07000000000000028,
          -0.04999999999999982,
          -0.040000000000000036,
          -0.04999999999999982,
          0.07000000000000028,
          0.06000000000000005,
          -0.019999999999999574,
          -0.04999999999999982,
          -0.010000000000000231,
          0.009999999999999787
         ],
         "xaxis": "x",
         "yaxis": "y"
        }
       ],
       "layout": {
        "barmode": "relative",
        "height": 600,
        "legend": {
         "tracegroupgap": 0
        },
        "template": {
         "data": {
          "bar": [
           {
            "error_x": {
             "color": "#2a3f5f"
            },
            "error_y": {
             "color": "#2a3f5f"
            },
            "marker": {
             "line": {
              "color": "#E5ECF6",
              "width": 0.5
             }
            },
            "type": "bar"
           }
          ],
          "barpolar": [
           {
            "marker": {
             "line": {
              "color": "#E5ECF6",
              "width": 0.5
             }
            },
            "type": "barpolar"
           }
          ],
          "carpet": [
           {
            "aaxis": {
             "endlinecolor": "#2a3f5f",
             "gridcolor": "white",
             "linecolor": "white",
             "minorgridcolor": "white",
             "startlinecolor": "#2a3f5f"
            },
            "baxis": {
             "endlinecolor": "#2a3f5f",
             "gridcolor": "white",
             "linecolor": "white",
             "minorgridcolor": "white",
             "startlinecolor": "#2a3f5f"
            },
            "type": "carpet"
           }
          ],
          "choropleth": [
           {
            "colorbar": {
             "outlinewidth": 0,
             "ticks": ""
            },
            "type": "choropleth"
           }
          ],
          "contour": [
           {
            "colorbar": {
             "outlinewidth": 0,
             "ticks": ""
            },
            "colorscale": [
             [
              0,
              "#0d0887"
             ],
             [
              0.1111111111111111,
              "#46039f"
             ],
             [
              0.2222222222222222,
              "#7201a8"
             ],
             [
              0.3333333333333333,
              "#9c179e"
             ],
             [
              0.4444444444444444,
              "#bd3786"
             ],
             [
              0.5555555555555556,
              "#d8576b"
             ],
             [
              0.6666666666666666,
              "#ed7953"
             ],
             [
              0.7777777777777778,
              "#fb9f3a"
             ],
             [
              0.8888888888888888,
              "#fdca26"
             ],
             [
              1,
              "#f0f921"
             ]
            ],
            "type": "contour"
           }
          ],
          "contourcarpet": [
           {
            "colorbar": {
             "outlinewidth": 0,
             "ticks": ""
            },
            "type": "contourcarpet"
           }
          ],
          "heatmap": [
           {
            "colorbar": {
             "outlinewidth": 0,
             "ticks": ""
            },
            "colorscale": [
             [
              0,
              "#0d0887"
             ],
             [
              0.1111111111111111,
              "#46039f"
             ],
             [
              0.2222222222222222,
              "#7201a8"
             ],
             [
              0.3333333333333333,
              "#9c179e"
             ],
             [
              0.4444444444444444,
              "#bd3786"
             ],
             [
              0.5555555555555556,
              "#d8576b"
             ],
             [
              0.6666666666666666,
              "#ed7953"
             ],
             [
              0.7777777777777778,
              "#fb9f3a"
             ],
             [
              0.8888888888888888,
              "#fdca26"
             ],
             [
              1,
              "#f0f921"
             ]
            ],
            "type": "heatmap"
           }
          ],
          "heatmapgl": [
           {
            "colorbar": {
             "outlinewidth": 0,
             "ticks": ""
            },
            "colorscale": [
             [
              0,
              "#0d0887"
             ],
             [
              0.1111111111111111,
              "#46039f"
             ],
             [
              0.2222222222222222,
              "#7201a8"
             ],
             [
              0.3333333333333333,
              "#9c179e"
             ],
             [
              0.4444444444444444,
              "#bd3786"
             ],
             [
              0.5555555555555556,
              "#d8576b"
             ],
             [
              0.6666666666666666,
              "#ed7953"
             ],
             [
              0.7777777777777778,
              "#fb9f3a"
             ],
             [
              0.8888888888888888,
              "#fdca26"
             ],
             [
              1,
              "#f0f921"
             ]
            ],
            "type": "heatmapgl"
           }
          ],
          "histogram": [
           {
            "marker": {
             "colorbar": {
              "outlinewidth": 0,
              "ticks": ""
             }
            },
            "type": "histogram"
           }
          ],
          "histogram2d": [
           {
            "colorbar": {
             "outlinewidth": 0,
             "ticks": ""
            },
            "colorscale": [
             [
              0,
              "#0d0887"
             ],
             [
              0.1111111111111111,
              "#46039f"
             ],
             [
              0.2222222222222222,
              "#7201a8"
             ],
             [
              0.3333333333333333,
              "#9c179e"
             ],
             [
              0.4444444444444444,
              "#bd3786"
             ],
             [
              0.5555555555555556,
              "#d8576b"
             ],
             [
              0.6666666666666666,
              "#ed7953"
             ],
             [
              0.7777777777777778,
              "#fb9f3a"
             ],
             [
              0.8888888888888888,
              "#fdca26"
             ],
             [
              1,
              "#f0f921"
             ]
            ],
            "type": "histogram2d"
           }
          ],
          "histogram2dcontour": [
           {
            "colorbar": {
             "outlinewidth": 0,
             "ticks": ""
            },
            "colorscale": [
             [
              0,
              "#0d0887"
             ],
             [
              0.1111111111111111,
              "#46039f"
             ],
             [
              0.2222222222222222,
              "#7201a8"
             ],
             [
              0.3333333333333333,
              "#9c179e"
             ],
             [
              0.4444444444444444,
              "#bd3786"
             ],
             [
              0.5555555555555556,
              "#d8576b"
             ],
             [
              0.6666666666666666,
              "#ed7953"
             ],
             [
              0.7777777777777778,
              "#fb9f3a"
             ],
             [
              0.8888888888888888,
              "#fdca26"
             ],
             [
              1,
              "#f0f921"
             ]
            ],
            "type": "histogram2dcontour"
           }
          ],
          "mesh3d": [
           {
            "colorbar": {
             "outlinewidth": 0,
             "ticks": ""
            },
            "type": "mesh3d"
           }
          ],
          "parcoords": [
           {
            "line": {
             "colorbar": {
              "outlinewidth": 0,
              "ticks": ""
             }
            },
            "type": "parcoords"
           }
          ],
          "scatter": [
           {
            "marker": {
             "colorbar": {
              "outlinewidth": 0,
              "ticks": ""
             }
            },
            "type": "scatter"
           }
          ],
          "scatter3d": [
           {
            "line": {
             "colorbar": {
              "outlinewidth": 0,
              "ticks": ""
             }
            },
            "marker": {
             "colorbar": {
              "outlinewidth": 0,
              "ticks": ""
             }
            },
            "type": "scatter3d"
           }
          ],
          "scattercarpet": [
           {
            "marker": {
             "colorbar": {
              "outlinewidth": 0,
              "ticks": ""
             }
            },
            "type": "scattercarpet"
           }
          ],
          "scattergeo": [
           {
            "marker": {
             "colorbar": {
              "outlinewidth": 0,
              "ticks": ""
             }
            },
            "type": "scattergeo"
           }
          ],
          "scattergl": [
           {
            "marker": {
             "colorbar": {
              "outlinewidth": 0,
              "ticks": ""
             }
            },
            "type": "scattergl"
           }
          ],
          "scattermapbox": [
           {
            "marker": {
             "colorbar": {
              "outlinewidth": 0,
              "ticks": ""
             }
            },
            "type": "scattermapbox"
           }
          ],
          "scatterpolar": [
           {
            "marker": {
             "colorbar": {
              "outlinewidth": 0,
              "ticks": ""
             }
            },
            "type": "scatterpolar"
           }
          ],
          "scatterpolargl": [
           {
            "marker": {
             "colorbar": {
              "outlinewidth": 0,
              "ticks": ""
             }
            },
            "type": "scatterpolargl"
           }
          ],
          "scatterternary": [
           {
            "marker": {
             "colorbar": {
              "outlinewidth": 0,
              "ticks": ""
             }
            },
            "type": "scatterternary"
           }
          ],
          "surface": [
           {
            "colorbar": {
             "outlinewidth": 0,
             "ticks": ""
            },
            "colorscale": [
             [
              0,
              "#0d0887"
             ],
             [
              0.1111111111111111,
              "#46039f"
             ],
             [
              0.2222222222222222,
              "#7201a8"
             ],
             [
              0.3333333333333333,
              "#9c179e"
             ],
             [
              0.4444444444444444,
              "#bd3786"
             ],
             [
              0.5555555555555556,
              "#d8576b"
             ],
             [
              0.6666666666666666,
              "#ed7953"
             ],
             [
              0.7777777777777778,
              "#fb9f3a"
             ],
             [
              0.8888888888888888,
              "#fdca26"
             ],
             [
              1,
              "#f0f921"
             ]
            ],
            "type": "surface"
           }
          ],
          "table": [
           {
            "cells": {
             "fill": {
              "color": "#EBF0F8"
             },
             "line": {
              "color": "white"
             }
            },
            "header": {
             "fill": {
              "color": "#C8D4E3"
             },
             "line": {
              "color": "white"
             }
            },
            "type": "table"
           }
          ]
         },
         "layout": {
          "annotationdefaults": {
           "arrowcolor": "#2a3f5f",
           "arrowhead": 0,
           "arrowwidth": 1
          },
          "colorscale": {
           "diverging": [
            [
             0,
             "#8e0152"
            ],
            [
             0.1,
             "#c51b7d"
            ],
            [
             0.2,
             "#de77ae"
            ],
            [
             0.3,
             "#f1b6da"
            ],
            [
             0.4,
             "#fde0ef"
            ],
            [
             0.5,
             "#f7f7f7"
            ],
            [
             0.6,
             "#e6f5d0"
            ],
            [
             0.7,
             "#b8e186"
            ],
            [
             0.8,
             "#7fbc41"
            ],
            [
             0.9,
             "#4d9221"
            ],
            [
             1,
             "#276419"
            ]
           ],
           "sequential": [
            [
             0,
             "#0d0887"
            ],
            [
             0.1111111111111111,
             "#46039f"
            ],
            [
             0.2222222222222222,
             "#7201a8"
            ],
            [
             0.3333333333333333,
             "#9c179e"
            ],
            [
             0.4444444444444444,
             "#bd3786"
            ],
            [
             0.5555555555555556,
             "#d8576b"
            ],
            [
             0.6666666666666666,
             "#ed7953"
            ],
            [
             0.7777777777777778,
             "#fb9f3a"
            ],
            [
             0.8888888888888888,
             "#fdca26"
            ],
            [
             1,
             "#f0f921"
            ]
           ],
           "sequentialminus": [
            [
             0,
             "#0d0887"
            ],
            [
             0.1111111111111111,
             "#46039f"
            ],
            [
             0.2222222222222222,
             "#7201a8"
            ],
            [
             0.3333333333333333,
             "#9c179e"
            ],
            [
             0.4444444444444444,
             "#bd3786"
            ],
            [
             0.5555555555555556,
             "#d8576b"
            ],
            [
             0.6666666666666666,
             "#ed7953"
            ],
            [
             0.7777777777777778,
             "#fb9f3a"
            ],
            [
             0.8888888888888888,
             "#fdca26"
            ],
            [
             1,
             "#f0f921"
            ]
           ]
          },
          "colorway": [
           "#636efa",
           "#EF553B",
           "#00cc96",
           "#ab63fa",
           "#FFA15A",
           "#19d3f3",
           "#FF6692",
           "#B6E880",
           "#FF97FF",
           "#FECB52"
          ],
          "font": {
           "color": "#2a3f5f"
          },
          "geo": {
           "bgcolor": "white",
           "lakecolor": "white",
           "landcolor": "#E5ECF6",
           "showlakes": true,
           "showland": true,
           "subunitcolor": "white"
          },
          "hoverlabel": {
           "align": "left"
          },
          "hovermode": "closest",
          "mapbox": {
           "style": "light"
          },
          "paper_bgcolor": "white",
          "plot_bgcolor": "#E5ECF6",
          "polar": {
           "angularaxis": {
            "gridcolor": "white",
            "linecolor": "white",
            "ticks": ""
           },
           "bgcolor": "#E5ECF6",
           "radialaxis": {
            "gridcolor": "white",
            "linecolor": "white",
            "ticks": ""
           }
          },
          "scene": {
           "xaxis": {
            "backgroundcolor": "#E5ECF6",
            "gridcolor": "white",
            "gridwidth": 2,
            "linecolor": "white",
            "showbackground": true,
            "ticks": "",
            "zerolinecolor": "white"
           },
           "yaxis": {
            "backgroundcolor": "#E5ECF6",
            "gridcolor": "white",
            "gridwidth": 2,
            "linecolor": "white",
            "showbackground": true,
            "ticks": "",
            "zerolinecolor": "white"
           },
           "zaxis": {
            "backgroundcolor": "#E5ECF6",
            "gridcolor": "white",
            "gridwidth": 2,
            "linecolor": "white",
            "showbackground": true,
            "ticks": "",
            "zerolinecolor": "white"
           }
          },
          "shapedefaults": {
           "line": {
            "color": "#2a3f5f"
           }
          },
          "ternary": {
           "aaxis": {
            "gridcolor": "white",
            "linecolor": "white",
            "ticks": ""
           },
           "baxis": {
            "gridcolor": "white",
            "linecolor": "white",
            "ticks": ""
           },
           "bgcolor": "#E5ECF6",
           "caxis": {
            "gridcolor": "white",
            "linecolor": "white",
            "ticks": ""
           }
          },
          "title": {
           "x": 0.05
          },
          "xaxis": {
           "automargin": true,
           "gridcolor": "white",
           "linecolor": "white",
           "ticks": "",
           "zerolinecolor": "white",
           "zerolinewidth": 2
          },
          "yaxis": {
           "automargin": true,
           "gridcolor": "white",
           "linecolor": "white",
           "ticks": "",
           "zerolinecolor": "white",
           "zerolinewidth": 2
          }
         }
        },
        "title": {
         "text": "DLA Difference Histogram for Usual Care"
        },
        "xaxis": {
         "anchor": "y",
         "domain": [
          0,
          0.98
         ],
         "title": {
          "text": "DLA_Diff"
         }
        },
        "yaxis": {
         "anchor": "x",
         "domain": [
          0,
          1
         ],
         "title": {
          "text": "count"
         }
        }
       }
      },
      "text/html": [
       "<div>\n",
       "        \n",
       "        \n",
       "            <div id=\"9b083979-f9be-41b2-b71e-8f72ed3eb86b\" class=\"plotly-graph-div\" style=\"height:600px; width:100%;\"></div>\n",
       "            <script type=\"text/javascript\">\n",
       "                require([\"plotly\"], function(Plotly) {\n",
       "                    window.PLOTLYENV=window.PLOTLYENV || {};\n",
       "                    \n",
       "                if (document.getElementById(\"9b083979-f9be-41b2-b71e-8f72ed3eb86b\")) {\n",
       "                    Plotly.newPlot(\n",
       "                        '9b083979-f9be-41b2-b71e-8f72ed3eb86b',\n",
       "                        [{\"alignmentgroup\": \"True\", \"bingroup\": \"x\", \"hoverlabel\": {\"namelength\": 0}, \"hovertemplate\": \"DLA_Diff=%{x}<br>count=%{y}\", \"legendgroup\": \"\", \"marker\": {\"color\": \"#636efa\"}, \"name\": \"\", \"offsetgroup\": \"\", \"orientation\": \"v\", \"showlegend\": false, \"type\": \"histogram\", \"x\": [0.05999999999999961, 0.05999999999999961, -0.019999999999999574, -0.040000000000000036, -0.05000000000000071, -0.020000000000000018, 0.08000000000000007, 0.0, -0.029999999999999805, 0.04999999999999982, -0.08999999999999986, 0.02999999999999936, 0.019999999999999574, 0.020000000000000018, -0.010000000000000231, 0.010000000000000231, 0.010000000000000231, -0.009999999999999787, 0.05999999999999961, -0.10000000000000053, -0.03000000000000025, -0.010000000000000675, 0.040000000000000036, -0.03000000000000025, -0.04999999999999982, 0.010000000000000231, 0.10000000000000009, -0.10000000000000053, 0.0, -0.050000000000000266, -0.04999999999999982, 0.020000000000000018, 0.010000000000000231, -0.009999999999999787, 0.06000000000000005, 0.0, 0.06000000000000005, -0.10000000000000009, -0.019999999999999574, 0.020000000000000018, -0.0600000000000005, -0.08999999999999986, -0.020000000000000018, 0.08000000000000007, -0.04999999999999982, 0.040000000000000036, -0.05999999999999961, -0.040000000000000036, -0.009999999999999787, 0.040000000000000036, -0.020000000000000018, 0.040000000000000036, -0.08000000000000007, -0.07000000000000028, -0.09000000000000075, 0.07000000000000028, -0.10000000000000009, 0.03000000000000025, 0.04999999999999982, 0.009999999999999787, -0.03000000000000025, 0.0, 0.020000000000000462, 0.0, -0.009999999999999787, -0.029999999999999805, -0.040000000000000036, 0.07000000000000028, -0.020000000000000018, -0.03000000000000025, 0.05000000000000071, -0.10999999999999988, -0.10999999999999988, -0.020000000000000018, -0.07000000000000028, 0.0, 0.040000000000000036, 0.05000000000000071, -0.050000000000000266, 0.040000000000000036, 0.1200000000000001, 0.020000000000000018, 0.0699999999999994, 0.029999999999999805, -0.04999999999999982, -0.03000000000000025, -0.020000000000000462, -0.03000000000000025, 0.0, 0.0, -0.019999999999999574, -0.009999999999999787, 0.040000000000000036, 0.04999999999999982, -0.040000000000000036, 0.1299999999999999, 0.009999999999999787, -0.03000000000000025, 0.03000000000000025, 0.06999999999999984, 0.009999999999999787, -0.009999999999999787, -0.009999999999999787, 0.05000000000000071, 0.0, -0.06000000000000005, 0.06000000000000005, -0.020000000000000462, 0.019999999999999574, 0.019999999999999574, 0.040000000000000036, -0.009999999999999787, 0.0, -0.040000000000000036, -0.08000000000000007, 0.050000000000000266, -0.10000000000000009, -0.06000000000000005, 0.040000000000000036, 0.04999999999999982, -0.009999999999999787, 0.0, -0.040000000000000036, -0.009999999999999787, 0.040000000000000036, -0.010000000000000231, 0.0, -0.029999999999999805, -0.009999999999999787, -0.06000000000000005, -0.04999999999999982, -0.06000000000000005, 0.03000000000000025, 0.009999999999999787, -0.040000000000000036, -0.010000000000000675, 0.040000000000000036, -0.03000000000000025, 0.009999999999999787, -0.009999999999999787, 0.0, -0.06000000000000005, -0.03000000000000025, -0.020000000000000018, 0.040000000000000036, 0.029999999999999805, 0.03000000000000025, 0.040000000000000036, 0.03000000000000025, -0.040000000000000036, 0.010000000000000675, 0.040000000000000036, -0.050000000000000266, 0.06000000000000005, -0.08999999999999986, 0.009999999999999787, -0.010000000000000231, -0.04999999999999982, 0.009999999999999787, 0.009999999999999787, 0.0, 0.0, 0.040000000000000036, -0.050000000000000266, 0.029999999999999805, 0.04999999999999982, 0.05000000000000071, 0.050000000000000266, 0.010000000000000675, -0.03000000000000025, -0.02999999999999936, 0.009999999999999787, 0.09000000000000075, 0.040000000000000036, 0.08000000000000007, 0.010000000000000231, -0.050000000000000266, 0.0900000000000003, 0.07000000000000028, 0.040000000000000036, 0.010000000000000675, 0.08999999999999986, 0.010000000000000231, 0.040000000000000036, -0.040000000000000036, -0.08000000000000007, 0.009999999999999787, 0.0, 0.09999999999999964, -0.04999999999999982, -0.04999999999999982, -0.029999999999999805, 0.05999999999999961, 0.04999999999999982, -0.04999999999999982, 0.029999999999999805, -0.009999999999999787, 0.16999999999999993, -0.06999999999999984, 0.010000000000000675, 0.019999999999999574, 0.020000000000000018, 0.06000000000000005, -0.03000000000000025, -0.04999999999999982, -0.019999999999999574, 0.0, -0.09999999999999964, -0.029999999999999805, 0.009999999999999787, 0.009999999999999787, -0.03000000000000025, -0.06000000000000005, -0.050000000000000266, -0.050000000000000266, -0.029999999999999805, -0.06999999999999984, 0.020000000000000018, -0.040000000000000036, -0.1200000000000001, 0.020000000000000018, 0.029999999999999805, -0.040000000000000036, 0.04999999999999982, -0.1200000000000001, -0.009999999999999787, -0.03000000000000025, -0.08999999999999986, 0.040000000000000036, 0.020000000000000018, 0.08000000000000007, 0.050000000000000266, 0.06000000000000005, 0.020000000000000018, -0.02999999999999936, -0.019999999999999574, -0.06000000000000005, -0.019999999999999574, -0.020000000000000018, -0.020000000000000018, -0.11000000000000032, -0.050000000000000266, -0.03000000000000025, 0.0, -0.05999999999999961, -0.029999999999999805, 0.010000000000000231, 0.03000000000000025, 0.06000000000000005, 0.009999999999999787, 0.05999999999999961, 0.020000000000000018, -0.04999999999999982, 0.020000000000000018, 0.06000000000000005, 0.03000000000000025, -0.009999999999999787, 0.0, -0.019999999999999574, -0.020000000000000462, 0.0600000000000005, 0.019999999999999574, -0.020000000000000018, 0.05999999999999961, -0.03000000000000025, 0.0, -0.07999999999999963, -0.04999999999999982, -0.020000000000000018, -0.03000000000000025, -0.03000000000000025, -0.020000000000000018, -0.029999999999999805, -0.10000000000000009, 0.0, 0.0699999999999994, 0.009999999999999787, -0.009999999999999787, -0.009999999999999787, -0.020000000000000018, -0.009999999999999787, 0.029999999999999805, -0.11999999999999966, -0.009999999999999787, 0.06000000000000005, 0.02999999999999936, 0.009999999999999787, 0.009999999999999787, -0.1200000000000001, -0.019999999999999574, -0.040000000000000036, 0.08999999999999986, 0.0, -0.04999999999999982, 0.08000000000000007, -0.040000000000000036, 0.04999999999999982, 0.0, -0.019999999999999574, 0.04999999999999982, -0.03000000000000025, -0.07000000000000028, 0.020000000000000018, 0.010000000000000231, -0.009999999999999787, 0.1200000000000001, -0.020000000000000462, 0.0, 0.04999999999999982, -0.029999999999999805, -0.10999999999999988, 0.040000000000000036, 0.02999999999999936, 0.0, 0.06000000000000005, -0.020000000000000018, -0.009999999999999787, 0.04999999999999982, 0.020000000000000018, 0.0, 0.020000000000000462, -0.04999999999999982, -0.040000000000000036, 0.020000000000000018, 0.0, 0.010000000000000231, -0.07000000000000028, -0.04999999999999982, -0.040000000000000036, -0.04999999999999982, 0.07000000000000028, 0.06000000000000005, -0.019999999999999574, -0.04999999999999982, -0.010000000000000231, 0.009999999999999787], \"xaxis\": \"x\", \"yaxis\": \"y\"}],\n",
       "                        {\"barmode\": \"relative\", \"height\": 600, \"legend\": {\"tracegroupgap\": 0}, \"template\": {\"data\": {\"bar\": [{\"error_x\": {\"color\": \"#2a3f5f\"}, \"error_y\": {\"color\": \"#2a3f5f\"}, \"marker\": {\"line\": {\"color\": \"#E5ECF6\", \"width\": 0.5}}, \"type\": \"bar\"}], \"barpolar\": [{\"marker\": {\"line\": {\"color\": \"#E5ECF6\", \"width\": 0.5}}, \"type\": \"barpolar\"}], \"carpet\": [{\"aaxis\": {\"endlinecolor\": \"#2a3f5f\", \"gridcolor\": \"white\", \"linecolor\": \"white\", \"minorgridcolor\": \"white\", \"startlinecolor\": \"#2a3f5f\"}, \"baxis\": {\"endlinecolor\": \"#2a3f5f\", \"gridcolor\": \"white\", \"linecolor\": \"white\", \"minorgridcolor\": \"white\", \"startlinecolor\": \"#2a3f5f\"}, \"type\": \"carpet\"}], \"choropleth\": [{\"colorbar\": {\"outlinewidth\": 0, \"ticks\": \"\"}, \"type\": \"choropleth\"}], \"contour\": [{\"colorbar\": {\"outlinewidth\": 0, \"ticks\": \"\"}, \"colorscale\": [[0.0, \"#0d0887\"], [0.1111111111111111, \"#46039f\"], [0.2222222222222222, \"#7201a8\"], [0.3333333333333333, \"#9c179e\"], [0.4444444444444444, \"#bd3786\"], [0.5555555555555556, \"#d8576b\"], [0.6666666666666666, \"#ed7953\"], [0.7777777777777778, \"#fb9f3a\"], [0.8888888888888888, \"#fdca26\"], [1.0, \"#f0f921\"]], \"type\": \"contour\"}], \"contourcarpet\": [{\"colorbar\": {\"outlinewidth\": 0, \"ticks\": \"\"}, \"type\": \"contourcarpet\"}], \"heatmap\": [{\"colorbar\": {\"outlinewidth\": 0, \"ticks\": \"\"}, \"colorscale\": [[0.0, \"#0d0887\"], [0.1111111111111111, \"#46039f\"], [0.2222222222222222, \"#7201a8\"], [0.3333333333333333, \"#9c179e\"], [0.4444444444444444, \"#bd3786\"], [0.5555555555555556, \"#d8576b\"], [0.6666666666666666, \"#ed7953\"], [0.7777777777777778, \"#fb9f3a\"], [0.8888888888888888, \"#fdca26\"], [1.0, \"#f0f921\"]], \"type\": \"heatmap\"}], \"heatmapgl\": [{\"colorbar\": {\"outlinewidth\": 0, \"ticks\": \"\"}, \"colorscale\": [[0.0, \"#0d0887\"], [0.1111111111111111, \"#46039f\"], [0.2222222222222222, \"#7201a8\"], [0.3333333333333333, \"#9c179e\"], [0.4444444444444444, \"#bd3786\"], [0.5555555555555556, \"#d8576b\"], [0.6666666666666666, \"#ed7953\"], [0.7777777777777778, \"#fb9f3a\"], [0.8888888888888888, \"#fdca26\"], [1.0, \"#f0f921\"]], \"type\": \"heatmapgl\"}], \"histogram\": [{\"marker\": {\"colorbar\": {\"outlinewidth\": 0, \"ticks\": \"\"}}, \"type\": \"histogram\"}], \"histogram2d\": [{\"colorbar\": {\"outlinewidth\": 0, \"ticks\": \"\"}, \"colorscale\": [[0.0, \"#0d0887\"], [0.1111111111111111, \"#46039f\"], [0.2222222222222222, \"#7201a8\"], [0.3333333333333333, \"#9c179e\"], [0.4444444444444444, \"#bd3786\"], [0.5555555555555556, \"#d8576b\"], [0.6666666666666666, \"#ed7953\"], [0.7777777777777778, \"#fb9f3a\"], [0.8888888888888888, \"#fdca26\"], [1.0, \"#f0f921\"]], \"type\": \"histogram2d\"}], \"histogram2dcontour\": [{\"colorbar\": {\"outlinewidth\": 0, \"ticks\": \"\"}, \"colorscale\": [[0.0, \"#0d0887\"], [0.1111111111111111, \"#46039f\"], [0.2222222222222222, \"#7201a8\"], [0.3333333333333333, \"#9c179e\"], [0.4444444444444444, \"#bd3786\"], [0.5555555555555556, \"#d8576b\"], [0.6666666666666666, \"#ed7953\"], [0.7777777777777778, \"#fb9f3a\"], [0.8888888888888888, \"#fdca26\"], [1.0, \"#f0f921\"]], \"type\": \"histogram2dcontour\"}], \"mesh3d\": [{\"colorbar\": {\"outlinewidth\": 0, \"ticks\": \"\"}, \"type\": \"mesh3d\"}], \"parcoords\": [{\"line\": {\"colorbar\": {\"outlinewidth\": 0, \"ticks\": \"\"}}, \"type\": \"parcoords\"}], \"scatter\": [{\"marker\": {\"colorbar\": {\"outlinewidth\": 0, \"ticks\": \"\"}}, \"type\": \"scatter\"}], \"scatter3d\": [{\"line\": {\"colorbar\": {\"outlinewidth\": 0, \"ticks\": \"\"}}, \"marker\": {\"colorbar\": {\"outlinewidth\": 0, \"ticks\": \"\"}}, \"type\": \"scatter3d\"}], \"scattercarpet\": [{\"marker\": {\"colorbar\": {\"outlinewidth\": 0, \"ticks\": \"\"}}, \"type\": \"scattercarpet\"}], \"scattergeo\": [{\"marker\": {\"colorbar\": {\"outlinewidth\": 0, \"ticks\": \"\"}}, \"type\": \"scattergeo\"}], \"scattergl\": [{\"marker\": {\"colorbar\": {\"outlinewidth\": 0, \"ticks\": \"\"}}, \"type\": \"scattergl\"}], \"scattermapbox\": [{\"marker\": {\"colorbar\": {\"outlinewidth\": 0, \"ticks\": \"\"}}, \"type\": \"scattermapbox\"}], \"scatterpolar\": [{\"marker\": {\"colorbar\": {\"outlinewidth\": 0, \"ticks\": \"\"}}, \"type\": \"scatterpolar\"}], \"scatterpolargl\": [{\"marker\": {\"colorbar\": {\"outlinewidth\": 0, \"ticks\": \"\"}}, \"type\": \"scatterpolargl\"}], \"scatterternary\": [{\"marker\": {\"colorbar\": {\"outlinewidth\": 0, \"ticks\": \"\"}}, \"type\": \"scatterternary\"}], \"surface\": [{\"colorbar\": {\"outlinewidth\": 0, \"ticks\": \"\"}, \"colorscale\": [[0.0, \"#0d0887\"], [0.1111111111111111, \"#46039f\"], [0.2222222222222222, \"#7201a8\"], [0.3333333333333333, \"#9c179e\"], [0.4444444444444444, \"#bd3786\"], [0.5555555555555556, \"#d8576b\"], [0.6666666666666666, \"#ed7953\"], [0.7777777777777778, \"#fb9f3a\"], [0.8888888888888888, \"#fdca26\"], [1.0, \"#f0f921\"]], \"type\": \"surface\"}], \"table\": [{\"cells\": {\"fill\": {\"color\": \"#EBF0F8\"}, \"line\": {\"color\": \"white\"}}, \"header\": {\"fill\": {\"color\": \"#C8D4E3\"}, \"line\": {\"color\": \"white\"}}, \"type\": \"table\"}]}, \"layout\": {\"annotationdefaults\": {\"arrowcolor\": \"#2a3f5f\", \"arrowhead\": 0, \"arrowwidth\": 1}, \"colorscale\": {\"diverging\": [[0, \"#8e0152\"], [0.1, \"#c51b7d\"], [0.2, \"#de77ae\"], [0.3, \"#f1b6da\"], [0.4, \"#fde0ef\"], [0.5, \"#f7f7f7\"], [0.6, \"#e6f5d0\"], [0.7, \"#b8e186\"], [0.8, \"#7fbc41\"], [0.9, \"#4d9221\"], [1, \"#276419\"]], \"sequential\": [[0.0, \"#0d0887\"], [0.1111111111111111, \"#46039f\"], [0.2222222222222222, \"#7201a8\"], [0.3333333333333333, \"#9c179e\"], [0.4444444444444444, \"#bd3786\"], [0.5555555555555556, \"#d8576b\"], [0.6666666666666666, \"#ed7953\"], [0.7777777777777778, \"#fb9f3a\"], [0.8888888888888888, \"#fdca26\"], [1.0, \"#f0f921\"]], \"sequentialminus\": [[0.0, \"#0d0887\"], [0.1111111111111111, \"#46039f\"], [0.2222222222222222, \"#7201a8\"], [0.3333333333333333, \"#9c179e\"], [0.4444444444444444, \"#bd3786\"], [0.5555555555555556, \"#d8576b\"], [0.6666666666666666, \"#ed7953\"], [0.7777777777777778, \"#fb9f3a\"], [0.8888888888888888, \"#fdca26\"], [1.0, \"#f0f921\"]]}, \"colorway\": [\"#636efa\", \"#EF553B\", \"#00cc96\", \"#ab63fa\", \"#FFA15A\", \"#19d3f3\", \"#FF6692\", \"#B6E880\", \"#FF97FF\", \"#FECB52\"], \"font\": {\"color\": \"#2a3f5f\"}, \"geo\": {\"bgcolor\": \"white\", \"lakecolor\": \"white\", \"landcolor\": \"#E5ECF6\", \"showlakes\": true, \"showland\": true, \"subunitcolor\": \"white\"}, \"hoverlabel\": {\"align\": \"left\"}, \"hovermode\": \"closest\", \"mapbox\": {\"style\": \"light\"}, \"paper_bgcolor\": \"white\", \"plot_bgcolor\": \"#E5ECF6\", \"polar\": {\"angularaxis\": {\"gridcolor\": \"white\", \"linecolor\": \"white\", \"ticks\": \"\"}, \"bgcolor\": \"#E5ECF6\", \"radialaxis\": {\"gridcolor\": \"white\", \"linecolor\": \"white\", \"ticks\": \"\"}}, \"scene\": {\"xaxis\": {\"backgroundcolor\": \"#E5ECF6\", \"gridcolor\": \"white\", \"gridwidth\": 2, \"linecolor\": \"white\", \"showbackground\": true, \"ticks\": \"\", \"zerolinecolor\": \"white\"}, \"yaxis\": {\"backgroundcolor\": \"#E5ECF6\", \"gridcolor\": \"white\", \"gridwidth\": 2, \"linecolor\": \"white\", \"showbackground\": true, \"ticks\": \"\", \"zerolinecolor\": \"white\"}, \"zaxis\": {\"backgroundcolor\": \"#E5ECF6\", \"gridcolor\": \"white\", \"gridwidth\": 2, \"linecolor\": \"white\", \"showbackground\": true, \"ticks\": \"\", \"zerolinecolor\": \"white\"}}, \"shapedefaults\": {\"line\": {\"color\": \"#2a3f5f\"}}, \"ternary\": {\"aaxis\": {\"gridcolor\": \"white\", \"linecolor\": \"white\", \"ticks\": \"\"}, \"baxis\": {\"gridcolor\": \"white\", \"linecolor\": \"white\", \"ticks\": \"\"}, \"bgcolor\": \"#E5ECF6\", \"caxis\": {\"gridcolor\": \"white\", \"linecolor\": \"white\", \"ticks\": \"\"}}, \"title\": {\"x\": 0.05}, \"xaxis\": {\"automargin\": true, \"gridcolor\": \"white\", \"linecolor\": \"white\", \"ticks\": \"\", \"zerolinecolor\": \"white\", \"zerolinewidth\": 2}, \"yaxis\": {\"automargin\": true, \"gridcolor\": \"white\", \"linecolor\": \"white\", \"ticks\": \"\", \"zerolinecolor\": \"white\", \"zerolinewidth\": 2}}}, \"title\": {\"text\": \"DLA Difference Histogram for Usual Care\"}, \"xaxis\": {\"anchor\": \"y\", \"domain\": [0.0, 0.98], \"title\": {\"text\": \"DLA_Diff\"}}, \"yaxis\": {\"anchor\": \"x\", \"domain\": [0.0, 1.0], \"title\": {\"text\": \"count\"}}},\n",
       "                        {\"responsive\": true}\n",
       "                    ).then(function(){\n",
       "                            \n",
       "var gd = document.getElementById('9b083979-f9be-41b2-b71e-8f72ed3eb86b');\n",
       "var x = new MutationObserver(function (mutations, observer) {{\n",
       "        var display = window.getComputedStyle(gd).display;\n",
       "        if (!display || display === 'none') {{\n",
       "            console.log([gd, 'removed!']);\n",
       "            Plotly.purge(gd);\n",
       "            observer.disconnect();\n",
       "        }}\n",
       "}});\n",
       "\n",
       "// Listen for the removal of the full notebook cells\n",
       "var notebookContainer = gd.closest('#notebook-container');\n",
       "if (notebookContainer) {{\n",
       "    x.observe(notebookContainer, {childList: true});\n",
       "}}\n",
       "\n",
       "// Listen for the clearing of the current output cell\n",
       "var outputEl = gd.closest('.output');\n",
       "if (outputEl) {{\n",
       "    x.observe(outputEl, {childList: true});\n",
       "}}\n",
       "\n",
       "                        })\n",
       "                };\n",
       "                });\n",
       "            </script>\n",
       "        </div>"
      ]
     },
     "metadata": {},
     "output_type": "display_data"
    }
   ],
   "source": [
    "# PLot histogram of DLA_Diff for UsualCare\n",
    "px.histogram(df_usual, x='DLA_Diff', \n",
    "            title='DLA Difference Histogram for Usual Care')\n"
   ]
  },
  {
   "cell_type": "code",
   "execution_count": 32,
   "metadata": {},
   "outputs": [
    {
     "data": {
      "application/vnd.plotly.v1+json": {
       "config": {
        "plotlyServerURL": "https://plot.ly"
       },
       "data": [
        {
         "alignmentgroup": "True",
         "bingroup": "x",
         "hoverlabel": {
          "namelength": 0
         },
         "hovertemplate": "DLA_Diff=%{x}<br>count=%{y}",
         "legendgroup": "",
         "marker": {
          "color": "#636efa"
         },
         "name": "",
         "offsetgroup": "",
         "orientation": "v",
         "showlegend": false,
         "type": "histogram",
         "x": [
          0.43999999999999995,
          0.45999999999999996,
          0.6100000000000003,
          0.34999999999999964,
          0.5099999999999998,
          0.5099999999999998,
          0.9499999999999997,
          0.6699999999999999,
          0.4900000000000002,
          0.4499999999999993,
          0.28000000000000025,
          0.5499999999999998,
          0.35000000000000053,
          0.6100000000000003,
          0.6699999999999999,
          0.28000000000000025,
          0.6699999999999995,
          0.5499999999999998,
          0.33000000000000007,
          0.33000000000000007,
          0.71,
          0.4899999999999993,
          0.7000000000000002,
          0.5,
          0.96,
          0.45999999999999996,
          0.7899999999999996,
          0.6700000000000008,
          0.5699999999999998,
          0.2799999999999998,
          0.6600000000000001,
          0.8200000000000003,
          0.8699999999999997,
          0.31999999999999984,
          0.6599999999999997,
          0.81,
          0.2699999999999996,
          0.75,
          0.8799999999999999,
          0.94,
          0.43999999999999995,
          0.45999999999999996,
          0.71,
          0.71,
          0.2400000000000002,
          0.8799999999999999,
          0.45999999999999996,
          0.45999999999999996,
          0.23999999999999977,
          0.71,
          0.8399999999999999,
          0.7100000000000004,
          0.2699999999999996,
          0.6799999999999997,
          0.7600000000000002,
          0.5300000000000002,
          0.43999999999999995,
          0.4900000000000002,
          0.45999999999999996,
          0.5099999999999998,
          0.4499999999999993,
          0.5499999999999998,
          0.5700000000000003,
          0.7100000000000004,
          0.4499999999999993,
          0.4499999999999993,
          0.7200000000000002,
          0.6099999999999999,
          0.5700000000000003,
          0.6100000000000003,
          0.7799999999999994,
          0.69,
          0.7200000000000002,
          0.54,
          0.54,
          0.8299999999999996,
          0.77,
          0.6600000000000001,
          0.4599999999999995,
          0.6099999999999994,
          0.2400000000000002,
          0.7000000000000002,
          0.5299999999999998,
          0.8099999999999996,
          0.4500000000000002,
          0.71,
          0.6500000000000004,
          0.96,
          0.43999999999999995,
          0.4500000000000002,
          0.6900000000000004,
          0.4500000000000002,
          0.71,
          0.4400000000000004,
          0.45999999999999996,
          0.34999999999999964,
          0.6099999999999994,
          0.6499999999999999,
          0.43999999999999995,
          0.8800000000000003,
          0.31999999999999984,
          0.6099999999999999,
          0.6700000000000004,
          0.6699999999999999,
          0.54,
          0.5700000000000003,
          0.5300000000000002,
          0.6699999999999999,
          0.2799999999999998,
          0.45999999999999996,
          0.71,
          0.2699999999999996,
          0.8900000000000001,
          0.4500000000000002,
          0.31999999999999984,
          0.6499999999999995,
          0.2400000000000002,
          0.7499999999999996,
          0.8599999999999994,
          0.4500000000000002,
          0.43999999999999995,
          0.9600000000000004,
          0.7300000000000004,
          0.5299999999999998,
          0.8800000000000003,
          0.6599999999999997,
          0.8599999999999994,
          0.5099999999999998,
          0.7700000000000005,
          0.8399999999999999,
          0.6200000000000001,
          0.44999999999999973,
          0.45999999999999996,
          0.6999999999999993,
          0.6500000000000004,
          0.6600000000000001,
          0.9199999999999999,
          0.7400000000000002,
          0.5,
          0.5,
          0.7400000000000002,
          0.6099999999999999,
          0.8600000000000003
         ],
         "xaxis": "x",
         "yaxis": "y"
        }
       ],
       "layout": {
        "barmode": "relative",
        "height": 600,
        "legend": {
         "tracegroupgap": 0
        },
        "template": {
         "data": {
          "bar": [
           {
            "error_x": {
             "color": "#2a3f5f"
            },
            "error_y": {
             "color": "#2a3f5f"
            },
            "marker": {
             "line": {
              "color": "#E5ECF6",
              "width": 0.5
             }
            },
            "type": "bar"
           }
          ],
          "barpolar": [
           {
            "marker": {
             "line": {
              "color": "#E5ECF6",
              "width": 0.5
             }
            },
            "type": "barpolar"
           }
          ],
          "carpet": [
           {
            "aaxis": {
             "endlinecolor": "#2a3f5f",
             "gridcolor": "white",
             "linecolor": "white",
             "minorgridcolor": "white",
             "startlinecolor": "#2a3f5f"
            },
            "baxis": {
             "endlinecolor": "#2a3f5f",
             "gridcolor": "white",
             "linecolor": "white",
             "minorgridcolor": "white",
             "startlinecolor": "#2a3f5f"
            },
            "type": "carpet"
           }
          ],
          "choropleth": [
           {
            "colorbar": {
             "outlinewidth": 0,
             "ticks": ""
            },
            "type": "choropleth"
           }
          ],
          "contour": [
           {
            "colorbar": {
             "outlinewidth": 0,
             "ticks": ""
            },
            "colorscale": [
             [
              0,
              "#0d0887"
             ],
             [
              0.1111111111111111,
              "#46039f"
             ],
             [
              0.2222222222222222,
              "#7201a8"
             ],
             [
              0.3333333333333333,
              "#9c179e"
             ],
             [
              0.4444444444444444,
              "#bd3786"
             ],
             [
              0.5555555555555556,
              "#d8576b"
             ],
             [
              0.6666666666666666,
              "#ed7953"
             ],
             [
              0.7777777777777778,
              "#fb9f3a"
             ],
             [
              0.8888888888888888,
              "#fdca26"
             ],
             [
              1,
              "#f0f921"
             ]
            ],
            "type": "contour"
           }
          ],
          "contourcarpet": [
           {
            "colorbar": {
             "outlinewidth": 0,
             "ticks": ""
            },
            "type": "contourcarpet"
           }
          ],
          "heatmap": [
           {
            "colorbar": {
             "outlinewidth": 0,
             "ticks": ""
            },
            "colorscale": [
             [
              0,
              "#0d0887"
             ],
             [
              0.1111111111111111,
              "#46039f"
             ],
             [
              0.2222222222222222,
              "#7201a8"
             ],
             [
              0.3333333333333333,
              "#9c179e"
             ],
             [
              0.4444444444444444,
              "#bd3786"
             ],
             [
              0.5555555555555556,
              "#d8576b"
             ],
             [
              0.6666666666666666,
              "#ed7953"
             ],
             [
              0.7777777777777778,
              "#fb9f3a"
             ],
             [
              0.8888888888888888,
              "#fdca26"
             ],
             [
              1,
              "#f0f921"
             ]
            ],
            "type": "heatmap"
           }
          ],
          "heatmapgl": [
           {
            "colorbar": {
             "outlinewidth": 0,
             "ticks": ""
            },
            "colorscale": [
             [
              0,
              "#0d0887"
             ],
             [
              0.1111111111111111,
              "#46039f"
             ],
             [
              0.2222222222222222,
              "#7201a8"
             ],
             [
              0.3333333333333333,
              "#9c179e"
             ],
             [
              0.4444444444444444,
              "#bd3786"
             ],
             [
              0.5555555555555556,
              "#d8576b"
             ],
             [
              0.6666666666666666,
              "#ed7953"
             ],
             [
              0.7777777777777778,
              "#fb9f3a"
             ],
             [
              0.8888888888888888,
              "#fdca26"
             ],
             [
              1,
              "#f0f921"
             ]
            ],
            "type": "heatmapgl"
           }
          ],
          "histogram": [
           {
            "marker": {
             "colorbar": {
              "outlinewidth": 0,
              "ticks": ""
             }
            },
            "type": "histogram"
           }
          ],
          "histogram2d": [
           {
            "colorbar": {
             "outlinewidth": 0,
             "ticks": ""
            },
            "colorscale": [
             [
              0,
              "#0d0887"
             ],
             [
              0.1111111111111111,
              "#46039f"
             ],
             [
              0.2222222222222222,
              "#7201a8"
             ],
             [
              0.3333333333333333,
              "#9c179e"
             ],
             [
              0.4444444444444444,
              "#bd3786"
             ],
             [
              0.5555555555555556,
              "#d8576b"
             ],
             [
              0.6666666666666666,
              "#ed7953"
             ],
             [
              0.7777777777777778,
              "#fb9f3a"
             ],
             [
              0.8888888888888888,
              "#fdca26"
             ],
             [
              1,
              "#f0f921"
             ]
            ],
            "type": "histogram2d"
           }
          ],
          "histogram2dcontour": [
           {
            "colorbar": {
             "outlinewidth": 0,
             "ticks": ""
            },
            "colorscale": [
             [
              0,
              "#0d0887"
             ],
             [
              0.1111111111111111,
              "#46039f"
             ],
             [
              0.2222222222222222,
              "#7201a8"
             ],
             [
              0.3333333333333333,
              "#9c179e"
             ],
             [
              0.4444444444444444,
              "#bd3786"
             ],
             [
              0.5555555555555556,
              "#d8576b"
             ],
             [
              0.6666666666666666,
              "#ed7953"
             ],
             [
              0.7777777777777778,
              "#fb9f3a"
             ],
             [
              0.8888888888888888,
              "#fdca26"
             ],
             [
              1,
              "#f0f921"
             ]
            ],
            "type": "histogram2dcontour"
           }
          ],
          "mesh3d": [
           {
            "colorbar": {
             "outlinewidth": 0,
             "ticks": ""
            },
            "type": "mesh3d"
           }
          ],
          "parcoords": [
           {
            "line": {
             "colorbar": {
              "outlinewidth": 0,
              "ticks": ""
             }
            },
            "type": "parcoords"
           }
          ],
          "scatter": [
           {
            "marker": {
             "colorbar": {
              "outlinewidth": 0,
              "ticks": ""
             }
            },
            "type": "scatter"
           }
          ],
          "scatter3d": [
           {
            "line": {
             "colorbar": {
              "outlinewidth": 0,
              "ticks": ""
             }
            },
            "marker": {
             "colorbar": {
              "outlinewidth": 0,
              "ticks": ""
             }
            },
            "type": "scatter3d"
           }
          ],
          "scattercarpet": [
           {
            "marker": {
             "colorbar": {
              "outlinewidth": 0,
              "ticks": ""
             }
            },
            "type": "scattercarpet"
           }
          ],
          "scattergeo": [
           {
            "marker": {
             "colorbar": {
              "outlinewidth": 0,
              "ticks": ""
             }
            },
            "type": "scattergeo"
           }
          ],
          "scattergl": [
           {
            "marker": {
             "colorbar": {
              "outlinewidth": 0,
              "ticks": ""
             }
            },
            "type": "scattergl"
           }
          ],
          "scattermapbox": [
           {
            "marker": {
             "colorbar": {
              "outlinewidth": 0,
              "ticks": ""
             }
            },
            "type": "scattermapbox"
           }
          ],
          "scatterpolar": [
           {
            "marker": {
             "colorbar": {
              "outlinewidth": 0,
              "ticks": ""
             }
            },
            "type": "scatterpolar"
           }
          ],
          "scatterpolargl": [
           {
            "marker": {
             "colorbar": {
              "outlinewidth": 0,
              "ticks": ""
             }
            },
            "type": "scatterpolargl"
           }
          ],
          "scatterternary": [
           {
            "marker": {
             "colorbar": {
              "outlinewidth": 0,
              "ticks": ""
             }
            },
            "type": "scatterternary"
           }
          ],
          "surface": [
           {
            "colorbar": {
             "outlinewidth": 0,
             "ticks": ""
            },
            "colorscale": [
             [
              0,
              "#0d0887"
             ],
             [
              0.1111111111111111,
              "#46039f"
             ],
             [
              0.2222222222222222,
              "#7201a8"
             ],
             [
              0.3333333333333333,
              "#9c179e"
             ],
             [
              0.4444444444444444,
              "#bd3786"
             ],
             [
              0.5555555555555556,
              "#d8576b"
             ],
             [
              0.6666666666666666,
              "#ed7953"
             ],
             [
              0.7777777777777778,
              "#fb9f3a"
             ],
             [
              0.8888888888888888,
              "#fdca26"
             ],
             [
              1,
              "#f0f921"
             ]
            ],
            "type": "surface"
           }
          ],
          "table": [
           {
            "cells": {
             "fill": {
              "color": "#EBF0F8"
             },
             "line": {
              "color": "white"
             }
            },
            "header": {
             "fill": {
              "color": "#C8D4E3"
             },
             "line": {
              "color": "white"
             }
            },
            "type": "table"
           }
          ]
         },
         "layout": {
          "annotationdefaults": {
           "arrowcolor": "#2a3f5f",
           "arrowhead": 0,
           "arrowwidth": 1
          },
          "colorscale": {
           "diverging": [
            [
             0,
             "#8e0152"
            ],
            [
             0.1,
             "#c51b7d"
            ],
            [
             0.2,
             "#de77ae"
            ],
            [
             0.3,
             "#f1b6da"
            ],
            [
             0.4,
             "#fde0ef"
            ],
            [
             0.5,
             "#f7f7f7"
            ],
            [
             0.6,
             "#e6f5d0"
            ],
            [
             0.7,
             "#b8e186"
            ],
            [
             0.8,
             "#7fbc41"
            ],
            [
             0.9,
             "#4d9221"
            ],
            [
             1,
             "#276419"
            ]
           ],
           "sequential": [
            [
             0,
             "#0d0887"
            ],
            [
             0.1111111111111111,
             "#46039f"
            ],
            [
             0.2222222222222222,
             "#7201a8"
            ],
            [
             0.3333333333333333,
             "#9c179e"
            ],
            [
             0.4444444444444444,
             "#bd3786"
            ],
            [
             0.5555555555555556,
             "#d8576b"
            ],
            [
             0.6666666666666666,
             "#ed7953"
            ],
            [
             0.7777777777777778,
             "#fb9f3a"
            ],
            [
             0.8888888888888888,
             "#fdca26"
            ],
            [
             1,
             "#f0f921"
            ]
           ],
           "sequentialminus": [
            [
             0,
             "#0d0887"
            ],
            [
             0.1111111111111111,
             "#46039f"
            ],
            [
             0.2222222222222222,
             "#7201a8"
            ],
            [
             0.3333333333333333,
             "#9c179e"
            ],
            [
             0.4444444444444444,
             "#bd3786"
            ],
            [
             0.5555555555555556,
             "#d8576b"
            ],
            [
             0.6666666666666666,
             "#ed7953"
            ],
            [
             0.7777777777777778,
             "#fb9f3a"
            ],
            [
             0.8888888888888888,
             "#fdca26"
            ],
            [
             1,
             "#f0f921"
            ]
           ]
          },
          "colorway": [
           "#636efa",
           "#EF553B",
           "#00cc96",
           "#ab63fa",
           "#FFA15A",
           "#19d3f3",
           "#FF6692",
           "#B6E880",
           "#FF97FF",
           "#FECB52"
          ],
          "font": {
           "color": "#2a3f5f"
          },
          "geo": {
           "bgcolor": "white",
           "lakecolor": "white",
           "landcolor": "#E5ECF6",
           "showlakes": true,
           "showland": true,
           "subunitcolor": "white"
          },
          "hoverlabel": {
           "align": "left"
          },
          "hovermode": "closest",
          "mapbox": {
           "style": "light"
          },
          "paper_bgcolor": "white",
          "plot_bgcolor": "#E5ECF6",
          "polar": {
           "angularaxis": {
            "gridcolor": "white",
            "linecolor": "white",
            "ticks": ""
           },
           "bgcolor": "#E5ECF6",
           "radialaxis": {
            "gridcolor": "white",
            "linecolor": "white",
            "ticks": ""
           }
          },
          "scene": {
           "xaxis": {
            "backgroundcolor": "#E5ECF6",
            "gridcolor": "white",
            "gridwidth": 2,
            "linecolor": "white",
            "showbackground": true,
            "ticks": "",
            "zerolinecolor": "white"
           },
           "yaxis": {
            "backgroundcolor": "#E5ECF6",
            "gridcolor": "white",
            "gridwidth": 2,
            "linecolor": "white",
            "showbackground": true,
            "ticks": "",
            "zerolinecolor": "white"
           },
           "zaxis": {
            "backgroundcolor": "#E5ECF6",
            "gridcolor": "white",
            "gridwidth": 2,
            "linecolor": "white",
            "showbackground": true,
            "ticks": "",
            "zerolinecolor": "white"
           }
          },
          "shapedefaults": {
           "line": {
            "color": "#2a3f5f"
           }
          },
          "ternary": {
           "aaxis": {
            "gridcolor": "white",
            "linecolor": "white",
            "ticks": ""
           },
           "baxis": {
            "gridcolor": "white",
            "linecolor": "white",
            "ticks": ""
           },
           "bgcolor": "#E5ECF6",
           "caxis": {
            "gridcolor": "white",
            "linecolor": "white",
            "ticks": ""
           }
          },
          "title": {
           "x": 0.05
          },
          "xaxis": {
           "automargin": true,
           "gridcolor": "white",
           "linecolor": "white",
           "ticks": "",
           "zerolinecolor": "white",
           "zerolinewidth": 2
          },
          "yaxis": {
           "automargin": true,
           "gridcolor": "white",
           "linecolor": "white",
           "ticks": "",
           "zerolinecolor": "white",
           "zerolinewidth": 2
          }
         }
        },
        "title": {
         "text": "Histogram of DLA Difference for Intervention Program"
        },
        "xaxis": {
         "anchor": "y",
         "domain": [
          0,
          0.98
         ],
         "title": {
          "text": "DLA_Diff"
         }
        },
        "yaxis": {
         "anchor": "x",
         "domain": [
          0,
          1
         ],
         "title": {
          "text": "count"
         }
        }
       }
      },
      "text/html": [
       "<div>\n",
       "        \n",
       "        \n",
       "            <div id=\"df5babc3-a70e-4ca9-ba81-25f55eb7f8c2\" class=\"plotly-graph-div\" style=\"height:600px; width:100%;\"></div>\n",
       "            <script type=\"text/javascript\">\n",
       "                require([\"plotly\"], function(Plotly) {\n",
       "                    window.PLOTLYENV=window.PLOTLYENV || {};\n",
       "                    \n",
       "                if (document.getElementById(\"df5babc3-a70e-4ca9-ba81-25f55eb7f8c2\")) {\n",
       "                    Plotly.newPlot(\n",
       "                        'df5babc3-a70e-4ca9-ba81-25f55eb7f8c2',\n",
       "                        [{\"alignmentgroup\": \"True\", \"bingroup\": \"x\", \"hoverlabel\": {\"namelength\": 0}, \"hovertemplate\": \"DLA_Diff=%{x}<br>count=%{y}\", \"legendgroup\": \"\", \"marker\": {\"color\": \"#636efa\"}, \"name\": \"\", \"offsetgroup\": \"\", \"orientation\": \"v\", \"showlegend\": false, \"type\": \"histogram\", \"x\": [0.43999999999999995, 0.45999999999999996, 0.6100000000000003, 0.34999999999999964, 0.5099999999999998, 0.5099999999999998, 0.9499999999999997, 0.6699999999999999, 0.4900000000000002, 0.4499999999999993, 0.28000000000000025, 0.5499999999999998, 0.35000000000000053, 0.6100000000000003, 0.6699999999999999, 0.28000000000000025, 0.6699999999999995, 0.5499999999999998, 0.33000000000000007, 0.33000000000000007, 0.71, 0.4899999999999993, 0.7000000000000002, 0.5, 0.96, 0.45999999999999996, 0.7899999999999996, 0.6700000000000008, 0.5699999999999998, 0.2799999999999998, 0.6600000000000001, 0.8200000000000003, 0.8699999999999997, 0.31999999999999984, 0.6599999999999997, 0.81, 0.2699999999999996, 0.75, 0.8799999999999999, 0.94, 0.43999999999999995, 0.45999999999999996, 0.71, 0.71, 0.2400000000000002, 0.8799999999999999, 0.45999999999999996, 0.45999999999999996, 0.23999999999999977, 0.71, 0.8399999999999999, 0.7100000000000004, 0.2699999999999996, 0.6799999999999997, 0.7600000000000002, 0.5300000000000002, 0.43999999999999995, 0.4900000000000002, 0.45999999999999996, 0.5099999999999998, 0.4499999999999993, 0.5499999999999998, 0.5700000000000003, 0.7100000000000004, 0.4499999999999993, 0.4499999999999993, 0.7200000000000002, 0.6099999999999999, 0.5700000000000003, 0.6100000000000003, 0.7799999999999994, 0.69, 0.7200000000000002, 0.54, 0.54, 0.8299999999999996, 0.77, 0.6600000000000001, 0.4599999999999995, 0.6099999999999994, 0.2400000000000002, 0.7000000000000002, 0.5299999999999998, 0.8099999999999996, 0.4500000000000002, 0.71, 0.6500000000000004, 0.96, 0.43999999999999995, 0.4500000000000002, 0.6900000000000004, 0.4500000000000002, 0.71, 0.4400000000000004, 0.45999999999999996, 0.34999999999999964, 0.6099999999999994, 0.6499999999999999, 0.43999999999999995, 0.8800000000000003, 0.31999999999999984, 0.6099999999999999, 0.6700000000000004, 0.6699999999999999, 0.54, 0.5700000000000003, 0.5300000000000002, 0.6699999999999999, 0.2799999999999998, 0.45999999999999996, 0.71, 0.2699999999999996, 0.8900000000000001, 0.4500000000000002, 0.31999999999999984, 0.6499999999999995, 0.2400000000000002, 0.7499999999999996, 0.8599999999999994, 0.4500000000000002, 0.43999999999999995, 0.9600000000000004, 0.7300000000000004, 0.5299999999999998, 0.8800000000000003, 0.6599999999999997, 0.8599999999999994, 0.5099999999999998, 0.7700000000000005, 0.8399999999999999, 0.6200000000000001, 0.44999999999999973, 0.45999999999999996, 0.6999999999999993, 0.6500000000000004, 0.6600000000000001, 0.9199999999999999, 0.7400000000000002, 0.5, 0.5, 0.7400000000000002, 0.6099999999999999, 0.8600000000000003], \"xaxis\": \"x\", \"yaxis\": \"y\"}],\n",
       "                        {\"barmode\": \"relative\", \"height\": 600, \"legend\": {\"tracegroupgap\": 0}, \"template\": {\"data\": {\"bar\": [{\"error_x\": {\"color\": \"#2a3f5f\"}, \"error_y\": {\"color\": \"#2a3f5f\"}, \"marker\": {\"line\": {\"color\": \"#E5ECF6\", \"width\": 0.5}}, \"type\": \"bar\"}], \"barpolar\": [{\"marker\": {\"line\": {\"color\": \"#E5ECF6\", \"width\": 0.5}}, \"type\": \"barpolar\"}], \"carpet\": [{\"aaxis\": {\"endlinecolor\": \"#2a3f5f\", \"gridcolor\": \"white\", \"linecolor\": \"white\", \"minorgridcolor\": \"white\", \"startlinecolor\": \"#2a3f5f\"}, \"baxis\": {\"endlinecolor\": \"#2a3f5f\", \"gridcolor\": \"white\", \"linecolor\": \"white\", \"minorgridcolor\": \"white\", \"startlinecolor\": \"#2a3f5f\"}, \"type\": \"carpet\"}], \"choropleth\": [{\"colorbar\": {\"outlinewidth\": 0, \"ticks\": \"\"}, \"type\": \"choropleth\"}], \"contour\": [{\"colorbar\": {\"outlinewidth\": 0, \"ticks\": \"\"}, \"colorscale\": [[0.0, \"#0d0887\"], [0.1111111111111111, \"#46039f\"], [0.2222222222222222, \"#7201a8\"], [0.3333333333333333, \"#9c179e\"], [0.4444444444444444, \"#bd3786\"], [0.5555555555555556, \"#d8576b\"], [0.6666666666666666, \"#ed7953\"], [0.7777777777777778, \"#fb9f3a\"], [0.8888888888888888, \"#fdca26\"], [1.0, \"#f0f921\"]], \"type\": \"contour\"}], \"contourcarpet\": [{\"colorbar\": {\"outlinewidth\": 0, \"ticks\": \"\"}, \"type\": \"contourcarpet\"}], \"heatmap\": [{\"colorbar\": {\"outlinewidth\": 0, \"ticks\": \"\"}, \"colorscale\": [[0.0, \"#0d0887\"], [0.1111111111111111, \"#46039f\"], [0.2222222222222222, \"#7201a8\"], [0.3333333333333333, \"#9c179e\"], [0.4444444444444444, \"#bd3786\"], [0.5555555555555556, \"#d8576b\"], [0.6666666666666666, \"#ed7953\"], [0.7777777777777778, \"#fb9f3a\"], [0.8888888888888888, \"#fdca26\"], [1.0, \"#f0f921\"]], \"type\": \"heatmap\"}], \"heatmapgl\": [{\"colorbar\": {\"outlinewidth\": 0, \"ticks\": \"\"}, \"colorscale\": [[0.0, \"#0d0887\"], [0.1111111111111111, \"#46039f\"], [0.2222222222222222, \"#7201a8\"], [0.3333333333333333, \"#9c179e\"], [0.4444444444444444, \"#bd3786\"], [0.5555555555555556, \"#d8576b\"], [0.6666666666666666, \"#ed7953\"], [0.7777777777777778, \"#fb9f3a\"], [0.8888888888888888, \"#fdca26\"], [1.0, \"#f0f921\"]], \"type\": \"heatmapgl\"}], \"histogram\": [{\"marker\": {\"colorbar\": {\"outlinewidth\": 0, \"ticks\": \"\"}}, \"type\": \"histogram\"}], \"histogram2d\": [{\"colorbar\": {\"outlinewidth\": 0, \"ticks\": \"\"}, \"colorscale\": [[0.0, \"#0d0887\"], [0.1111111111111111, \"#46039f\"], [0.2222222222222222, \"#7201a8\"], [0.3333333333333333, \"#9c179e\"], [0.4444444444444444, \"#bd3786\"], [0.5555555555555556, \"#d8576b\"], [0.6666666666666666, \"#ed7953\"], [0.7777777777777778, \"#fb9f3a\"], [0.8888888888888888, \"#fdca26\"], [1.0, \"#f0f921\"]], \"type\": \"histogram2d\"}], \"histogram2dcontour\": [{\"colorbar\": {\"outlinewidth\": 0, \"ticks\": \"\"}, \"colorscale\": [[0.0, \"#0d0887\"], [0.1111111111111111, \"#46039f\"], [0.2222222222222222, \"#7201a8\"], [0.3333333333333333, \"#9c179e\"], [0.4444444444444444, \"#bd3786\"], [0.5555555555555556, \"#d8576b\"], [0.6666666666666666, \"#ed7953\"], [0.7777777777777778, \"#fb9f3a\"], [0.8888888888888888, \"#fdca26\"], [1.0, \"#f0f921\"]], \"type\": \"histogram2dcontour\"}], \"mesh3d\": [{\"colorbar\": {\"outlinewidth\": 0, \"ticks\": \"\"}, \"type\": \"mesh3d\"}], \"parcoords\": [{\"line\": {\"colorbar\": {\"outlinewidth\": 0, \"ticks\": \"\"}}, \"type\": \"parcoords\"}], \"scatter\": [{\"marker\": {\"colorbar\": {\"outlinewidth\": 0, \"ticks\": \"\"}}, \"type\": \"scatter\"}], \"scatter3d\": [{\"line\": {\"colorbar\": {\"outlinewidth\": 0, \"ticks\": \"\"}}, \"marker\": {\"colorbar\": {\"outlinewidth\": 0, \"ticks\": \"\"}}, \"type\": \"scatter3d\"}], \"scattercarpet\": [{\"marker\": {\"colorbar\": {\"outlinewidth\": 0, \"ticks\": \"\"}}, \"type\": \"scattercarpet\"}], \"scattergeo\": [{\"marker\": {\"colorbar\": {\"outlinewidth\": 0, \"ticks\": \"\"}}, \"type\": \"scattergeo\"}], \"scattergl\": [{\"marker\": {\"colorbar\": {\"outlinewidth\": 0, \"ticks\": \"\"}}, \"type\": \"scattergl\"}], \"scattermapbox\": [{\"marker\": {\"colorbar\": {\"outlinewidth\": 0, \"ticks\": \"\"}}, \"type\": \"scattermapbox\"}], \"scatterpolar\": [{\"marker\": {\"colorbar\": {\"outlinewidth\": 0, \"ticks\": \"\"}}, \"type\": \"scatterpolar\"}], \"scatterpolargl\": [{\"marker\": {\"colorbar\": {\"outlinewidth\": 0, \"ticks\": \"\"}}, \"type\": \"scatterpolargl\"}], \"scatterternary\": [{\"marker\": {\"colorbar\": {\"outlinewidth\": 0, \"ticks\": \"\"}}, \"type\": \"scatterternary\"}], \"surface\": [{\"colorbar\": {\"outlinewidth\": 0, \"ticks\": \"\"}, \"colorscale\": [[0.0, \"#0d0887\"], [0.1111111111111111, \"#46039f\"], [0.2222222222222222, \"#7201a8\"], [0.3333333333333333, \"#9c179e\"], [0.4444444444444444, \"#bd3786\"], [0.5555555555555556, \"#d8576b\"], [0.6666666666666666, \"#ed7953\"], [0.7777777777777778, \"#fb9f3a\"], [0.8888888888888888, \"#fdca26\"], [1.0, \"#f0f921\"]], \"type\": \"surface\"}], \"table\": [{\"cells\": {\"fill\": {\"color\": \"#EBF0F8\"}, \"line\": {\"color\": \"white\"}}, \"header\": {\"fill\": {\"color\": \"#C8D4E3\"}, \"line\": {\"color\": \"white\"}}, \"type\": \"table\"}]}, \"layout\": {\"annotationdefaults\": {\"arrowcolor\": \"#2a3f5f\", \"arrowhead\": 0, \"arrowwidth\": 1}, \"colorscale\": {\"diverging\": [[0, \"#8e0152\"], [0.1, \"#c51b7d\"], [0.2, \"#de77ae\"], [0.3, \"#f1b6da\"], [0.4, \"#fde0ef\"], [0.5, \"#f7f7f7\"], [0.6, \"#e6f5d0\"], [0.7, \"#b8e186\"], [0.8, \"#7fbc41\"], [0.9, \"#4d9221\"], [1, \"#276419\"]], \"sequential\": [[0.0, \"#0d0887\"], [0.1111111111111111, \"#46039f\"], [0.2222222222222222, \"#7201a8\"], [0.3333333333333333, \"#9c179e\"], [0.4444444444444444, \"#bd3786\"], [0.5555555555555556, \"#d8576b\"], [0.6666666666666666, \"#ed7953\"], [0.7777777777777778, \"#fb9f3a\"], [0.8888888888888888, \"#fdca26\"], [1.0, \"#f0f921\"]], \"sequentialminus\": [[0.0, \"#0d0887\"], [0.1111111111111111, \"#46039f\"], [0.2222222222222222, \"#7201a8\"], [0.3333333333333333, \"#9c179e\"], [0.4444444444444444, \"#bd3786\"], [0.5555555555555556, \"#d8576b\"], [0.6666666666666666, \"#ed7953\"], [0.7777777777777778, \"#fb9f3a\"], [0.8888888888888888, \"#fdca26\"], [1.0, \"#f0f921\"]]}, \"colorway\": [\"#636efa\", \"#EF553B\", \"#00cc96\", \"#ab63fa\", \"#FFA15A\", \"#19d3f3\", \"#FF6692\", \"#B6E880\", \"#FF97FF\", \"#FECB52\"], \"font\": {\"color\": \"#2a3f5f\"}, \"geo\": {\"bgcolor\": \"white\", \"lakecolor\": \"white\", \"landcolor\": \"#E5ECF6\", \"showlakes\": true, \"showland\": true, \"subunitcolor\": \"white\"}, \"hoverlabel\": {\"align\": \"left\"}, \"hovermode\": \"closest\", \"mapbox\": {\"style\": \"light\"}, \"paper_bgcolor\": \"white\", \"plot_bgcolor\": \"#E5ECF6\", \"polar\": {\"angularaxis\": {\"gridcolor\": \"white\", \"linecolor\": \"white\", \"ticks\": \"\"}, \"bgcolor\": \"#E5ECF6\", \"radialaxis\": {\"gridcolor\": \"white\", \"linecolor\": \"white\", \"ticks\": \"\"}}, \"scene\": {\"xaxis\": {\"backgroundcolor\": \"#E5ECF6\", \"gridcolor\": \"white\", \"gridwidth\": 2, \"linecolor\": \"white\", \"showbackground\": true, \"ticks\": \"\", \"zerolinecolor\": \"white\"}, \"yaxis\": {\"backgroundcolor\": \"#E5ECF6\", \"gridcolor\": \"white\", \"gridwidth\": 2, \"linecolor\": \"white\", \"showbackground\": true, \"ticks\": \"\", \"zerolinecolor\": \"white\"}, \"zaxis\": {\"backgroundcolor\": \"#E5ECF6\", \"gridcolor\": \"white\", \"gridwidth\": 2, \"linecolor\": \"white\", \"showbackground\": true, \"ticks\": \"\", \"zerolinecolor\": \"white\"}}, \"shapedefaults\": {\"line\": {\"color\": \"#2a3f5f\"}}, \"ternary\": {\"aaxis\": {\"gridcolor\": \"white\", \"linecolor\": \"white\", \"ticks\": \"\"}, \"baxis\": {\"gridcolor\": \"white\", \"linecolor\": \"white\", \"ticks\": \"\"}, \"bgcolor\": \"#E5ECF6\", \"caxis\": {\"gridcolor\": \"white\", \"linecolor\": \"white\", \"ticks\": \"\"}}, \"title\": {\"x\": 0.05}, \"xaxis\": {\"automargin\": true, \"gridcolor\": \"white\", \"linecolor\": \"white\", \"ticks\": \"\", \"zerolinecolor\": \"white\", \"zerolinewidth\": 2}, \"yaxis\": {\"automargin\": true, \"gridcolor\": \"white\", \"linecolor\": \"white\", \"ticks\": \"\", \"zerolinecolor\": \"white\", \"zerolinewidth\": 2}}}, \"title\": {\"text\": \"Histogram of DLA Difference for Intervention Program\"}, \"xaxis\": {\"anchor\": \"y\", \"domain\": [0.0, 0.98], \"title\": {\"text\": \"DLA_Diff\"}}, \"yaxis\": {\"anchor\": \"x\", \"domain\": [0.0, 1.0], \"title\": {\"text\": \"count\"}}},\n",
       "                        {\"responsive\": true}\n",
       "                    ).then(function(){\n",
       "                            \n",
       "var gd = document.getElementById('df5babc3-a70e-4ca9-ba81-25f55eb7f8c2');\n",
       "var x = new MutationObserver(function (mutations, observer) {{\n",
       "        var display = window.getComputedStyle(gd).display;\n",
       "        if (!display || display === 'none') {{\n",
       "            console.log([gd, 'removed!']);\n",
       "            Plotly.purge(gd);\n",
       "            observer.disconnect();\n",
       "        }}\n",
       "}});\n",
       "\n",
       "// Listen for the removal of the full notebook cells\n",
       "var notebookContainer = gd.closest('#notebook-container');\n",
       "if (notebookContainer) {{\n",
       "    x.observe(notebookContainer, {childList: true});\n",
       "}}\n",
       "\n",
       "// Listen for the clearing of the current output cell\n",
       "var outputEl = gd.closest('.output');\n",
       "if (outputEl) {{\n",
       "    x.observe(outputEl, {childList: true});\n",
       "}}\n",
       "\n",
       "                        })\n",
       "                };\n",
       "                });\n",
       "            </script>\n",
       "        </div>"
      ]
     },
     "metadata": {},
     "output_type": "display_data"
    }
   ],
   "source": [
    "# PLot histogram of DLA_Diff for Intervention\n",
    "px.histogram(df_intervention, x='DLA_Diff', \n",
    "              title='Histogram of DLA Difference for Intervention Program')\n"
   ]
  },
  {
   "cell_type": "code",
   "execution_count": 33,
   "metadata": {},
   "outputs": [
    {
     "data": {
      "application/vnd.plotly.v1+json": {
       "config": {
        "plotlyServerURL": "https://plot.ly"
       },
       "data": [
        {
         "alignmentgroup": "True",
         "bingroup": "x",
         "hoverlabel": {
          "namelength": 0
         },
         "hovertemplate": "Program=Intervention<br>DLA_Diff=%{x}<br>count=%{y}",
         "legendgroup": "Program=Intervention",
         "marker": {
          "color": "#636efa",
          "opacity": 0.5
         },
         "name": "Program=Intervention",
         "offsetgroup": "Program=Intervention",
         "orientation": "v",
         "showlegend": true,
         "type": "histogram",
         "x": [
          0.43999999999999995,
          0.45999999999999996,
          0.6100000000000003,
          0.34999999999999964,
          0.5099999999999998,
          0.5099999999999998,
          0.9499999999999997,
          0.6699999999999999,
          0.4900000000000002,
          0.4499999999999993,
          0.28000000000000025,
          0.5499999999999998,
          0.35000000000000053,
          0.6100000000000003,
          0.6699999999999999,
          0.28000000000000025,
          0.6699999999999995,
          0.5499999999999998,
          0.33000000000000007,
          0.33000000000000007,
          0.71,
          0.4899999999999993,
          0.7000000000000002,
          0.5,
          0.96,
          0.45999999999999996,
          0.7899999999999996,
          0.6700000000000008,
          0.5699999999999998,
          0.2799999999999998,
          0.6600000000000001,
          0.8200000000000003,
          0.8699999999999997,
          0.31999999999999984,
          0.6599999999999997,
          0.81,
          0.2699999999999996,
          0.75,
          0.8799999999999999,
          0.94,
          0.43999999999999995,
          0.45999999999999996,
          0.71,
          0.71,
          0.2400000000000002,
          0.8799999999999999,
          0.45999999999999996,
          0.45999999999999996,
          0.23999999999999977,
          0.71,
          0.8399999999999999,
          0.7100000000000004,
          0.2699999999999996,
          0.6799999999999997,
          0.7600000000000002,
          0.5300000000000002,
          0.43999999999999995,
          0.4900000000000002,
          0.45999999999999996,
          0.5099999999999998,
          0.4499999999999993,
          0.5499999999999998,
          0.5700000000000003,
          0.7100000000000004,
          0.4499999999999993,
          0.4499999999999993,
          0.7200000000000002,
          0.6099999999999999,
          0.5700000000000003,
          0.6100000000000003,
          0.7799999999999994,
          0.69,
          0.7200000000000002,
          0.54,
          0.54,
          0.8299999999999996,
          0.77,
          0.6600000000000001,
          0.4599999999999995,
          0.6099999999999994,
          0.2400000000000002,
          0.7000000000000002,
          0.5299999999999998,
          0.8099999999999996,
          0.4500000000000002,
          0.71,
          0.6500000000000004,
          0.96,
          0.43999999999999995,
          0.4500000000000002,
          0.6900000000000004,
          0.4500000000000002,
          0.71,
          0.4400000000000004,
          0.45999999999999996,
          0.34999999999999964,
          0.6099999999999994,
          0.6499999999999999,
          0.43999999999999995,
          0.8800000000000003,
          0.31999999999999984,
          0.6099999999999999,
          0.6700000000000004,
          0.6699999999999999,
          0.54,
          0.5700000000000003,
          0.5300000000000002,
          0.6699999999999999,
          0.2799999999999998,
          0.45999999999999996,
          0.71,
          0.2699999999999996,
          0.8900000000000001,
          0.4500000000000002,
          0.31999999999999984,
          0.6499999999999995,
          0.2400000000000002,
          0.7499999999999996,
          0.8599999999999994,
          0.4500000000000002,
          0.43999999999999995,
          0.9600000000000004,
          0.7300000000000004,
          0.5299999999999998,
          0.8800000000000003,
          0.6599999999999997,
          0.8599999999999994,
          0.5099999999999998,
          0.7700000000000005,
          0.8399999999999999,
          0.6200000000000001,
          0.44999999999999973,
          0.45999999999999996,
          0.6999999999999993,
          0.6500000000000004,
          0.6600000000000001,
          0.9199999999999999,
          0.7400000000000002,
          0.5,
          0.5,
          0.7400000000000002,
          0.6099999999999999,
          0.8600000000000003
         ],
         "xaxis": "x",
         "yaxis": "y"
        },
        {
         "alignmentgroup": "True",
         "bingroup": "x",
         "hoverlabel": {
          "namelength": 0
         },
         "hovertemplate": "Program=UsualCare<br>DLA_Diff=%{x}<br>count=%{y}",
         "legendgroup": "Program=UsualCare",
         "marker": {
          "color": "#EF553B",
          "opacity": 0.5
         },
         "name": "Program=UsualCare",
         "offsetgroup": "Program=UsualCare",
         "orientation": "v",
         "showlegend": true,
         "type": "histogram",
         "x": [
          0.05999999999999961,
          0.05999999999999961,
          -0.019999999999999574,
          -0.040000000000000036,
          -0.05000000000000071,
          -0.020000000000000018,
          0.08000000000000007,
          0,
          -0.029999999999999805,
          0.04999999999999982,
          -0.08999999999999986,
          0.02999999999999936,
          0.019999999999999574,
          0.020000000000000018,
          -0.010000000000000231,
          0.010000000000000231,
          0.010000000000000231,
          -0.009999999999999787,
          0.05999999999999961,
          -0.10000000000000053,
          -0.03000000000000025,
          -0.010000000000000675,
          0.040000000000000036,
          -0.03000000000000025,
          -0.04999999999999982,
          0.010000000000000231,
          0.10000000000000009,
          -0.10000000000000053,
          0,
          -0.050000000000000266,
          -0.04999999999999982,
          0.020000000000000018,
          0.010000000000000231,
          -0.009999999999999787,
          0.06000000000000005,
          0,
          0.06000000000000005,
          -0.10000000000000009,
          -0.019999999999999574,
          0.020000000000000018,
          -0.0600000000000005,
          -0.08999999999999986,
          -0.020000000000000018,
          0.08000000000000007,
          -0.04999999999999982,
          0.040000000000000036,
          -0.05999999999999961,
          -0.040000000000000036,
          -0.009999999999999787,
          0.040000000000000036,
          -0.020000000000000018,
          0.040000000000000036,
          -0.08000000000000007,
          -0.07000000000000028,
          -0.09000000000000075,
          0.07000000000000028,
          -0.10000000000000009,
          0.03000000000000025,
          0.04999999999999982,
          0.009999999999999787,
          -0.03000000000000025,
          0,
          0.020000000000000462,
          0,
          -0.009999999999999787,
          -0.029999999999999805,
          -0.040000000000000036,
          0.07000000000000028,
          -0.020000000000000018,
          -0.03000000000000025,
          0.05000000000000071,
          -0.10999999999999988,
          -0.10999999999999988,
          -0.020000000000000018,
          -0.07000000000000028,
          0,
          0.040000000000000036,
          0.05000000000000071,
          -0.050000000000000266,
          0.040000000000000036,
          0.1200000000000001,
          0.020000000000000018,
          0.0699999999999994,
          0.029999999999999805,
          -0.04999999999999982,
          -0.03000000000000025,
          -0.020000000000000462,
          -0.03000000000000025,
          0,
          0,
          -0.019999999999999574,
          -0.009999999999999787,
          0.040000000000000036,
          0.04999999999999982,
          -0.040000000000000036,
          0.1299999999999999,
          0.009999999999999787,
          -0.03000000000000025,
          0.03000000000000025,
          0.06999999999999984,
          0.009999999999999787,
          -0.009999999999999787,
          -0.009999999999999787,
          0.05000000000000071,
          0,
          -0.06000000000000005,
          0.06000000000000005,
          -0.020000000000000462,
          0.019999999999999574,
          0.019999999999999574,
          0.040000000000000036,
          -0.009999999999999787,
          0,
          -0.040000000000000036,
          -0.08000000000000007,
          0.050000000000000266,
          -0.10000000000000009,
          -0.06000000000000005,
          0.040000000000000036,
          0.04999999999999982,
          -0.009999999999999787,
          0,
          -0.040000000000000036,
          -0.009999999999999787,
          0.040000000000000036,
          -0.010000000000000231,
          0,
          -0.029999999999999805,
          -0.009999999999999787,
          -0.06000000000000005,
          -0.04999999999999982,
          -0.06000000000000005,
          0.03000000000000025,
          0.009999999999999787,
          -0.040000000000000036,
          -0.010000000000000675,
          0.040000000000000036,
          -0.03000000000000025,
          0.009999999999999787,
          -0.009999999999999787,
          0,
          -0.06000000000000005,
          -0.03000000000000025,
          -0.020000000000000018,
          0.040000000000000036,
          0.029999999999999805,
          0.03000000000000025,
          0.040000000000000036,
          0.03000000000000025,
          -0.040000000000000036,
          0.010000000000000675,
          0.040000000000000036,
          -0.050000000000000266,
          0.06000000000000005,
          -0.08999999999999986,
          0.009999999999999787,
          -0.010000000000000231,
          -0.04999999999999982,
          0.009999999999999787,
          0.009999999999999787,
          0,
          0,
          0.040000000000000036,
          -0.050000000000000266,
          0.029999999999999805,
          0.04999999999999982,
          0.05000000000000071,
          0.050000000000000266,
          0.010000000000000675,
          -0.03000000000000025,
          -0.02999999999999936,
          0.009999999999999787,
          0.09000000000000075,
          0.040000000000000036,
          0.08000000000000007,
          0.010000000000000231,
          -0.050000000000000266,
          0.0900000000000003,
          0.07000000000000028,
          0.040000000000000036,
          0.010000000000000675,
          0.08999999999999986,
          0.010000000000000231,
          0.040000000000000036,
          -0.040000000000000036,
          -0.08000000000000007,
          0.009999999999999787,
          0,
          0.09999999999999964,
          -0.04999999999999982,
          -0.04999999999999982,
          -0.029999999999999805,
          0.05999999999999961,
          0.04999999999999982,
          -0.04999999999999982,
          0.029999999999999805,
          -0.009999999999999787,
          0.16999999999999993,
          -0.06999999999999984,
          0.010000000000000675,
          0.019999999999999574,
          0.020000000000000018,
          0.06000000000000005,
          -0.03000000000000025,
          -0.04999999999999982,
          -0.019999999999999574,
          0,
          -0.09999999999999964,
          -0.029999999999999805,
          0.009999999999999787,
          0.009999999999999787,
          -0.03000000000000025,
          -0.06000000000000005,
          -0.050000000000000266,
          -0.050000000000000266,
          -0.029999999999999805,
          -0.06999999999999984,
          0.020000000000000018,
          -0.040000000000000036,
          -0.1200000000000001,
          0.020000000000000018,
          0.029999999999999805,
          -0.040000000000000036,
          0.04999999999999982,
          -0.1200000000000001,
          -0.009999999999999787,
          -0.03000000000000025,
          -0.08999999999999986,
          0.040000000000000036,
          0.020000000000000018,
          0.08000000000000007,
          0.050000000000000266,
          0.06000000000000005,
          0.020000000000000018,
          -0.02999999999999936,
          -0.019999999999999574,
          -0.06000000000000005,
          -0.019999999999999574,
          -0.020000000000000018,
          -0.020000000000000018,
          -0.11000000000000032,
          -0.050000000000000266,
          -0.03000000000000025,
          0,
          -0.05999999999999961,
          -0.029999999999999805,
          0.010000000000000231,
          0.03000000000000025,
          0.06000000000000005,
          0.009999999999999787,
          0.05999999999999961,
          0.020000000000000018,
          -0.04999999999999982,
          0.020000000000000018,
          0.06000000000000005,
          0.03000000000000025,
          -0.009999999999999787,
          0,
          -0.019999999999999574,
          -0.020000000000000462,
          0.0600000000000005,
          0.019999999999999574,
          -0.020000000000000018,
          0.05999999999999961,
          -0.03000000000000025,
          0,
          -0.07999999999999963,
          -0.04999999999999982,
          -0.020000000000000018,
          -0.03000000000000025,
          -0.03000000000000025,
          -0.020000000000000018,
          -0.029999999999999805,
          -0.10000000000000009,
          0,
          0.0699999999999994,
          0.009999999999999787,
          -0.009999999999999787,
          -0.009999999999999787,
          -0.020000000000000018,
          -0.009999999999999787,
          0.029999999999999805,
          -0.11999999999999966,
          -0.009999999999999787,
          0.06000000000000005,
          0.02999999999999936,
          0.009999999999999787,
          0.009999999999999787,
          -0.1200000000000001,
          -0.019999999999999574,
          -0.040000000000000036,
          0.08999999999999986,
          0,
          -0.04999999999999982,
          0.08000000000000007,
          -0.040000000000000036,
          0.04999999999999982,
          0,
          -0.019999999999999574,
          0.04999999999999982,
          -0.03000000000000025,
          -0.07000000000000028,
          0.020000000000000018,
          0.010000000000000231,
          -0.009999999999999787,
          0.1200000000000001,
          -0.020000000000000462,
          0,
          0.04999999999999982,
          -0.029999999999999805,
          -0.10999999999999988,
          0.040000000000000036,
          0.02999999999999936,
          0,
          0.06000000000000005,
          -0.020000000000000018,
          -0.009999999999999787,
          0.04999999999999982,
          0.020000000000000018,
          0,
          0.020000000000000462,
          -0.04999999999999982,
          -0.040000000000000036,
          0.020000000000000018,
          0,
          0.010000000000000231,
          -0.07000000000000028,
          -0.04999999999999982,
          -0.040000000000000036,
          -0.04999999999999982,
          0.07000000000000028,
          0.06000000000000005,
          -0.019999999999999574,
          -0.04999999999999982,
          -0.010000000000000231,
          0.009999999999999787
         ],
         "xaxis": "x",
         "yaxis": "y"
        }
       ],
       "layout": {
        "barmode": "overlay",
        "height": 600,
        "legend": {
         "tracegroupgap": 0
        },
        "template": {
         "data": {
          "bar": [
           {
            "error_x": {
             "color": "#2a3f5f"
            },
            "error_y": {
             "color": "#2a3f5f"
            },
            "marker": {
             "line": {
              "color": "#E5ECF6",
              "width": 0.5
             }
            },
            "type": "bar"
           }
          ],
          "barpolar": [
           {
            "marker": {
             "line": {
              "color": "#E5ECF6",
              "width": 0.5
             }
            },
            "type": "barpolar"
           }
          ],
          "carpet": [
           {
            "aaxis": {
             "endlinecolor": "#2a3f5f",
             "gridcolor": "white",
             "linecolor": "white",
             "minorgridcolor": "white",
             "startlinecolor": "#2a3f5f"
            },
            "baxis": {
             "endlinecolor": "#2a3f5f",
             "gridcolor": "white",
             "linecolor": "white",
             "minorgridcolor": "white",
             "startlinecolor": "#2a3f5f"
            },
            "type": "carpet"
           }
          ],
          "choropleth": [
           {
            "colorbar": {
             "outlinewidth": 0,
             "ticks": ""
            },
            "type": "choropleth"
           }
          ],
          "contour": [
           {
            "colorbar": {
             "outlinewidth": 0,
             "ticks": ""
            },
            "colorscale": [
             [
              0,
              "#0d0887"
             ],
             [
              0.1111111111111111,
              "#46039f"
             ],
             [
              0.2222222222222222,
              "#7201a8"
             ],
             [
              0.3333333333333333,
              "#9c179e"
             ],
             [
              0.4444444444444444,
              "#bd3786"
             ],
             [
              0.5555555555555556,
              "#d8576b"
             ],
             [
              0.6666666666666666,
              "#ed7953"
             ],
             [
              0.7777777777777778,
              "#fb9f3a"
             ],
             [
              0.8888888888888888,
              "#fdca26"
             ],
             [
              1,
              "#f0f921"
             ]
            ],
            "type": "contour"
           }
          ],
          "contourcarpet": [
           {
            "colorbar": {
             "outlinewidth": 0,
             "ticks": ""
            },
            "type": "contourcarpet"
           }
          ],
          "heatmap": [
           {
            "colorbar": {
             "outlinewidth": 0,
             "ticks": ""
            },
            "colorscale": [
             [
              0,
              "#0d0887"
             ],
             [
              0.1111111111111111,
              "#46039f"
             ],
             [
              0.2222222222222222,
              "#7201a8"
             ],
             [
              0.3333333333333333,
              "#9c179e"
             ],
             [
              0.4444444444444444,
              "#bd3786"
             ],
             [
              0.5555555555555556,
              "#d8576b"
             ],
             [
              0.6666666666666666,
              "#ed7953"
             ],
             [
              0.7777777777777778,
              "#fb9f3a"
             ],
             [
              0.8888888888888888,
              "#fdca26"
             ],
             [
              1,
              "#f0f921"
             ]
            ],
            "type": "heatmap"
           }
          ],
          "heatmapgl": [
           {
            "colorbar": {
             "outlinewidth": 0,
             "ticks": ""
            },
            "colorscale": [
             [
              0,
              "#0d0887"
             ],
             [
              0.1111111111111111,
              "#46039f"
             ],
             [
              0.2222222222222222,
              "#7201a8"
             ],
             [
              0.3333333333333333,
              "#9c179e"
             ],
             [
              0.4444444444444444,
              "#bd3786"
             ],
             [
              0.5555555555555556,
              "#d8576b"
             ],
             [
              0.6666666666666666,
              "#ed7953"
             ],
             [
              0.7777777777777778,
              "#fb9f3a"
             ],
             [
              0.8888888888888888,
              "#fdca26"
             ],
             [
              1,
              "#f0f921"
             ]
            ],
            "type": "heatmapgl"
           }
          ],
          "histogram": [
           {
            "marker": {
             "colorbar": {
              "outlinewidth": 0,
              "ticks": ""
             }
            },
            "type": "histogram"
           }
          ],
          "histogram2d": [
           {
            "colorbar": {
             "outlinewidth": 0,
             "ticks": ""
            },
            "colorscale": [
             [
              0,
              "#0d0887"
             ],
             [
              0.1111111111111111,
              "#46039f"
             ],
             [
              0.2222222222222222,
              "#7201a8"
             ],
             [
              0.3333333333333333,
              "#9c179e"
             ],
             [
              0.4444444444444444,
              "#bd3786"
             ],
             [
              0.5555555555555556,
              "#d8576b"
             ],
             [
              0.6666666666666666,
              "#ed7953"
             ],
             [
              0.7777777777777778,
              "#fb9f3a"
             ],
             [
              0.8888888888888888,
              "#fdca26"
             ],
             [
              1,
              "#f0f921"
             ]
            ],
            "type": "histogram2d"
           }
          ],
          "histogram2dcontour": [
           {
            "colorbar": {
             "outlinewidth": 0,
             "ticks": ""
            },
            "colorscale": [
             [
              0,
              "#0d0887"
             ],
             [
              0.1111111111111111,
              "#46039f"
             ],
             [
              0.2222222222222222,
              "#7201a8"
             ],
             [
              0.3333333333333333,
              "#9c179e"
             ],
             [
              0.4444444444444444,
              "#bd3786"
             ],
             [
              0.5555555555555556,
              "#d8576b"
             ],
             [
              0.6666666666666666,
              "#ed7953"
             ],
             [
              0.7777777777777778,
              "#fb9f3a"
             ],
             [
              0.8888888888888888,
              "#fdca26"
             ],
             [
              1,
              "#f0f921"
             ]
            ],
            "type": "histogram2dcontour"
           }
          ],
          "mesh3d": [
           {
            "colorbar": {
             "outlinewidth": 0,
             "ticks": ""
            },
            "type": "mesh3d"
           }
          ],
          "parcoords": [
           {
            "line": {
             "colorbar": {
              "outlinewidth": 0,
              "ticks": ""
             }
            },
            "type": "parcoords"
           }
          ],
          "scatter": [
           {
            "marker": {
             "colorbar": {
              "outlinewidth": 0,
              "ticks": ""
             }
            },
            "type": "scatter"
           }
          ],
          "scatter3d": [
           {
            "line": {
             "colorbar": {
              "outlinewidth": 0,
              "ticks": ""
             }
            },
            "marker": {
             "colorbar": {
              "outlinewidth": 0,
              "ticks": ""
             }
            },
            "type": "scatter3d"
           }
          ],
          "scattercarpet": [
           {
            "marker": {
             "colorbar": {
              "outlinewidth": 0,
              "ticks": ""
             }
            },
            "type": "scattercarpet"
           }
          ],
          "scattergeo": [
           {
            "marker": {
             "colorbar": {
              "outlinewidth": 0,
              "ticks": ""
             }
            },
            "type": "scattergeo"
           }
          ],
          "scattergl": [
           {
            "marker": {
             "colorbar": {
              "outlinewidth": 0,
              "ticks": ""
             }
            },
            "type": "scattergl"
           }
          ],
          "scattermapbox": [
           {
            "marker": {
             "colorbar": {
              "outlinewidth": 0,
              "ticks": ""
             }
            },
            "type": "scattermapbox"
           }
          ],
          "scatterpolar": [
           {
            "marker": {
             "colorbar": {
              "outlinewidth": 0,
              "ticks": ""
             }
            },
            "type": "scatterpolar"
           }
          ],
          "scatterpolargl": [
           {
            "marker": {
             "colorbar": {
              "outlinewidth": 0,
              "ticks": ""
             }
            },
            "type": "scatterpolargl"
           }
          ],
          "scatterternary": [
           {
            "marker": {
             "colorbar": {
              "outlinewidth": 0,
              "ticks": ""
             }
            },
            "type": "scatterternary"
           }
          ],
          "surface": [
           {
            "colorbar": {
             "outlinewidth": 0,
             "ticks": ""
            },
            "colorscale": [
             [
              0,
              "#0d0887"
             ],
             [
              0.1111111111111111,
              "#46039f"
             ],
             [
              0.2222222222222222,
              "#7201a8"
             ],
             [
              0.3333333333333333,
              "#9c179e"
             ],
             [
              0.4444444444444444,
              "#bd3786"
             ],
             [
              0.5555555555555556,
              "#d8576b"
             ],
             [
              0.6666666666666666,
              "#ed7953"
             ],
             [
              0.7777777777777778,
              "#fb9f3a"
             ],
             [
              0.8888888888888888,
              "#fdca26"
             ],
             [
              1,
              "#f0f921"
             ]
            ],
            "type": "surface"
           }
          ],
          "table": [
           {
            "cells": {
             "fill": {
              "color": "#EBF0F8"
             },
             "line": {
              "color": "white"
             }
            },
            "header": {
             "fill": {
              "color": "#C8D4E3"
             },
             "line": {
              "color": "white"
             }
            },
            "type": "table"
           }
          ]
         },
         "layout": {
          "annotationdefaults": {
           "arrowcolor": "#2a3f5f",
           "arrowhead": 0,
           "arrowwidth": 1
          },
          "colorscale": {
           "diverging": [
            [
             0,
             "#8e0152"
            ],
            [
             0.1,
             "#c51b7d"
            ],
            [
             0.2,
             "#de77ae"
            ],
            [
             0.3,
             "#f1b6da"
            ],
            [
             0.4,
             "#fde0ef"
            ],
            [
             0.5,
             "#f7f7f7"
            ],
            [
             0.6,
             "#e6f5d0"
            ],
            [
             0.7,
             "#b8e186"
            ],
            [
             0.8,
             "#7fbc41"
            ],
            [
             0.9,
             "#4d9221"
            ],
            [
             1,
             "#276419"
            ]
           ],
           "sequential": [
            [
             0,
             "#0d0887"
            ],
            [
             0.1111111111111111,
             "#46039f"
            ],
            [
             0.2222222222222222,
             "#7201a8"
            ],
            [
             0.3333333333333333,
             "#9c179e"
            ],
            [
             0.4444444444444444,
             "#bd3786"
            ],
            [
             0.5555555555555556,
             "#d8576b"
            ],
            [
             0.6666666666666666,
             "#ed7953"
            ],
            [
             0.7777777777777778,
             "#fb9f3a"
            ],
            [
             0.8888888888888888,
             "#fdca26"
            ],
            [
             1,
             "#f0f921"
            ]
           ],
           "sequentialminus": [
            [
             0,
             "#0d0887"
            ],
            [
             0.1111111111111111,
             "#46039f"
            ],
            [
             0.2222222222222222,
             "#7201a8"
            ],
            [
             0.3333333333333333,
             "#9c179e"
            ],
            [
             0.4444444444444444,
             "#bd3786"
            ],
            [
             0.5555555555555556,
             "#d8576b"
            ],
            [
             0.6666666666666666,
             "#ed7953"
            ],
            [
             0.7777777777777778,
             "#fb9f3a"
            ],
            [
             0.8888888888888888,
             "#fdca26"
            ],
            [
             1,
             "#f0f921"
            ]
           ]
          },
          "colorway": [
           "#636efa",
           "#EF553B",
           "#00cc96",
           "#ab63fa",
           "#FFA15A",
           "#19d3f3",
           "#FF6692",
           "#B6E880",
           "#FF97FF",
           "#FECB52"
          ],
          "font": {
           "color": "#2a3f5f"
          },
          "geo": {
           "bgcolor": "white",
           "lakecolor": "white",
           "landcolor": "#E5ECF6",
           "showlakes": true,
           "showland": true,
           "subunitcolor": "white"
          },
          "hoverlabel": {
           "align": "left"
          },
          "hovermode": "closest",
          "mapbox": {
           "style": "light"
          },
          "paper_bgcolor": "white",
          "plot_bgcolor": "#E5ECF6",
          "polar": {
           "angularaxis": {
            "gridcolor": "white",
            "linecolor": "white",
            "ticks": ""
           },
           "bgcolor": "#E5ECF6",
           "radialaxis": {
            "gridcolor": "white",
            "linecolor": "white",
            "ticks": ""
           }
          },
          "scene": {
           "xaxis": {
            "backgroundcolor": "#E5ECF6",
            "gridcolor": "white",
            "gridwidth": 2,
            "linecolor": "white",
            "showbackground": true,
            "ticks": "",
            "zerolinecolor": "white"
           },
           "yaxis": {
            "backgroundcolor": "#E5ECF6",
            "gridcolor": "white",
            "gridwidth": 2,
            "linecolor": "white",
            "showbackground": true,
            "ticks": "",
            "zerolinecolor": "white"
           },
           "zaxis": {
            "backgroundcolor": "#E5ECF6",
            "gridcolor": "white",
            "gridwidth": 2,
            "linecolor": "white",
            "showbackground": true,
            "ticks": "",
            "zerolinecolor": "white"
           }
          },
          "shapedefaults": {
           "line": {
            "color": "#2a3f5f"
           }
          },
          "ternary": {
           "aaxis": {
            "gridcolor": "white",
            "linecolor": "white",
            "ticks": ""
           },
           "baxis": {
            "gridcolor": "white",
            "linecolor": "white",
            "ticks": ""
           },
           "bgcolor": "#E5ECF6",
           "caxis": {
            "gridcolor": "white",
            "linecolor": "white",
            "ticks": ""
           }
          },
          "title": {
           "x": 0.05
          },
          "xaxis": {
           "automargin": true,
           "gridcolor": "white",
           "linecolor": "white",
           "ticks": "",
           "zerolinecolor": "white",
           "zerolinewidth": 2
          },
          "yaxis": {
           "automargin": true,
           "gridcolor": "white",
           "linecolor": "white",
           "ticks": "",
           "zerolinecolor": "white",
           "zerolinewidth": 2
          }
         }
        },
        "title": {
         "text": "Histogram of DLA Difference based on Intervention Program"
        },
        "xaxis": {
         "anchor": "y",
         "domain": [
          0,
          0.98
         ],
         "title": {
          "text": "DLA_Diff"
         }
        },
        "yaxis": {
         "anchor": "x",
         "domain": [
          0,
          1
         ],
         "title": {
          "text": "count"
         }
        }
       }
      },
      "text/html": [
       "<div>\n",
       "        \n",
       "        \n",
       "            <div id=\"62f3ac73-3810-4ccd-bf8f-a27b2d9c9968\" class=\"plotly-graph-div\" style=\"height:600px; width:100%;\"></div>\n",
       "            <script type=\"text/javascript\">\n",
       "                require([\"plotly\"], function(Plotly) {\n",
       "                    window.PLOTLYENV=window.PLOTLYENV || {};\n",
       "                    \n",
       "                if (document.getElementById(\"62f3ac73-3810-4ccd-bf8f-a27b2d9c9968\")) {\n",
       "                    Plotly.newPlot(\n",
       "                        '62f3ac73-3810-4ccd-bf8f-a27b2d9c9968',\n",
       "                        [{\"alignmentgroup\": \"True\", \"bingroup\": \"x\", \"hoverlabel\": {\"namelength\": 0}, \"hovertemplate\": \"Program=Intervention<br>DLA_Diff=%{x}<br>count=%{y}\", \"legendgroup\": \"Program=Intervention\", \"marker\": {\"color\": \"#636efa\", \"opacity\": 0.5}, \"name\": \"Program=Intervention\", \"offsetgroup\": \"Program=Intervention\", \"orientation\": \"v\", \"showlegend\": true, \"type\": \"histogram\", \"x\": [0.43999999999999995, 0.45999999999999996, 0.6100000000000003, 0.34999999999999964, 0.5099999999999998, 0.5099999999999998, 0.9499999999999997, 0.6699999999999999, 0.4900000000000002, 0.4499999999999993, 0.28000000000000025, 0.5499999999999998, 0.35000000000000053, 0.6100000000000003, 0.6699999999999999, 0.28000000000000025, 0.6699999999999995, 0.5499999999999998, 0.33000000000000007, 0.33000000000000007, 0.71, 0.4899999999999993, 0.7000000000000002, 0.5, 0.96, 0.45999999999999996, 0.7899999999999996, 0.6700000000000008, 0.5699999999999998, 0.2799999999999998, 0.6600000000000001, 0.8200000000000003, 0.8699999999999997, 0.31999999999999984, 0.6599999999999997, 0.81, 0.2699999999999996, 0.75, 0.8799999999999999, 0.94, 0.43999999999999995, 0.45999999999999996, 0.71, 0.71, 0.2400000000000002, 0.8799999999999999, 0.45999999999999996, 0.45999999999999996, 0.23999999999999977, 0.71, 0.8399999999999999, 0.7100000000000004, 0.2699999999999996, 0.6799999999999997, 0.7600000000000002, 0.5300000000000002, 0.43999999999999995, 0.4900000000000002, 0.45999999999999996, 0.5099999999999998, 0.4499999999999993, 0.5499999999999998, 0.5700000000000003, 0.7100000000000004, 0.4499999999999993, 0.4499999999999993, 0.7200000000000002, 0.6099999999999999, 0.5700000000000003, 0.6100000000000003, 0.7799999999999994, 0.69, 0.7200000000000002, 0.54, 0.54, 0.8299999999999996, 0.77, 0.6600000000000001, 0.4599999999999995, 0.6099999999999994, 0.2400000000000002, 0.7000000000000002, 0.5299999999999998, 0.8099999999999996, 0.4500000000000002, 0.71, 0.6500000000000004, 0.96, 0.43999999999999995, 0.4500000000000002, 0.6900000000000004, 0.4500000000000002, 0.71, 0.4400000000000004, 0.45999999999999996, 0.34999999999999964, 0.6099999999999994, 0.6499999999999999, 0.43999999999999995, 0.8800000000000003, 0.31999999999999984, 0.6099999999999999, 0.6700000000000004, 0.6699999999999999, 0.54, 0.5700000000000003, 0.5300000000000002, 0.6699999999999999, 0.2799999999999998, 0.45999999999999996, 0.71, 0.2699999999999996, 0.8900000000000001, 0.4500000000000002, 0.31999999999999984, 0.6499999999999995, 0.2400000000000002, 0.7499999999999996, 0.8599999999999994, 0.4500000000000002, 0.43999999999999995, 0.9600000000000004, 0.7300000000000004, 0.5299999999999998, 0.8800000000000003, 0.6599999999999997, 0.8599999999999994, 0.5099999999999998, 0.7700000000000005, 0.8399999999999999, 0.6200000000000001, 0.44999999999999973, 0.45999999999999996, 0.6999999999999993, 0.6500000000000004, 0.6600000000000001, 0.9199999999999999, 0.7400000000000002, 0.5, 0.5, 0.7400000000000002, 0.6099999999999999, 0.8600000000000003], \"xaxis\": \"x\", \"yaxis\": \"y\"}, {\"alignmentgroup\": \"True\", \"bingroup\": \"x\", \"hoverlabel\": {\"namelength\": 0}, \"hovertemplate\": \"Program=UsualCare<br>DLA_Diff=%{x}<br>count=%{y}\", \"legendgroup\": \"Program=UsualCare\", \"marker\": {\"color\": \"#EF553B\", \"opacity\": 0.5}, \"name\": \"Program=UsualCare\", \"offsetgroup\": \"Program=UsualCare\", \"orientation\": \"v\", \"showlegend\": true, \"type\": \"histogram\", \"x\": [0.05999999999999961, 0.05999999999999961, -0.019999999999999574, -0.040000000000000036, -0.05000000000000071, -0.020000000000000018, 0.08000000000000007, 0.0, -0.029999999999999805, 0.04999999999999982, -0.08999999999999986, 0.02999999999999936, 0.019999999999999574, 0.020000000000000018, -0.010000000000000231, 0.010000000000000231, 0.010000000000000231, -0.009999999999999787, 0.05999999999999961, -0.10000000000000053, -0.03000000000000025, -0.010000000000000675, 0.040000000000000036, -0.03000000000000025, -0.04999999999999982, 0.010000000000000231, 0.10000000000000009, -0.10000000000000053, 0.0, -0.050000000000000266, -0.04999999999999982, 0.020000000000000018, 0.010000000000000231, -0.009999999999999787, 0.06000000000000005, 0.0, 0.06000000000000005, -0.10000000000000009, -0.019999999999999574, 0.020000000000000018, -0.0600000000000005, -0.08999999999999986, -0.020000000000000018, 0.08000000000000007, -0.04999999999999982, 0.040000000000000036, -0.05999999999999961, -0.040000000000000036, -0.009999999999999787, 0.040000000000000036, -0.020000000000000018, 0.040000000000000036, -0.08000000000000007, -0.07000000000000028, -0.09000000000000075, 0.07000000000000028, -0.10000000000000009, 0.03000000000000025, 0.04999999999999982, 0.009999999999999787, -0.03000000000000025, 0.0, 0.020000000000000462, 0.0, -0.009999999999999787, -0.029999999999999805, -0.040000000000000036, 0.07000000000000028, -0.020000000000000018, -0.03000000000000025, 0.05000000000000071, -0.10999999999999988, -0.10999999999999988, -0.020000000000000018, -0.07000000000000028, 0.0, 0.040000000000000036, 0.05000000000000071, -0.050000000000000266, 0.040000000000000036, 0.1200000000000001, 0.020000000000000018, 0.0699999999999994, 0.029999999999999805, -0.04999999999999982, -0.03000000000000025, -0.020000000000000462, -0.03000000000000025, 0.0, 0.0, -0.019999999999999574, -0.009999999999999787, 0.040000000000000036, 0.04999999999999982, -0.040000000000000036, 0.1299999999999999, 0.009999999999999787, -0.03000000000000025, 0.03000000000000025, 0.06999999999999984, 0.009999999999999787, -0.009999999999999787, -0.009999999999999787, 0.05000000000000071, 0.0, -0.06000000000000005, 0.06000000000000005, -0.020000000000000462, 0.019999999999999574, 0.019999999999999574, 0.040000000000000036, -0.009999999999999787, 0.0, -0.040000000000000036, -0.08000000000000007, 0.050000000000000266, -0.10000000000000009, -0.06000000000000005, 0.040000000000000036, 0.04999999999999982, -0.009999999999999787, 0.0, -0.040000000000000036, -0.009999999999999787, 0.040000000000000036, -0.010000000000000231, 0.0, -0.029999999999999805, -0.009999999999999787, -0.06000000000000005, -0.04999999999999982, -0.06000000000000005, 0.03000000000000025, 0.009999999999999787, -0.040000000000000036, -0.010000000000000675, 0.040000000000000036, -0.03000000000000025, 0.009999999999999787, -0.009999999999999787, 0.0, -0.06000000000000005, -0.03000000000000025, -0.020000000000000018, 0.040000000000000036, 0.029999999999999805, 0.03000000000000025, 0.040000000000000036, 0.03000000000000025, -0.040000000000000036, 0.010000000000000675, 0.040000000000000036, -0.050000000000000266, 0.06000000000000005, -0.08999999999999986, 0.009999999999999787, -0.010000000000000231, -0.04999999999999982, 0.009999999999999787, 0.009999999999999787, 0.0, 0.0, 0.040000000000000036, -0.050000000000000266, 0.029999999999999805, 0.04999999999999982, 0.05000000000000071, 0.050000000000000266, 0.010000000000000675, -0.03000000000000025, -0.02999999999999936, 0.009999999999999787, 0.09000000000000075, 0.040000000000000036, 0.08000000000000007, 0.010000000000000231, -0.050000000000000266, 0.0900000000000003, 0.07000000000000028, 0.040000000000000036, 0.010000000000000675, 0.08999999999999986, 0.010000000000000231, 0.040000000000000036, -0.040000000000000036, -0.08000000000000007, 0.009999999999999787, 0.0, 0.09999999999999964, -0.04999999999999982, -0.04999999999999982, -0.029999999999999805, 0.05999999999999961, 0.04999999999999982, -0.04999999999999982, 0.029999999999999805, -0.009999999999999787, 0.16999999999999993, -0.06999999999999984, 0.010000000000000675, 0.019999999999999574, 0.020000000000000018, 0.06000000000000005, -0.03000000000000025, -0.04999999999999982, -0.019999999999999574, 0.0, -0.09999999999999964, -0.029999999999999805, 0.009999999999999787, 0.009999999999999787, -0.03000000000000025, -0.06000000000000005, -0.050000000000000266, -0.050000000000000266, -0.029999999999999805, -0.06999999999999984, 0.020000000000000018, -0.040000000000000036, -0.1200000000000001, 0.020000000000000018, 0.029999999999999805, -0.040000000000000036, 0.04999999999999982, -0.1200000000000001, -0.009999999999999787, -0.03000000000000025, -0.08999999999999986, 0.040000000000000036, 0.020000000000000018, 0.08000000000000007, 0.050000000000000266, 0.06000000000000005, 0.020000000000000018, -0.02999999999999936, -0.019999999999999574, -0.06000000000000005, -0.019999999999999574, -0.020000000000000018, -0.020000000000000018, -0.11000000000000032, -0.050000000000000266, -0.03000000000000025, 0.0, -0.05999999999999961, -0.029999999999999805, 0.010000000000000231, 0.03000000000000025, 0.06000000000000005, 0.009999999999999787, 0.05999999999999961, 0.020000000000000018, -0.04999999999999982, 0.020000000000000018, 0.06000000000000005, 0.03000000000000025, -0.009999999999999787, 0.0, -0.019999999999999574, -0.020000000000000462, 0.0600000000000005, 0.019999999999999574, -0.020000000000000018, 0.05999999999999961, -0.03000000000000025, 0.0, -0.07999999999999963, -0.04999999999999982, -0.020000000000000018, -0.03000000000000025, -0.03000000000000025, -0.020000000000000018, -0.029999999999999805, -0.10000000000000009, 0.0, 0.0699999999999994, 0.009999999999999787, -0.009999999999999787, -0.009999999999999787, -0.020000000000000018, -0.009999999999999787, 0.029999999999999805, -0.11999999999999966, -0.009999999999999787, 0.06000000000000005, 0.02999999999999936, 0.009999999999999787, 0.009999999999999787, -0.1200000000000001, -0.019999999999999574, -0.040000000000000036, 0.08999999999999986, 0.0, -0.04999999999999982, 0.08000000000000007, -0.040000000000000036, 0.04999999999999982, 0.0, -0.019999999999999574, 0.04999999999999982, -0.03000000000000025, -0.07000000000000028, 0.020000000000000018, 0.010000000000000231, -0.009999999999999787, 0.1200000000000001, -0.020000000000000462, 0.0, 0.04999999999999982, -0.029999999999999805, -0.10999999999999988, 0.040000000000000036, 0.02999999999999936, 0.0, 0.06000000000000005, -0.020000000000000018, -0.009999999999999787, 0.04999999999999982, 0.020000000000000018, 0.0, 0.020000000000000462, -0.04999999999999982, -0.040000000000000036, 0.020000000000000018, 0.0, 0.010000000000000231, -0.07000000000000028, -0.04999999999999982, -0.040000000000000036, -0.04999999999999982, 0.07000000000000028, 0.06000000000000005, -0.019999999999999574, -0.04999999999999982, -0.010000000000000231, 0.009999999999999787], \"xaxis\": \"x\", \"yaxis\": \"y\"}],\n",
       "                        {\"barmode\": \"overlay\", \"height\": 600, \"legend\": {\"tracegroupgap\": 0}, \"template\": {\"data\": {\"bar\": [{\"error_x\": {\"color\": \"#2a3f5f\"}, \"error_y\": {\"color\": \"#2a3f5f\"}, \"marker\": {\"line\": {\"color\": \"#E5ECF6\", \"width\": 0.5}}, \"type\": \"bar\"}], \"barpolar\": [{\"marker\": {\"line\": {\"color\": \"#E5ECF6\", \"width\": 0.5}}, \"type\": \"barpolar\"}], \"carpet\": [{\"aaxis\": {\"endlinecolor\": \"#2a3f5f\", \"gridcolor\": \"white\", \"linecolor\": \"white\", \"minorgridcolor\": \"white\", \"startlinecolor\": \"#2a3f5f\"}, \"baxis\": {\"endlinecolor\": \"#2a3f5f\", \"gridcolor\": \"white\", \"linecolor\": \"white\", \"minorgridcolor\": \"white\", \"startlinecolor\": \"#2a3f5f\"}, \"type\": \"carpet\"}], \"choropleth\": [{\"colorbar\": {\"outlinewidth\": 0, \"ticks\": \"\"}, \"type\": \"choropleth\"}], \"contour\": [{\"colorbar\": {\"outlinewidth\": 0, \"ticks\": \"\"}, \"colorscale\": [[0.0, \"#0d0887\"], [0.1111111111111111, \"#46039f\"], [0.2222222222222222, \"#7201a8\"], [0.3333333333333333, \"#9c179e\"], [0.4444444444444444, \"#bd3786\"], [0.5555555555555556, \"#d8576b\"], [0.6666666666666666, \"#ed7953\"], [0.7777777777777778, \"#fb9f3a\"], [0.8888888888888888, \"#fdca26\"], [1.0, \"#f0f921\"]], \"type\": \"contour\"}], \"contourcarpet\": [{\"colorbar\": {\"outlinewidth\": 0, \"ticks\": \"\"}, \"type\": \"contourcarpet\"}], \"heatmap\": [{\"colorbar\": {\"outlinewidth\": 0, \"ticks\": \"\"}, \"colorscale\": [[0.0, \"#0d0887\"], [0.1111111111111111, \"#46039f\"], [0.2222222222222222, \"#7201a8\"], [0.3333333333333333, \"#9c179e\"], [0.4444444444444444, \"#bd3786\"], [0.5555555555555556, \"#d8576b\"], [0.6666666666666666, \"#ed7953\"], [0.7777777777777778, \"#fb9f3a\"], [0.8888888888888888, \"#fdca26\"], [1.0, \"#f0f921\"]], \"type\": \"heatmap\"}], \"heatmapgl\": [{\"colorbar\": {\"outlinewidth\": 0, \"ticks\": \"\"}, \"colorscale\": [[0.0, \"#0d0887\"], [0.1111111111111111, \"#46039f\"], [0.2222222222222222, \"#7201a8\"], [0.3333333333333333, \"#9c179e\"], [0.4444444444444444, \"#bd3786\"], [0.5555555555555556, \"#d8576b\"], [0.6666666666666666, \"#ed7953\"], [0.7777777777777778, \"#fb9f3a\"], [0.8888888888888888, \"#fdca26\"], [1.0, \"#f0f921\"]], \"type\": \"heatmapgl\"}], \"histogram\": [{\"marker\": {\"colorbar\": {\"outlinewidth\": 0, \"ticks\": \"\"}}, \"type\": \"histogram\"}], \"histogram2d\": [{\"colorbar\": {\"outlinewidth\": 0, \"ticks\": \"\"}, \"colorscale\": [[0.0, \"#0d0887\"], [0.1111111111111111, \"#46039f\"], [0.2222222222222222, \"#7201a8\"], [0.3333333333333333, \"#9c179e\"], [0.4444444444444444, \"#bd3786\"], [0.5555555555555556, \"#d8576b\"], [0.6666666666666666, \"#ed7953\"], [0.7777777777777778, \"#fb9f3a\"], [0.8888888888888888, \"#fdca26\"], [1.0, \"#f0f921\"]], \"type\": \"histogram2d\"}], \"histogram2dcontour\": [{\"colorbar\": {\"outlinewidth\": 0, \"ticks\": \"\"}, \"colorscale\": [[0.0, \"#0d0887\"], [0.1111111111111111, \"#46039f\"], [0.2222222222222222, \"#7201a8\"], [0.3333333333333333, \"#9c179e\"], [0.4444444444444444, \"#bd3786\"], [0.5555555555555556, \"#d8576b\"], [0.6666666666666666, \"#ed7953\"], [0.7777777777777778, \"#fb9f3a\"], [0.8888888888888888, \"#fdca26\"], [1.0, \"#f0f921\"]], \"type\": \"histogram2dcontour\"}], \"mesh3d\": [{\"colorbar\": {\"outlinewidth\": 0, \"ticks\": \"\"}, \"type\": \"mesh3d\"}], \"parcoords\": [{\"line\": {\"colorbar\": {\"outlinewidth\": 0, \"ticks\": \"\"}}, \"type\": \"parcoords\"}], \"scatter\": [{\"marker\": {\"colorbar\": {\"outlinewidth\": 0, \"ticks\": \"\"}}, \"type\": \"scatter\"}], \"scatter3d\": [{\"line\": {\"colorbar\": {\"outlinewidth\": 0, \"ticks\": \"\"}}, \"marker\": {\"colorbar\": {\"outlinewidth\": 0, \"ticks\": \"\"}}, \"type\": \"scatter3d\"}], \"scattercarpet\": [{\"marker\": {\"colorbar\": {\"outlinewidth\": 0, \"ticks\": \"\"}}, \"type\": \"scattercarpet\"}], \"scattergeo\": [{\"marker\": {\"colorbar\": {\"outlinewidth\": 0, \"ticks\": \"\"}}, \"type\": \"scattergeo\"}], \"scattergl\": [{\"marker\": {\"colorbar\": {\"outlinewidth\": 0, \"ticks\": \"\"}}, \"type\": \"scattergl\"}], \"scattermapbox\": [{\"marker\": {\"colorbar\": {\"outlinewidth\": 0, \"ticks\": \"\"}}, \"type\": \"scattermapbox\"}], \"scatterpolar\": [{\"marker\": {\"colorbar\": {\"outlinewidth\": 0, \"ticks\": \"\"}}, \"type\": \"scatterpolar\"}], \"scatterpolargl\": [{\"marker\": {\"colorbar\": {\"outlinewidth\": 0, \"ticks\": \"\"}}, \"type\": \"scatterpolargl\"}], \"scatterternary\": [{\"marker\": {\"colorbar\": {\"outlinewidth\": 0, \"ticks\": \"\"}}, \"type\": \"scatterternary\"}], \"surface\": [{\"colorbar\": {\"outlinewidth\": 0, \"ticks\": \"\"}, \"colorscale\": [[0.0, \"#0d0887\"], [0.1111111111111111, \"#46039f\"], [0.2222222222222222, \"#7201a8\"], [0.3333333333333333, \"#9c179e\"], [0.4444444444444444, \"#bd3786\"], [0.5555555555555556, \"#d8576b\"], [0.6666666666666666, \"#ed7953\"], [0.7777777777777778, \"#fb9f3a\"], [0.8888888888888888, \"#fdca26\"], [1.0, \"#f0f921\"]], \"type\": \"surface\"}], \"table\": [{\"cells\": {\"fill\": {\"color\": \"#EBF0F8\"}, \"line\": {\"color\": \"white\"}}, \"header\": {\"fill\": {\"color\": \"#C8D4E3\"}, \"line\": {\"color\": \"white\"}}, \"type\": \"table\"}]}, \"layout\": {\"annotationdefaults\": {\"arrowcolor\": \"#2a3f5f\", \"arrowhead\": 0, \"arrowwidth\": 1}, \"colorscale\": {\"diverging\": [[0, \"#8e0152\"], [0.1, \"#c51b7d\"], [0.2, \"#de77ae\"], [0.3, \"#f1b6da\"], [0.4, \"#fde0ef\"], [0.5, \"#f7f7f7\"], [0.6, \"#e6f5d0\"], [0.7, \"#b8e186\"], [0.8, \"#7fbc41\"], [0.9, \"#4d9221\"], [1, \"#276419\"]], \"sequential\": [[0.0, \"#0d0887\"], [0.1111111111111111, \"#46039f\"], [0.2222222222222222, \"#7201a8\"], [0.3333333333333333, \"#9c179e\"], [0.4444444444444444, \"#bd3786\"], [0.5555555555555556, \"#d8576b\"], [0.6666666666666666, \"#ed7953\"], [0.7777777777777778, \"#fb9f3a\"], [0.8888888888888888, \"#fdca26\"], [1.0, \"#f0f921\"]], \"sequentialminus\": [[0.0, \"#0d0887\"], [0.1111111111111111, \"#46039f\"], [0.2222222222222222, \"#7201a8\"], [0.3333333333333333, \"#9c179e\"], [0.4444444444444444, \"#bd3786\"], [0.5555555555555556, \"#d8576b\"], [0.6666666666666666, \"#ed7953\"], [0.7777777777777778, \"#fb9f3a\"], [0.8888888888888888, \"#fdca26\"], [1.0, \"#f0f921\"]]}, \"colorway\": [\"#636efa\", \"#EF553B\", \"#00cc96\", \"#ab63fa\", \"#FFA15A\", \"#19d3f3\", \"#FF6692\", \"#B6E880\", \"#FF97FF\", \"#FECB52\"], \"font\": {\"color\": \"#2a3f5f\"}, \"geo\": {\"bgcolor\": \"white\", \"lakecolor\": \"white\", \"landcolor\": \"#E5ECF6\", \"showlakes\": true, \"showland\": true, \"subunitcolor\": \"white\"}, \"hoverlabel\": {\"align\": \"left\"}, \"hovermode\": \"closest\", \"mapbox\": {\"style\": \"light\"}, \"paper_bgcolor\": \"white\", \"plot_bgcolor\": \"#E5ECF6\", \"polar\": {\"angularaxis\": {\"gridcolor\": \"white\", \"linecolor\": \"white\", \"ticks\": \"\"}, \"bgcolor\": \"#E5ECF6\", \"radialaxis\": {\"gridcolor\": \"white\", \"linecolor\": \"white\", \"ticks\": \"\"}}, \"scene\": {\"xaxis\": {\"backgroundcolor\": \"#E5ECF6\", \"gridcolor\": \"white\", \"gridwidth\": 2, \"linecolor\": \"white\", \"showbackground\": true, \"ticks\": \"\", \"zerolinecolor\": \"white\"}, \"yaxis\": {\"backgroundcolor\": \"#E5ECF6\", \"gridcolor\": \"white\", \"gridwidth\": 2, \"linecolor\": \"white\", \"showbackground\": true, \"ticks\": \"\", \"zerolinecolor\": \"white\"}, \"zaxis\": {\"backgroundcolor\": \"#E5ECF6\", \"gridcolor\": \"white\", \"gridwidth\": 2, \"linecolor\": \"white\", \"showbackground\": true, \"ticks\": \"\", \"zerolinecolor\": \"white\"}}, \"shapedefaults\": {\"line\": {\"color\": \"#2a3f5f\"}}, \"ternary\": {\"aaxis\": {\"gridcolor\": \"white\", \"linecolor\": \"white\", \"ticks\": \"\"}, \"baxis\": {\"gridcolor\": \"white\", \"linecolor\": \"white\", \"ticks\": \"\"}, \"bgcolor\": \"#E5ECF6\", \"caxis\": {\"gridcolor\": \"white\", \"linecolor\": \"white\", \"ticks\": \"\"}}, \"title\": {\"x\": 0.05}, \"xaxis\": {\"automargin\": true, \"gridcolor\": \"white\", \"linecolor\": \"white\", \"ticks\": \"\", \"zerolinecolor\": \"white\", \"zerolinewidth\": 2}, \"yaxis\": {\"automargin\": true, \"gridcolor\": \"white\", \"linecolor\": \"white\", \"ticks\": \"\", \"zerolinecolor\": \"white\", \"zerolinewidth\": 2}}}, \"title\": {\"text\": \"Histogram of DLA Difference based on Intervention Program\"}, \"xaxis\": {\"anchor\": \"y\", \"domain\": [0.0, 0.98], \"title\": {\"text\": \"DLA_Diff\"}}, \"yaxis\": {\"anchor\": \"x\", \"domain\": [0.0, 1.0], \"title\": {\"text\": \"count\"}}},\n",
       "                        {\"responsive\": true}\n",
       "                    ).then(function(){\n",
       "                            \n",
       "var gd = document.getElementById('62f3ac73-3810-4ccd-bf8f-a27b2d9c9968');\n",
       "var x = new MutationObserver(function (mutations, observer) {{\n",
       "        var display = window.getComputedStyle(gd).display;\n",
       "        if (!display || display === 'none') {{\n",
       "            console.log([gd, 'removed!']);\n",
       "            Plotly.purge(gd);\n",
       "            observer.disconnect();\n",
       "        }}\n",
       "}});\n",
       "\n",
       "// Listen for the removal of the full notebook cells\n",
       "var notebookContainer = gd.closest('#notebook-container');\n",
       "if (notebookContainer) {{\n",
       "    x.observe(notebookContainer, {childList: true});\n",
       "}}\n",
       "\n",
       "// Listen for the clearing of the current output cell\n",
       "var outputEl = gd.closest('.output');\n",
       "if (outputEl) {{\n",
       "    x.observe(outputEl, {childList: true});\n",
       "}}\n",
       "\n",
       "                        })\n",
       "                };\n",
       "                });\n",
       "            </script>\n",
       "        </div>"
      ]
     },
     "metadata": {},
     "output_type": "display_data"
    }
   ],
   "source": [
    "px.histogram(df, x=\"DLA_Diff\", color=\"Program\", barmode=\"overlay\",\n",
    "            title=\"Histogram of DLA Difference based on Intervention Program\")"
   ]
  },
  {
   "cell_type": "code",
   "execution_count": 35,
   "metadata": {},
   "outputs": [
    {
     "data": {
      "application/vnd.plotly.v1+json": {
       "config": {
        "plotlyServerURL": "https://plot.ly"
       },
       "data": [
        {
         "dimensions": [
          {
           "label": "Program",
           "values": [
            "Intervention",
            "Intervention",
            "Intervention",
            "Intervention",
            "UsualCare",
            "Intervention",
            "Intervention",
            "Intervention",
            "UsualCare",
            "UsualCare",
            "Intervention",
            "UsualCare",
            "Intervention",
            "Intervention",
            "UsualCare",
            "UsualCare",
            "UsualCare",
            "UsualCare",
            "UsualCare",
            "UsualCare",
            "Intervention",
            "UsualCare",
            "Intervention",
            "UsualCare",
            "UsualCare",
            "UsualCare",
            "UsualCare",
            "UsualCare",
            "UsualCare",
            "Intervention",
            "Intervention",
            "Intervention",
            "UsualCare",
            "UsualCare",
            "UsualCare",
            "Intervention",
            "Intervention",
            "UsualCare",
            "Intervention",
            "UsualCare",
            "Intervention",
            "UsualCare",
            "Intervention",
            "Intervention",
            "UsualCare",
            "UsualCare",
            "UsualCare",
            "UsualCare",
            "UsualCare",
            "Intervention",
            "UsualCare",
            "UsualCare",
            "Intervention",
            "Intervention",
            "UsualCare",
            "UsualCare",
            "UsualCare",
            "Intervention",
            "Intervention",
            "Intervention",
            "UsualCare",
            "Intervention",
            "UsualCare",
            "UsualCare",
            "Intervention",
            "UsualCare",
            "UsualCare",
            "Intervention",
            "Intervention",
            "UsualCare",
            "UsualCare",
            "UsualCare",
            "UsualCare",
            "Intervention",
            "Intervention",
            "UsualCare",
            "UsualCare",
            "UsualCare",
            "UsualCare",
            "UsualCare",
            "UsualCare",
            "Intervention",
            "Intervention",
            "Intervention",
            "UsualCare",
            "UsualCare",
            "Intervention",
            "Intervention",
            "Intervention",
            "UsualCare",
            "UsualCare",
            "UsualCare",
            "UsualCare",
            "UsualCare",
            "Intervention",
            "Intervention",
            "Intervention",
            "Intervention",
            "Intervention",
            "Intervention",
            "UsualCare",
            "Intervention",
            "UsualCare",
            "Intervention",
            "UsualCare",
            "Intervention",
            "Intervention",
            "UsualCare",
            "UsualCare",
            "UsualCare",
            "Intervention",
            "UsualCare",
            "Intervention",
            "UsualCare",
            "Intervention",
            "Intervention",
            "Intervention",
            "UsualCare",
            "UsualCare",
            "Intervention",
            "UsualCare",
            "Intervention",
            "Intervention",
            "Intervention",
            "UsualCare",
            "Intervention",
            "Intervention",
            "Intervention",
            "Intervention",
            "UsualCare",
            "Intervention",
            "UsualCare",
            "UsualCare",
            "Intervention",
            "UsualCare",
            "Intervention",
            "UsualCare",
            "UsualCare",
            "UsualCare",
            "UsualCare",
            "Intervention",
            "UsualCare",
            "UsualCare",
            "UsualCare",
            "UsualCare",
            "Intervention",
            "UsualCare",
            "UsualCare",
            "Intervention",
            "UsualCare",
            "UsualCare",
            "Intervention",
            "UsualCare",
            "UsualCare",
            "Intervention",
            "UsualCare",
            "UsualCare",
            "UsualCare",
            "Intervention",
            "Intervention",
            "Intervention",
            "Intervention",
            "UsualCare",
            "Intervention",
            "UsualCare",
            "UsualCare",
            "UsualCare",
            "Intervention",
            "UsualCare",
            "UsualCare",
            "UsualCare",
            "UsualCare",
            "Intervention",
            "UsualCare",
            "UsualCare",
            "Intervention",
            "UsualCare",
            "Intervention",
            "UsualCare",
            "Intervention",
            "Intervention",
            "UsualCare",
            "UsualCare",
            "UsualCare",
            "UsualCare",
            "Intervention",
            "Intervention",
            "UsualCare",
            "UsualCare",
            "UsualCare",
            "Intervention",
            "UsualCare",
            "UsualCare",
            "UsualCare",
            "UsualCare",
            "UsualCare",
            "UsualCare",
            "UsualCare",
            "Intervention",
            "Intervention",
            "UsualCare",
            "UsualCare",
            "Intervention",
            "Intervention",
            "Intervention",
            "Intervention",
            "Intervention",
            "UsualCare",
            "Intervention",
            "UsualCare",
            "UsualCare",
            "UsualCare",
            "Intervention",
            "Intervention",
            "Intervention",
            "UsualCare",
            "UsualCare",
            "Intervention",
            "UsualCare",
            "UsualCare",
            "UsualCare",
            "UsualCare",
            "UsualCare",
            "UsualCare",
            "UsualCare",
            "Intervention",
            "Intervention",
            "Intervention",
            "Intervention",
            "Intervention",
            "UsualCare",
            "UsualCare",
            "Intervention",
            "UsualCare",
            "UsualCare",
            "UsualCare",
            "UsualCare",
            "Intervention",
            "UsualCare",
            "UsualCare",
            "Intervention",
            "UsualCare",
            "Intervention",
            "Intervention",
            "UsualCare",
            "Intervention",
            "Intervention",
            "Intervention",
            "UsualCare",
            "Intervention",
            "UsualCare",
            "UsualCare",
            "UsualCare",
            "Intervention",
            "UsualCare",
            "UsualCare",
            "Intervention",
            "Intervention",
            "UsualCare",
            "Intervention",
            "Intervention",
            "UsualCare",
            "Intervention",
            "UsualCare",
            "UsualCare",
            "UsualCare",
            "Intervention",
            "Intervention",
            "UsualCare",
            "Intervention",
            "Intervention",
            "Intervention",
            "UsualCare",
            "UsualCare",
            "UsualCare",
            "Intervention",
            "UsualCare",
            "UsualCare",
            "UsualCare",
            "Intervention",
            "UsualCare",
            "Intervention",
            "UsualCare",
            "Intervention",
            "Intervention",
            "UsualCare",
            "Intervention",
            "UsualCare",
            "UsualCare",
            "UsualCare",
            "UsualCare",
            "UsualCare",
            "UsualCare",
            "UsualCare",
            "UsualCare",
            "UsualCare",
            "Intervention",
            "Intervention",
            "UsualCare",
            "Intervention",
            "Intervention",
            "UsualCare",
            "Intervention",
            "UsualCare",
            "UsualCare",
            "UsualCare",
            "Intervention",
            "Intervention",
            "UsualCare",
            "UsualCare",
            "Intervention",
            "UsualCare",
            "UsualCare",
            "Intervention",
            "UsualCare",
            "Intervention",
            "Intervention",
            "UsualCare",
            "UsualCare",
            "Intervention",
            "Intervention",
            "Intervention",
            "UsualCare",
            "Intervention",
            "Intervention",
            "UsualCare",
            "UsualCare",
            "UsualCare",
            "UsualCare",
            "UsualCare",
            "UsualCare",
            "UsualCare",
            "UsualCare",
            "UsualCare",
            "UsualCare",
            "UsualCare",
            "UsualCare",
            "UsualCare",
            "UsualCare",
            "UsualCare",
            "UsualCare",
            "UsualCare",
            "UsualCare",
            "UsualCare",
            "UsualCare",
            "UsualCare",
            "UsualCare",
            "UsualCare",
            "UsualCare",
            "UsualCare",
            "UsualCare",
            "UsualCare",
            "UsualCare",
            "UsualCare",
            "UsualCare",
            "UsualCare",
            "UsualCare",
            "UsualCare",
            "UsualCare",
            "UsualCare",
            "UsualCare",
            "UsualCare",
            "UsualCare",
            "UsualCare",
            "UsualCare",
            "UsualCare",
            "UsualCare",
            "UsualCare",
            "UsualCare",
            "UsualCare",
            "UsualCare",
            "UsualCare",
            "UsualCare",
            "UsualCare",
            "UsualCare",
            "UsualCare",
            "UsualCare",
            "UsualCare",
            "UsualCare",
            "UsualCare",
            "UsualCare",
            "UsualCare",
            "UsualCare",
            "UsualCare",
            "UsualCare",
            "UsualCare",
            "UsualCare",
            "UsualCare",
            "UsualCare",
            "UsualCare",
            "UsualCare",
            "UsualCare",
            "UsualCare",
            "UsualCare",
            "UsualCare",
            "UsualCare",
            "UsualCare",
            "UsualCare",
            "UsualCare",
            "UsualCare",
            "UsualCare",
            "UsualCare",
            "UsualCare",
            "UsualCare",
            "UsualCare",
            "UsualCare",
            "UsualCare",
            "UsualCare",
            "UsualCare",
            "UsualCare",
            "UsualCare",
            "UsualCare",
            "UsualCare",
            "UsualCare",
            "UsualCare",
            "UsualCare",
            "UsualCare",
            "UsualCare",
            "UsualCare",
            "UsualCare",
            "UsualCare",
            "UsualCare",
            "UsualCare",
            "UsualCare",
            "UsualCare",
            "UsualCare",
            "UsualCare",
            "UsualCare",
            "UsualCare",
            "UsualCare",
            "UsualCare",
            "UsualCare",
            "UsualCare",
            "UsualCare",
            "UsualCare",
            "UsualCare",
            "UsualCare",
            "UsualCare",
            "UsualCare",
            "UsualCare",
            "UsualCare",
            "UsualCare",
            "UsualCare",
            "UsualCare",
            "UsualCare",
            "UsualCare",
            "UsualCare",
            "UsualCare",
            "UsualCare",
            "UsualCare",
            "UsualCare",
            "UsualCare",
            "UsualCare",
            "UsualCare",
            "UsualCare",
            "UsualCare",
            "UsualCare",
            "UsualCare",
            "UsualCare",
            "UsualCare",
            "UsualCare",
            "UsualCare",
            "UsualCare",
            "UsualCare",
            "UsualCare",
            "UsualCare",
            "UsualCare",
            "UsualCare",
            "UsualCare",
            "UsualCare",
            "UsualCare",
            "UsualCare",
            "UsualCare",
            "UsualCare",
            "UsualCare",
            "UsualCare",
            "UsualCare",
            "UsualCare",
            "UsualCare"
           ]
          },
          {
           "label": "Gender",
           "values": [
            "F",
            "M",
            "M",
            "F",
            "M",
            "M",
            "F",
            "M",
            "F",
            "M",
            "F",
            "M",
            "M",
            "M",
            "M",
            "F",
            "M",
            "M",
            "M",
            "M",
            "M",
            "M",
            "F",
            "F",
            "M",
            "M",
            "M",
            "F",
            "F",
            "F",
            "F",
            "M",
            "M",
            "M",
            "M",
            "M",
            "M",
            "M",
            "M",
            "M",
            "F",
            "M",
            "M",
            "M",
            "M",
            "M",
            "M",
            "M",
            "M",
            "F",
            "F",
            "F",
            "F",
            "F",
            "M",
            "F",
            "M",
            "M",
            "M",
            "M",
            "M",
            "M",
            "F",
            "M",
            "F",
            "M",
            "M",
            "M",
            "M",
            "M",
            "F",
            "M",
            "M",
            "M",
            "F",
            "F",
            "M",
            "F",
            "F",
            "M",
            "M",
            "F",
            "M",
            "M",
            "M",
            "F",
            "M",
            "F",
            "M",
            "M",
            "F",
            "F",
            "M",
            "F",
            "F",
            "M",
            "F",
            "F",
            "F",
            "M",
            "M",
            "M",
            "F",
            "M",
            "M",
            "M",
            "F",
            "M",
            "M",
            "M",
            "M",
            "M",
            "M",
            "F",
            "M",
            "M",
            "M",
            "F",
            "M",
            "M",
            "M",
            "M",
            "M",
            "F",
            "M",
            "F",
            "M",
            "M",
            "M",
            "M",
            "F",
            "F",
            "M",
            "M",
            "F",
            "M",
            "F",
            "F",
            "F",
            "M",
            "M",
            "M",
            "F",
            "M",
            "M",
            "M",
            "M",
            "M",
            "F",
            "M",
            "M",
            "M",
            "M",
            "M",
            "M",
            "M",
            "M",
            "M",
            "F",
            "M",
            "M",
            "M",
            "M",
            "M",
            "M",
            "M",
            "F",
            "M",
            "M",
            "M",
            "F",
            "F",
            "M",
            "M",
            "F",
            "F",
            "M",
            "F",
            "M",
            "F",
            "M",
            "M",
            "M",
            "F",
            "M",
            "M",
            "M",
            "F",
            "M",
            "M",
            "M",
            "F",
            "M",
            "F",
            "M",
            "M",
            "M",
            "M",
            "F",
            "F",
            "F",
            "F",
            "M",
            "F",
            "M",
            "F",
            "F",
            "F",
            "F",
            "F",
            "M",
            "M",
            "M",
            "M",
            "F",
            "F",
            "F",
            "M",
            "M",
            "M",
            "F",
            "M",
            "M",
            "M",
            "F",
            "F",
            "M",
            "F",
            "M",
            "M",
            "M",
            "M",
            "F",
            "M",
            "F",
            "M",
            "M",
            "M",
            "M",
            "M",
            "F",
            "F",
            "F",
            "M",
            "M",
            "M",
            "M",
            "M",
            "M",
            "M",
            "M",
            "F",
            "F",
            "M",
            "M",
            "M",
            "F",
            "F",
            "M",
            "M",
            "M",
            "M",
            "M",
            "M",
            "M",
            "F",
            "F",
            "F",
            "F",
            "M",
            "F",
            "F",
            "F",
            "F",
            "F",
            "F",
            "F",
            "F",
            "F",
            "F",
            "F",
            "F",
            "F",
            "M",
            "F",
            "M",
            "M",
            "F",
            "F",
            "M",
            "M",
            "M",
            "M",
            "F",
            "F",
            "F",
            "M",
            "F",
            "F",
            "F",
            "M",
            "M",
            "F",
            "M",
            "F",
            "F",
            "M",
            "M",
            "F",
            "F",
            "M",
            "M",
            "M",
            "F",
            "M",
            "M",
            "M",
            "F",
            "M",
            "F",
            "M",
            "M",
            "M",
            "M",
            "M",
            "M",
            "M",
            "M",
            "M",
            "F",
            "M",
            "M",
            "M",
            "M",
            "M",
            "M",
            "M",
            "M",
            "F",
            "F",
            "M",
            "F",
            "M",
            "F",
            "M",
            "M",
            "M",
            "M",
            "F",
            "M",
            "M",
            "F",
            "F",
            "M",
            "M",
            "M",
            "M",
            "M",
            "F",
            "M",
            "M",
            "M",
            "M",
            "M",
            "M",
            "F",
            "M",
            "F",
            "M",
            "M",
            "M",
            "F",
            "M",
            "F",
            "M",
            "M",
            "M",
            "M",
            "F",
            "F",
            "F",
            "M",
            "F",
            "M",
            "M",
            "F",
            "F",
            "M",
            "M",
            "F",
            "F",
            "M",
            "F",
            "M",
            "F",
            "F",
            "F",
            "M",
            "M",
            "M",
            "M",
            "F",
            "M",
            "F",
            "F",
            "M",
            "M",
            "F",
            "F",
            "F",
            "M",
            "F",
            "M",
            "F",
            "F",
            "F",
            "M",
            "M",
            "F",
            "M",
            "M",
            "F",
            "M",
            "F",
            "F",
            "M",
            "M",
            "F",
            "M",
            "M",
            "M",
            "F",
            "M",
            "M",
            "F",
            "M",
            "M",
            "M",
            "M",
            "M",
            "M",
            "M",
            "M",
            "F",
            "M",
            "M",
            "M",
            "F",
            "F",
            "M",
            "M",
            "F",
            "M",
            "F",
            "F",
            "M",
            "M",
            "M",
            "F",
            "M",
            "F",
            "M",
            "M",
            "M",
            "M",
            "M",
            "F",
            "M",
            "F",
            "F",
            "F",
            "M",
            "M",
            "F",
            "M",
            "F",
            "M",
            "M",
            "F"
           ]
          },
          {
           "label": "RaceEthnicity",
           "values": [
            "Other",
            "NonHispWhite",
            "NativeAm",
            "NonHispWhite",
            "NonHispBlack",
            "NonHispWhite",
            "NonHispBlack",
            "Other",
            "Other",
            "NativeAm",
            "NonHispWhite",
            "NonHispWhite",
            "NonHispWhite",
            "NativeAm",
            "NonHispWhite",
            "NativeAm",
            "Other",
            "Other",
            "NativeAm",
            "NonHispWhite",
            "NonHispWhite",
            "Hispanic",
            "NativeAm",
            "NativeAm",
            "Hispanic",
            "NonHispWhite",
            "Other",
            "Hispanic",
            "NonHispBlack",
            "Other",
            "NonHispWhite",
            "Other",
            "NativeAm",
            "NativeAm",
            "NativeAm",
            "NativeAm",
            "NonHispWhite",
            "NativeAm",
            "NonHispWhite",
            "Other",
            "NativeAm",
            "Other",
            "NativeAm",
            "NativeAm",
            "NonHispWhite",
            "Other",
            "Other",
            "Other",
            "NativeAm",
            "Other",
            "NonHispWhite",
            "NonHispWhite",
            "Other",
            "Other",
            "NativeAm",
            "Other",
            "NativeAm",
            "Other",
            "NonHispWhite",
            "Other",
            "Other",
            "Other",
            "NativeAm",
            "NonHispWhite",
            "NativeAm",
            "NonHispWhite",
            "Other",
            "NativeAm",
            "NonHispWhite",
            "Other",
            "Other",
            "NativeAm",
            "Hispanic",
            "NativeAm",
            "NonHispWhite",
            "NonHispWhite",
            "Hispanic",
            "NonHispWhite",
            "NonHispWhite",
            "NativeAm",
            "Other",
            "Other",
            "Other",
            "Other",
            "NativeAm",
            "Other",
            "Other",
            "NonHispWhite",
            "NonHispWhite",
            "Other",
            "Other",
            "NativeAm",
            "NonHispWhite",
            "Other",
            "Other",
            "NonHispWhite",
            "NonHispWhite",
            "NonHispBlack",
            "NonHispBlack",
            "Other",
            "Other",
            "Other",
            "NonHispWhite",
            "NonHispWhite",
            "Other",
            "NonHispBlack",
            "Other",
            "Other",
            "NativeAm",
            "NonHispWhite",
            "NonHispBlack",
            "Other",
            "Other",
            "Other",
            "Other",
            "NonHispWhite",
            "NativeAm",
            "NonHispWhite",
            "NativeAm",
            "NonHispWhite",
            "Other",
            "NonHispWhite",
            "Hispanic",
            "Other",
            "NativeAm",
            "Other",
            "NativeAm",
            "Other",
            "NonHispWhite",
            "Other",
            "Other",
            "NativeAm",
            "NativeAm",
            "Hispanic",
            "NativeAm",
            "NonHispWhite",
            "NativeAm",
            "NativeAm",
            "NonHispWhite",
            "NativeAm",
            "Other",
            "NonHispWhite",
            "Other",
            "NonHispWhite",
            "NativeAm",
            "NonHispWhite",
            "NativeAm",
            "NonHispWhite",
            "Other",
            "NonHispWhite",
            "Other",
            "Other",
            "Other",
            "NonHispWhite",
            "Other",
            "Other",
            "NativeAm",
            "NonHispWhite",
            "NativeAm",
            "NonHispWhite",
            "Other",
            "NonHispWhite",
            "Other",
            "NonHispWhite",
            "NonHispBlack",
            "Other",
            "Other",
            "NonHispWhite",
            "NativeAm",
            "NonHispWhite",
            "NativeAm",
            "NonHispWhite",
            "Other",
            "Other",
            "Other",
            "Other",
            "Hispanic",
            "NativeAm",
            "NonHispWhite",
            "NonHispWhite",
            "Hispanic",
            "NonHispWhite",
            "NativeAm",
            "NativeAm",
            "Other",
            "NativeAm",
            "Other",
            "NonHispWhite",
            "Other",
            "Other",
            "NonHispBlack",
            "NonHispWhite",
            "NativeAm",
            "NonHispWhite",
            "Other",
            "Other",
            "NonHispWhite",
            "NativeAm",
            "Other",
            "NonHispWhite",
            "Other",
            "NonHispWhite",
            "NonHispWhite",
            "Other",
            "NonHispWhite",
            "NativeAm",
            "Other",
            "NonHispBlack",
            "Hispanic",
            "NativeAm",
            "Other",
            "NonHispBlack",
            "NativeAm",
            "NonHispWhite",
            "NativeAm",
            "Other",
            "NonHispWhite",
            "NonHispWhite",
            "NonHispWhite",
            "NonHispWhite",
            "NonHispWhite",
            "NonHispWhite",
            "NonHispWhite",
            "NonHispWhite",
            "NativeAm",
            "NonHispBlack",
            "Other",
            "Other",
            "Other",
            "Hispanic",
            "Other",
            "NativeAm",
            "NonHispWhite",
            "NonHispWhite",
            "Other",
            "NativeAm",
            "Other",
            "Other",
            "Other",
            "NativeAm",
            "NativeAm",
            "Other",
            "Other",
            "NonHispBlack",
            "NativeAm",
            "NonHispWhite",
            "Other",
            "NativeAm",
            "NonHispWhite",
            "NonHispWhite",
            "NativeAm",
            "NativeAm",
            "Other",
            "Other",
            "Hispanic",
            "NativeAm",
            "Other",
            "Other",
            "NonHispWhite",
            "NonHispWhite",
            "NativeAm",
            "NonHispWhite",
            "Other",
            "Other",
            "Other",
            "NonHispWhite",
            "Other",
            "NonHispWhite",
            "NativeAm",
            "Other",
            "NonHispBlack",
            "Hispanic",
            "Other",
            "Other",
            "NativeAm",
            "NonHispWhite",
            "NonHispWhite",
            "NonHispWhite",
            "NativeAm",
            "Other",
            "NonHispWhite",
            "NativeAm",
            "NonHispBlack",
            "NonHispBlack",
            "Other",
            "Other",
            "NonHispWhite",
            "Other",
            "NonHispWhite",
            "NonHispWhite",
            "NativeAm",
            "Other",
            "NativeAm",
            "Other",
            "NonHispWhite",
            "Other",
            "NativeAm",
            "NonHispWhite",
            "NativeAm",
            "Hispanic",
            "NonHispWhite",
            "NonHispWhite",
            "NonHispWhite",
            "Other",
            "NativeAm",
            "NonHispBlack",
            "Other",
            "NativeAm",
            "NonHispWhite",
            "Other",
            "NonHispWhite",
            "NativeAm",
            "NonHispWhite",
            "Other",
            "NonHispWhite",
            "NonHispWhite",
            "Other",
            "NativeAm",
            "NonHispWhite",
            "Hispanic",
            "Other",
            "NativeAm",
            "NativeAm",
            "Other",
            "Other",
            "NonHispWhite",
            "NativeAm",
            "NonHispBlack",
            "NonHispBlack",
            "NonHispWhite",
            "NonHispWhite",
            "Other",
            "NativeAm",
            "Other",
            "NativeAm",
            "NativeAm",
            "Other",
            "Other",
            "Other",
            "Other",
            "Other",
            "Other",
            "NativeAm",
            "Other",
            "NonHispWhite",
            "Other",
            "Other",
            "NativeAm",
            "NativeAm",
            "NonHispWhite",
            "NativeAm",
            "NonHispBlack",
            "NonHispWhite",
            "Other",
            "Other",
            "NonHispBlack",
            "Other",
            "NativeAm",
            "NativeAm",
            "NativeAm",
            "Other",
            "Other",
            "NativeAm",
            "Hispanic",
            "NativeAm",
            "Other",
            "Other",
            "NativeAm",
            "NativeAm",
            "NativeAm",
            "Other",
            "Other",
            "Other",
            "Other",
            "Other",
            "Other",
            "NativeAm",
            "Other",
            "Other",
            "NonHispWhite",
            "Other",
            "Other",
            "NativeAm",
            "NonHispWhite",
            "NonHispWhite",
            "Other",
            "Other",
            "Other",
            "Other",
            "Other",
            "Other",
            "NativeAm",
            "Other",
            "NativeAm",
            "Other",
            "NativeAm",
            "Other",
            "NativeAm",
            "Other",
            "NonHispWhite",
            "NativeAm",
            "Other",
            "Other",
            "Other",
            "Other",
            "Hispanic",
            "NonHispWhite",
            "NonHispWhite",
            "Other",
            "Other",
            "NonHispWhite",
            "NonHispWhite",
            "Other",
            "Other",
            "Hispanic",
            "Other",
            "Other",
            "NonHispWhite",
            "Other",
            "NonHispWhite",
            "NativeAm",
            "NonHispBlack",
            "NativeAm",
            "Other",
            "NonHispWhite",
            "NonHispWhite",
            "NonHispWhite",
            "NativeAm",
            "Other",
            "NativeAm",
            "Other",
            "NonHispWhite",
            "Other",
            "Other",
            "NonHispWhite",
            "Other",
            "NativeAm",
            "NativeAm",
            "NonHispWhite",
            "NonHispWhite",
            "NonHispWhite",
            "Other",
            "Other",
            "NativeAm",
            "NativeAm",
            "Other",
            "Other",
            "NativeAm",
            "Other",
            "NonHispWhite",
            "NonHispWhite",
            "NonHispWhite",
            "NonHispWhite",
            "Other",
            "NativeAm",
            "NativeAm",
            "Other",
            "NativeAm",
            "NativeAm",
            "Other",
            "NativeAm",
            "NonHispWhite",
            "Other",
            "Other",
            "NonHispWhite",
            "NonHispWhite",
            "NativeAm",
            "NonHispWhite",
            "NonHispWhite",
            "Other",
            "Hispanic",
            "NativeAm",
            "NonHispWhite",
            "Other",
            "Other",
            "NativeAm",
            "NativeAm",
            "Other",
            "Other"
           ]
          },
          {
           "label": "MHDx",
           "values": [
            "Depression",
            "Trauma",
            "Depression",
            "Depression",
            "Trauma",
            "Anxiety",
            "Depression",
            "Psychosis",
            "Depression",
            "Trauma",
            "Anxiety",
            "Psychosis",
            "Anxiety",
            "Trauma",
            "Depression",
            "Anxiety",
            "Anxiety",
            "Depression",
            "Anxiety",
            "Trauma",
            "Anxiety",
            "Anxiety",
            "Anxiety",
            "Anxiety",
            "Depression",
            "Depression",
            "Depression",
            "Anxiety",
            "Psychosis",
            "Anxiety",
            "Depression",
            "Anxiety",
            "Trauma",
            "Depression",
            "Anxiety",
            "Trauma",
            "Depression",
            "Anxiety",
            "Trauma",
            "Depression",
            "Anxiety",
            "Depression",
            "Anxiety",
            "Depression",
            "Trauma",
            "Depression",
            "Anxiety",
            "Psychosis",
            "Psychosis",
            "Depression",
            "Trauma",
            "Anxiety",
            "Trauma",
            "Depression",
            "Depression",
            "Trauma",
            "Psychosis",
            "Anxiety",
            "Depression",
            "Psychosis",
            "Trauma",
            "Depression",
            "Depression",
            "Psychosis",
            "Anxiety",
            "Psychosis",
            "Anxiety",
            "Depression",
            "Anxiety",
            "Anxiety",
            "Depression",
            "Trauma",
            "Depression",
            "Psychosis",
            "Psychosis",
            "Psychosis",
            "Anxiety",
            "Depression",
            "Anxiety",
            "Trauma",
            "Psychosis",
            "Anxiety",
            "Anxiety",
            "Psychosis",
            "Trauma",
            "Trauma",
            "Trauma",
            "Psychosis",
            "Depression",
            "Anxiety",
            "Trauma",
            "Anxiety",
            "Trauma",
            "Depression",
            "Psychosis",
            "Depression",
            "Anxiety",
            "Depression",
            "Trauma",
            "Trauma",
            "Anxiety",
            "Psychosis",
            "Psychosis",
            "Trauma",
            "Psychosis",
            "Depression",
            "Anxiety",
            "Anxiety",
            "Depression",
            "Depression",
            "Depression",
            "Depression",
            "Psychosis",
            "Psychosis",
            "Depression",
            "Depression",
            "Psychosis",
            "Anxiety",
            "Trauma",
            "Psychosis",
            "Anxiety",
            "Trauma",
            "Trauma",
            "Anxiety",
            "Depression",
            "Anxiety",
            "Anxiety",
            "Anxiety",
            "Depression",
            "Anxiety",
            "Depression",
            "Psychosis",
            "Psychosis",
            "Depression",
            "Depression",
            "Depression",
            "Trauma",
            "Depression",
            "Depression",
            "Depression",
            "Trauma",
            "Psychosis",
            "Anxiety",
            "Depression",
            "Psychosis",
            "Psychosis",
            "Trauma",
            "Psychosis",
            "Anxiety",
            "Depression",
            "Psychosis",
            "Psychosis",
            "Trauma",
            "Anxiety",
            "Anxiety",
            "Psychosis",
            "Depression",
            "Trauma",
            "Psychosis",
            "Psychosis",
            "Psychosis",
            "Anxiety",
            "Trauma",
            "Depression",
            "Psychosis",
            "Depression",
            "Psychosis",
            "Psychosis",
            "Depression",
            "Trauma",
            "Psychosis",
            "Anxiety",
            "Psychosis",
            "Depression",
            "Depression",
            "Anxiety",
            "Depression",
            "Anxiety",
            "Psychosis",
            "Anxiety",
            "Depression",
            "Anxiety",
            "Depression",
            "Depression",
            "Trauma",
            "Trauma",
            "Anxiety",
            "Psychosis",
            "Anxiety",
            "Psychosis",
            "Psychosis",
            "Psychosis",
            "Depression",
            "Depression",
            "Trauma",
            "Anxiety",
            "Psychosis",
            "Psychosis",
            "Trauma",
            "Psychosis",
            "Trauma",
            "Psychosis",
            "Depression",
            "Trauma",
            "Depression",
            "Depression",
            "Psychosis",
            "Trauma",
            "Trauma",
            "Anxiety",
            "Depression",
            "Depression",
            "Depression",
            "Depression",
            "Depression",
            "Depression",
            "Trauma",
            "Anxiety",
            "Psychosis",
            "Depression",
            "Trauma",
            "Psychosis",
            "Depression",
            "Depression",
            "Psychosis",
            "Anxiety",
            "Trauma",
            "Anxiety",
            "Anxiety",
            "Trauma",
            "Depression",
            "Depression",
            "Depression",
            "Depression",
            "Anxiety",
            "Depression",
            "Psychosis",
            "Anxiety",
            "Trauma",
            "Anxiety",
            "Depression",
            "Anxiety",
            "Depression",
            "Anxiety",
            "Anxiety",
            "Anxiety",
            "Anxiety",
            "Depression",
            "Depression",
            "Depression",
            "Trauma",
            "Depression",
            "Anxiety",
            "Trauma",
            "Depression",
            "Depression",
            "Anxiety",
            "Psychosis",
            "Anxiety",
            "Depression",
            "Depression",
            "Anxiety",
            "Anxiety",
            "Anxiety",
            "Depression",
            "Depression",
            "Anxiety",
            "Psychosis",
            "Anxiety",
            "Anxiety",
            "Trauma",
            "Depression",
            "Anxiety",
            "Psychosis",
            "Depression",
            "Depression",
            "Trauma",
            "Depression",
            "Depression",
            "Psychosis",
            "Anxiety",
            "Depression",
            "Anxiety",
            "Anxiety",
            "Psychosis",
            "Anxiety",
            "Depression",
            "Psychosis",
            "Trauma",
            "Trauma",
            "Depression",
            "Trauma",
            "Anxiety",
            "Trauma",
            "Psychosis",
            "Trauma",
            "Depression",
            "Psychosis",
            "Depression",
            "Psychosis",
            "Psychosis",
            "Depression",
            "Anxiety",
            "Psychosis",
            "Trauma",
            "Anxiety",
            "Depression",
            "Anxiety",
            "Trauma",
            "Trauma",
            "Depression",
            "Depression",
            "Depression",
            "Trauma",
            "Depression",
            "Psychosis",
            "Psychosis",
            "Anxiety",
            "Psychosis",
            "Trauma",
            "Anxiety",
            "Psychosis",
            "Anxiety",
            "Psychosis",
            "Anxiety",
            "Psychosis",
            "Depression",
            "Trauma",
            "Anxiety",
            "Depression",
            "Trauma",
            "Anxiety",
            "Depression",
            "Depression",
            "Psychosis",
            "Anxiety",
            "Trauma",
            "Anxiety",
            "Anxiety",
            "Anxiety",
            "Depression",
            "Trauma",
            "Depression",
            "Psychosis",
            "Trauma",
            "Anxiety",
            "Depression",
            "Psychosis",
            "Anxiety",
            "Anxiety",
            "Trauma",
            "Depression",
            "Anxiety",
            "Depression",
            "Trauma",
            "Depression",
            "Psychosis",
            "Trauma",
            "Depression",
            "Psychosis",
            "Depression",
            "Depression",
            "Anxiety",
            "Trauma",
            "Anxiety",
            "Depression",
            "Trauma",
            "Anxiety",
            "Depression",
            "Trauma",
            "Anxiety",
            "Psychosis",
            "Trauma",
            "Trauma",
            "Depression",
            "Psychosis",
            "Depression",
            "Depression",
            "Trauma",
            "Depression",
            "Depression",
            "Anxiety",
            "Depression",
            "Trauma",
            "Trauma",
            "Anxiety",
            "Depression",
            "Depression",
            "Trauma",
            "Trauma",
            "Trauma",
            "Trauma",
            "Depression",
            "Anxiety",
            "Psychosis",
            "Psychosis",
            "Anxiety",
            "Depression",
            "Psychosis",
            "Anxiety",
            "Trauma",
            "Anxiety",
            "Anxiety",
            "Trauma",
            "Psychosis",
            "Psychosis",
            "Anxiety",
            "Depression",
            "Psychosis",
            "Trauma",
            "Anxiety",
            "Depression",
            "Anxiety",
            "Psychosis",
            "Trauma",
            "Psychosis",
            "Anxiety",
            "Anxiety",
            "Trauma",
            "Psychosis",
            "Psychosis",
            "Psychosis",
            "Depression",
            "Trauma",
            "Depression",
            "Psychosis",
            "Anxiety",
            "Trauma",
            "Trauma",
            "Depression",
            "Anxiety",
            "Anxiety",
            "Psychosis",
            "Trauma",
            "Psychosis",
            "Depression",
            "Trauma",
            "Anxiety",
            "Anxiety",
            "Depression",
            "Anxiety",
            "Anxiety",
            "Psychosis",
            "Depression",
            "Anxiety",
            "Psychosis",
            "Anxiety",
            "Psychosis",
            "Trauma",
            "Trauma",
            "Anxiety",
            "Depression",
            "Psychosis",
            "Depression",
            "Trauma",
            "Trauma",
            "Psychosis",
            "Anxiety",
            "Depression",
            "Trauma",
            "Depression",
            "Depression",
            "Psychosis",
            "Anxiety",
            "Depression",
            "Trauma",
            "Trauma",
            "Depression",
            "Depression",
            "Depression",
            "Depression",
            "Anxiety",
            "Anxiety",
            "Trauma",
            "Psychosis",
            "Depression",
            "Psychosis",
            "Anxiety",
            "Psychosis"
           ]
          },
          {
           "label": "SUDx",
           "values": [
            "Alcohol",
            "Opioid",
            "Opioid",
            "Alcohol",
            "Opioid",
            "Opioid",
            "Alcohol",
            "Stimulant",
            "Opioid",
            "None",
            "Opioid",
            "Opioid",
            "Opioid",
            "Alcohol",
            "Stimulant",
            "Stimulant",
            "Alcohol",
            "Opioid",
            "Opioid",
            "Alcohol",
            "None",
            "Alcohol",
            "Stimulant",
            "Alcohol",
            "Opioid",
            "Opioid",
            "Opioid",
            "None",
            "Opioid",
            "Stimulant",
            "None",
            "Opioid",
            "Alcohol",
            "None",
            "Alcohol",
            "Opioid",
            "Opioid",
            "None",
            "Opioid",
            "Opioid",
            "Alcohol",
            "Opioid",
            "Opioid",
            "Opioid",
            "Stimulant",
            "None",
            "Opioid",
            "Stimulant",
            "Alcohol",
            "Stimulant",
            "Opioid",
            "Opioid",
            "None",
            "Stimulant",
            "Stimulant",
            "Alcohol",
            "Opioid",
            "Alcohol",
            "None",
            "Alcohol",
            "Alcohol",
            "Alcohol",
            "Alcohol",
            "Opioid",
            "Opioid",
            "Opioid",
            "Stimulant",
            "Alcohol",
            "None",
            "Opioid",
            "Alcohol",
            "None",
            "Opioid",
            "Opioid",
            "Alcohol",
            "Stimulant",
            "Alcohol",
            "Alcohol",
            "None",
            "Alcohol",
            "Alcohol",
            "Opioid",
            "None",
            "Alcohol",
            "Stimulant",
            "Alcohol",
            "Opioid",
            "Stimulant",
            "Alcohol",
            "Stimulant",
            "Alcohol",
            "Stimulant",
            "Alcohol",
            "Stimulant",
            "Alcohol",
            "Alcohol",
            "Alcohol",
            "Opioid",
            "Alcohol",
            "Opioid",
            "None",
            "Alcohol",
            "None",
            "Alcohol",
            "Alcohol",
            "Stimulant",
            "Opioid",
            "Opioid",
            "None",
            "Opioid",
            "Alcohol",
            "Alcohol",
            "Alcohol",
            "Stimulant",
            "Opioid",
            "None",
            "Alcohol",
            "Alcohol",
            "None",
            "Opioid",
            "Opioid",
            "Alcohol",
            "Alcohol",
            "Opioid",
            "Opioid",
            "Alcohol",
            "Opioid",
            "Opioid",
            "Stimulant",
            "Stimulant",
            "Opioid",
            "None",
            "Alcohol",
            "Opioid",
            "None",
            "Opioid",
            "Alcohol",
            "Alcohol",
            "Alcohol",
            "Alcohol",
            "Opioid",
            "Stimulant",
            "Opioid",
            "Opioid",
            "Opioid",
            "None",
            "Alcohol",
            "Opioid",
            "Opioid",
            "Stimulant",
            "Stimulant",
            "Stimulant",
            "Opioid",
            "None",
            "Opioid",
            "None",
            "None",
            "Alcohol",
            "Alcohol",
            "None",
            "Alcohol",
            "Alcohol",
            "None",
            "Alcohol",
            "Opioid",
            "Alcohol",
            "Alcohol",
            "Stimulant",
            "None",
            "None",
            "Opioid",
            "Alcohol",
            "None",
            "Stimulant",
            "Opioid",
            "Alcohol",
            "Alcohol",
            "Opioid",
            "Alcohol",
            "Alcohol",
            "Opioid",
            "Opioid",
            "Alcohol",
            "Opioid",
            "Opioid",
            "Alcohol",
            "Alcohol",
            "Alcohol",
            "Opioid",
            "None",
            "Stimulant",
            "None",
            "Alcohol",
            "Opioid",
            "Opioid",
            "Alcohol",
            "None",
            "Alcohol",
            "Opioid",
            "Opioid",
            "Opioid",
            "Opioid",
            "Opioid",
            "Alcohol",
            "None",
            "None",
            "Opioid",
            "Alcohol",
            "None",
            "Alcohol",
            "None",
            "Opioid",
            "Alcohol",
            "Alcohol",
            "Alcohol",
            "None",
            "Opioid",
            "Opioid",
            "Alcohol",
            "Stimulant",
            "None",
            "None",
            "Opioid",
            "Opioid",
            "Opioid",
            "None",
            "Opioid",
            "Opioid",
            "Alcohol",
            "Opioid",
            "None",
            "None",
            "Alcohol",
            "Stimulant",
            "Opioid",
            "Alcohol",
            "Opioid",
            "None",
            "Opioid",
            "Alcohol",
            "Alcohol",
            "Opioid",
            "Stimulant",
            "Stimulant",
            "Opioid",
            "None",
            "Opioid",
            "Opioid",
            "None",
            "None",
            "Alcohol",
            "None",
            "Opioid",
            "Alcohol",
            "Stimulant",
            "None",
            "Opioid",
            "Opioid",
            "None",
            "Opioid",
            "Opioid",
            "None",
            "None",
            "Alcohol",
            "Stimulant",
            "Alcohol",
            "Opioid",
            "Opioid",
            "Alcohol",
            "Opioid",
            "Opioid",
            "Alcohol",
            "Alcohol",
            "None",
            "Opioid",
            "Alcohol",
            "Alcohol",
            "Opioid",
            "Alcohol",
            "Opioid",
            "Alcohol",
            "Opioid",
            "None",
            "Alcohol",
            "Opioid",
            "Alcohol",
            "Stimulant",
            "Alcohol",
            "Stimulant",
            "None",
            "Opioid",
            "Stimulant",
            "Opioid",
            "Opioid",
            "Alcohol",
            "Opioid",
            "None",
            "Stimulant",
            "Alcohol",
            "None",
            "Opioid",
            "Alcohol",
            "Alcohol",
            "Opioid",
            "Alcohol",
            "None",
            "Alcohol",
            "Opioid",
            "None",
            "Alcohol",
            "Opioid",
            "Alcohol",
            "Alcohol",
            "Stimulant",
            "Opioid",
            "Alcohol",
            "Alcohol",
            "None",
            "Alcohol",
            "Opioid",
            "Alcohol",
            "Opioid",
            "Alcohol",
            "Alcohol",
            "Opioid",
            "None",
            "Stimulant",
            "None",
            "None",
            "Opioid",
            "Alcohol",
            "Opioid",
            "Alcohol",
            "Alcohol",
            "Alcohol",
            "None",
            "Stimulant",
            "Alcohol",
            "Alcohol",
            "Alcohol",
            "Alcohol",
            "None",
            "Alcohol",
            "None",
            "Alcohol",
            "Alcohol",
            "None",
            "None",
            "Alcohol",
            "Alcohol",
            "Opioid",
            "None",
            "Opioid",
            "Alcohol",
            "Opioid",
            "Opioid",
            "Opioid",
            "None",
            "Opioid",
            "Opioid",
            "Alcohol",
            "Opioid",
            "Alcohol",
            "Opioid",
            "Alcohol",
            "Alcohol",
            "Alcohol",
            "None",
            "Alcohol",
            "Alcohol",
            "Opioid",
            "None",
            "None",
            "None",
            "None",
            "Alcohol",
            "Opioid",
            "Alcohol",
            "Opioid",
            "Alcohol",
            "None",
            "None",
            "None",
            "Opioid",
            "Alcohol",
            "Alcohol",
            "Opioid",
            "Opioid",
            "Alcohol",
            "Alcohol",
            "Alcohol",
            "Alcohol",
            "Alcohol",
            "Opioid",
            "Opioid",
            "Alcohol",
            "Alcohol",
            "None",
            "Opioid",
            "Alcohol",
            "Alcohol",
            "Alcohol",
            "Opioid",
            "None",
            "Opioid",
            "Alcohol",
            "Alcohol",
            "Opioid",
            "Stimulant",
            "Opioid",
            "None",
            "Stimulant",
            "None",
            "Opioid",
            "None",
            "None",
            "Alcohol",
            "Alcohol",
            "Alcohol",
            "None",
            "Opioid",
            "Alcohol",
            "Alcohol",
            "Alcohol",
            "None",
            "Stimulant",
            "None",
            "Opioid",
            "Alcohol",
            "Opioid",
            "None",
            "Alcohol",
            "None",
            "Stimulant",
            "Opioid",
            "Opioid",
            "Opioid",
            "None",
            "None",
            "None",
            "Opioid",
            "Alcohol",
            "None",
            "None",
            "Stimulant",
            "Opioid",
            "Opioid",
            "Alcohol",
            "Opioid",
            "None",
            "Alcohol",
            "Alcohol",
            "Alcohol",
            "Stimulant",
            "Opioid",
            "None",
            "Opioid",
            "Opioid",
            "None",
            "Alcohol",
            "Alcohol",
            "Opioid",
            "None",
            "Opioid",
            "Opioid",
            "Opioid",
            "Alcohol",
            "None",
            "Opioid",
            "None",
            "Opioid",
            "Opioid",
            "None",
            "Alcohol",
            "Stimulant",
            "Alcohol",
            "None",
            "Opioid",
            "None"
           ]
          }
         ],
         "domain": {
          "x": [
           0,
           0.98
          ],
          "y": [
           0,
           1
          ]
         },
         "line": {
          "color": [
           0.43999999999999995,
           0.45999999999999996,
           0.6100000000000003,
           0.34999999999999964,
           0.05999999999999961,
           0.5099999999999998,
           0.5099999999999998,
           0.9499999999999997,
           0.05999999999999961,
           -0.019999999999999574,
           0.6699999999999999,
           -0.040000000000000036,
           0.4900000000000002,
           0.4499999999999993,
           -0.05000000000000071,
           -0.020000000000000018,
           0.08000000000000007,
           0,
           -0.029999999999999805,
           0.04999999999999982,
           0.28000000000000025,
           -0.08999999999999986,
           0.5499999999999998,
           0.02999999999999936,
           0.019999999999999574,
           0.020000000000000018,
           -0.010000000000000231,
           0.010000000000000231,
           0.010000000000000231,
           0.35000000000000053,
           0.6100000000000003,
           0.6699999999999999,
           -0.009999999999999787,
           0.05999999999999961,
           -0.10000000000000053,
           0.28000000000000025,
           0.6699999999999995,
           -0.03000000000000025,
           0.5499999999999998,
           -0.010000000000000675,
           0.33000000000000007,
           0.040000000000000036,
           0.33000000000000007,
           0.71,
           -0.03000000000000025,
           -0.04999999999999982,
           0.010000000000000231,
           0.10000000000000009,
           -0.10000000000000053,
           0.4899999999999993,
           0,
           -0.050000000000000266,
           0.7000000000000002,
           0.5,
           -0.04999999999999982,
           0.020000000000000018,
           0.010000000000000231,
           0.96,
           0.45999999999999996,
           0.7899999999999996,
           -0.009999999999999787,
           0.6700000000000008,
           0.06000000000000005,
           0,
           0.5699999999999998,
           0.06000000000000005,
           -0.10000000000000009,
           0.2799999999999998,
           0.6600000000000001,
           -0.019999999999999574,
           0.020000000000000018,
           -0.0600000000000005,
           -0.08999999999999986,
           0.8200000000000003,
           0.8699999999999997,
           -0.020000000000000018,
           0.08000000000000007,
           -0.04999999999999982,
           0.040000000000000036,
           -0.05999999999999961,
           -0.040000000000000036,
           0.31999999999999984,
           0.6599999999999997,
           0.81,
           -0.009999999999999787,
           0.040000000000000036,
           0.2699999999999996,
           0.75,
           0.8799999999999999,
           -0.020000000000000018,
           0.040000000000000036,
           -0.08000000000000007,
           -0.07000000000000028,
           -0.09000000000000075,
           0.94,
           0.43999999999999995,
           0.45999999999999996,
           0.71,
           0.71,
           0.2400000000000002,
           0.07000000000000028,
           0.8799999999999999,
           -0.10000000000000009,
           0.45999999999999996,
           0.03000000000000025,
           0.45999999999999996,
           0.23999999999999977,
           0.04999999999999982,
           0.009999999999999787,
           -0.03000000000000025,
           0.71,
           0,
           0.8399999999999999,
           0.020000000000000462,
           0.7100000000000004,
           0.2699999999999996,
           0.6799999999999997,
           0,
           -0.009999999999999787,
           0.7600000000000002,
           -0.029999999999999805,
           0.5300000000000002,
           0.43999999999999995,
           0.4900000000000002,
           -0.040000000000000036,
           0.45999999999999996,
           0.5099999999999998,
           0.4499999999999993,
           0.5499999999999998,
           0.07000000000000028,
           0.5700000000000003,
           -0.020000000000000018,
           -0.03000000000000025,
           0.7100000000000004,
           0.05000000000000071,
           0.4499999999999993,
           -0.10999999999999988,
           -0.10999999999999988,
           -0.020000000000000018,
           -0.07000000000000028,
           0.4499999999999993,
           0,
           0.040000000000000036,
           0.05000000000000071,
           -0.050000000000000266,
           0.7200000000000002,
           0.040000000000000036,
           0.1200000000000001,
           0.6099999999999999,
           0.020000000000000018,
           0.0699999999999994,
           0.5700000000000003,
           0.029999999999999805,
           -0.04999999999999982,
           0.6100000000000003,
           -0.03000000000000025,
           -0.020000000000000462,
           -0.03000000000000025,
           0.7799999999999994,
           0.69,
           0.7200000000000002,
           0.54,
           0,
           0.54,
           0,
           -0.019999999999999574,
           -0.009999999999999787,
           0.8299999999999996,
           0.040000000000000036,
           0.04999999999999982,
           -0.040000000000000036,
           0.1299999999999999,
           0.77,
           0.009999999999999787,
           -0.03000000000000025,
           0.6600000000000001,
           0.03000000000000025,
           0.4599999999999995,
           0.06999999999999984,
           0.6099999999999994,
           0.2400000000000002,
           0.009999999999999787,
           -0.009999999999999787,
           -0.009999999999999787,
           0.05000000000000071,
           0.7000000000000002,
           0.5299999999999998,
           0,
           -0.06000000000000005,
           0.06000000000000005,
           0.8099999999999996,
           -0.020000000000000462,
           0.019999999999999574,
           0.019999999999999574,
           0.040000000000000036,
           -0.009999999999999787,
           0,
           -0.040000000000000036,
           0.4500000000000002,
           0.71,
           -0.08000000000000007,
           0.050000000000000266,
           0.6500000000000004,
           0.96,
           0.43999999999999995,
           0.4500000000000002,
           0.6900000000000004,
           -0.10000000000000009,
           0.4500000000000002,
           -0.06000000000000005,
           0.040000000000000036,
           0.04999999999999982,
           0.71,
           0.4400000000000004,
           0.45999999999999996,
           -0.009999999999999787,
           0,
           0.34999999999999964,
           -0.040000000000000036,
           -0.009999999999999787,
           0.040000000000000036,
           -0.010000000000000231,
           0,
           -0.029999999999999805,
           -0.009999999999999787,
           0.6099999999999994,
           0.6499999999999999,
           0.43999999999999995,
           0.8800000000000003,
           0.31999999999999984,
           -0.06000000000000005,
           -0.04999999999999982,
           0.6099999999999999,
           -0.06000000000000005,
           0.03000000000000025,
           0.009999999999999787,
           -0.040000000000000036,
           0.6700000000000004,
           -0.010000000000000675,
           0.040000000000000036,
           0.6699999999999999,
           -0.03000000000000025,
           0.54,
           0.5700000000000003,
           0.009999999999999787,
           0.5300000000000002,
           0.6699999999999999,
           0.2799999999999998,
           -0.009999999999999787,
           0.45999999999999996,
           0,
           -0.06000000000000005,
           -0.03000000000000025,
           0.71,
           -0.020000000000000018,
           0.040000000000000036,
           0.2699999999999996,
           0.8900000000000001,
           0.029999999999999805,
           0.4500000000000002,
           0.31999999999999984,
           0.03000000000000025,
           0.6499999999999995,
           0.040000000000000036,
           0.03000000000000025,
           -0.040000000000000036,
           0.2400000000000002,
           0.7499999999999996,
           0.010000000000000675,
           0.8599999999999994,
           0.4500000000000002,
           0.43999999999999995,
           0.040000000000000036,
           -0.050000000000000266,
           0.06000000000000005,
           0.9600000000000004,
           -0.08999999999999986,
           0.009999999999999787,
           -0.010000000000000231,
           0.7300000000000004,
           -0.04999999999999982,
           0.5299999999999998,
           0.009999999999999787,
           0.8800000000000003,
           0.6599999999999997,
           0.009999999999999787,
           0.8599999999999994,
           0,
           0,
           0.040000000000000036,
           -0.050000000000000266,
           0.029999999999999805,
           0.04999999999999982,
           0.05000000000000071,
           0.050000000000000266,
           0.010000000000000675,
           0.5099999999999998,
           0.7700000000000005,
           -0.03000000000000025,
           0.8399999999999999,
           0.6200000000000001,
           -0.02999999999999936,
           0.44999999999999973,
           0.009999999999999787,
           0.09000000000000075,
           0.040000000000000036,
           0.45999999999999996,
           0.6999999999999993,
           0.08000000000000007,
           0.010000000000000231,
           0.6500000000000004,
           -0.050000000000000266,
           0.0900000000000003,
           0.6600000000000001,
           0.07000000000000028,
           0.9199999999999999,
           0.7400000000000002,
           0.040000000000000036,
           0.010000000000000675,
           0.5,
           0.5,
           0.7400000000000002,
           0.08999999999999986,
           0.6099999999999999,
           0.8600000000000003,
           0.010000000000000231,
           0.040000000000000036,
           -0.040000000000000036,
           -0.08000000000000007,
           0.009999999999999787,
           0,
           0.09999999999999964,
           -0.04999999999999982,
           -0.04999999999999982,
           -0.029999999999999805,
           0.05999999999999961,
           0.04999999999999982,
           -0.04999999999999982,
           0.029999999999999805,
           -0.009999999999999787,
           0.16999999999999993,
           -0.06999999999999984,
           0.010000000000000675,
           0.019999999999999574,
           0.020000000000000018,
           0.06000000000000005,
           -0.03000000000000025,
           -0.04999999999999982,
           -0.019999999999999574,
           0,
           -0.09999999999999964,
           -0.029999999999999805,
           0.009999999999999787,
           0.009999999999999787,
           -0.03000000000000025,
           -0.06000000000000005,
           -0.050000000000000266,
           -0.050000000000000266,
           -0.029999999999999805,
           -0.06999999999999984,
           0.020000000000000018,
           -0.040000000000000036,
           -0.1200000000000001,
           0.020000000000000018,
           0.029999999999999805,
           -0.040000000000000036,
           0.04999999999999982,
           -0.1200000000000001,
           -0.009999999999999787,
           -0.03000000000000025,
           -0.08999999999999986,
           0.040000000000000036,
           0.020000000000000018,
           0.08000000000000007,
           0.050000000000000266,
           0.06000000000000005,
           0.020000000000000018,
           -0.02999999999999936,
           -0.019999999999999574,
           -0.06000000000000005,
           -0.019999999999999574,
           -0.020000000000000018,
           -0.020000000000000018,
           -0.11000000000000032,
           -0.050000000000000266,
           -0.03000000000000025,
           0,
           -0.05999999999999961,
           -0.029999999999999805,
           0.010000000000000231,
           0.03000000000000025,
           0.06000000000000005,
           0.009999999999999787,
           0.05999999999999961,
           0.020000000000000018,
           -0.04999999999999982,
           0.020000000000000018,
           0.06000000000000005,
           0.03000000000000025,
           -0.009999999999999787,
           0,
           -0.019999999999999574,
           -0.020000000000000462,
           0.0600000000000005,
           0.019999999999999574,
           -0.020000000000000018,
           0.05999999999999961,
           -0.03000000000000025,
           0,
           -0.07999999999999963,
           -0.04999999999999982,
           -0.020000000000000018,
           -0.03000000000000025,
           -0.03000000000000025,
           -0.020000000000000018,
           -0.029999999999999805,
           -0.10000000000000009,
           0,
           0.0699999999999994,
           0.009999999999999787,
           -0.009999999999999787,
           -0.009999999999999787,
           -0.020000000000000018,
           -0.009999999999999787,
           0.029999999999999805,
           -0.11999999999999966,
           -0.009999999999999787,
           0.06000000000000005,
           0.02999999999999936,
           0.009999999999999787,
           0.009999999999999787,
           -0.1200000000000001,
           -0.019999999999999574,
           -0.040000000000000036,
           0.08999999999999986,
           0,
           -0.04999999999999982,
           0.08000000000000007,
           -0.040000000000000036,
           0.04999999999999982,
           0,
           -0.019999999999999574,
           0.04999999999999982,
           -0.03000000000000025,
           -0.07000000000000028,
           0.020000000000000018,
           0.010000000000000231,
           -0.009999999999999787,
           0.1200000000000001,
           -0.020000000000000462,
           0,
           0.04999999999999982,
           -0.029999999999999805,
           -0.10999999999999988,
           0.040000000000000036,
           0.02999999999999936,
           0,
           0.06000000000000005,
           -0.020000000000000018,
           -0.009999999999999787,
           0.04999999999999982,
           0.020000000000000018,
           0,
           0.020000000000000462,
           -0.04999999999999982,
           -0.040000000000000036,
           0.020000000000000018,
           0,
           0.010000000000000231,
           -0.07000000000000028,
           -0.04999999999999982,
           -0.040000000000000036,
           -0.04999999999999982,
           0.07000000000000028,
           0.06000000000000005,
           -0.019999999999999574,
           -0.04999999999999982,
           -0.010000000000000231,
           0.009999999999999787
          ],
          "coloraxis": "coloraxis"
         },
         "name": "",
         "type": "parcats"
        }
       ],
       "layout": {
        "coloraxis": {
         "colorbar": {
          "title": {
           "text": "DLA_Diff"
          }
         },
         "colorscale": [
          [
           0,
           "#000004"
          ],
          [
           0.1111111111111111,
           "#1b0c41"
          ],
          [
           0.2222222222222222,
           "#4a0c6b"
          ],
          [
           0.3333333333333333,
           "#781c6d"
          ],
          [
           0.4444444444444444,
           "#a52c60"
          ],
          [
           0.5555555555555556,
           "#cf4446"
          ],
          [
           0.6666666666666666,
           "#ed6925"
          ],
          [
           0.7777777777777778,
           "#fb9b06"
          ],
          [
           0.8888888888888888,
           "#f7d13d"
          ],
          [
           1,
           "#fcffa4"
          ]
         ]
        },
        "height": 600,
        "legend": {
         "tracegroupgap": 0
        },
        "template": {
         "data": {
          "bar": [
           {
            "error_x": {
             "color": "#2a3f5f"
            },
            "error_y": {
             "color": "#2a3f5f"
            },
            "marker": {
             "line": {
              "color": "#E5ECF6",
              "width": 0.5
             }
            },
            "type": "bar"
           }
          ],
          "barpolar": [
           {
            "marker": {
             "line": {
              "color": "#E5ECF6",
              "width": 0.5
             }
            },
            "type": "barpolar"
           }
          ],
          "carpet": [
           {
            "aaxis": {
             "endlinecolor": "#2a3f5f",
             "gridcolor": "white",
             "linecolor": "white",
             "minorgridcolor": "white",
             "startlinecolor": "#2a3f5f"
            },
            "baxis": {
             "endlinecolor": "#2a3f5f",
             "gridcolor": "white",
             "linecolor": "white",
             "minorgridcolor": "white",
             "startlinecolor": "#2a3f5f"
            },
            "type": "carpet"
           }
          ],
          "choropleth": [
           {
            "colorbar": {
             "outlinewidth": 0,
             "ticks": ""
            },
            "type": "choropleth"
           }
          ],
          "contour": [
           {
            "colorbar": {
             "outlinewidth": 0,
             "ticks": ""
            },
            "colorscale": [
             [
              0,
              "#0d0887"
             ],
             [
              0.1111111111111111,
              "#46039f"
             ],
             [
              0.2222222222222222,
              "#7201a8"
             ],
             [
              0.3333333333333333,
              "#9c179e"
             ],
             [
              0.4444444444444444,
              "#bd3786"
             ],
             [
              0.5555555555555556,
              "#d8576b"
             ],
             [
              0.6666666666666666,
              "#ed7953"
             ],
             [
              0.7777777777777778,
              "#fb9f3a"
             ],
             [
              0.8888888888888888,
              "#fdca26"
             ],
             [
              1,
              "#f0f921"
             ]
            ],
            "type": "contour"
           }
          ],
          "contourcarpet": [
           {
            "colorbar": {
             "outlinewidth": 0,
             "ticks": ""
            },
            "type": "contourcarpet"
           }
          ],
          "heatmap": [
           {
            "colorbar": {
             "outlinewidth": 0,
             "ticks": ""
            },
            "colorscale": [
             [
              0,
              "#0d0887"
             ],
             [
              0.1111111111111111,
              "#46039f"
             ],
             [
              0.2222222222222222,
              "#7201a8"
             ],
             [
              0.3333333333333333,
              "#9c179e"
             ],
             [
              0.4444444444444444,
              "#bd3786"
             ],
             [
              0.5555555555555556,
              "#d8576b"
             ],
             [
              0.6666666666666666,
              "#ed7953"
             ],
             [
              0.7777777777777778,
              "#fb9f3a"
             ],
             [
              0.8888888888888888,
              "#fdca26"
             ],
             [
              1,
              "#f0f921"
             ]
            ],
            "type": "heatmap"
           }
          ],
          "heatmapgl": [
           {
            "colorbar": {
             "outlinewidth": 0,
             "ticks": ""
            },
            "colorscale": [
             [
              0,
              "#0d0887"
             ],
             [
              0.1111111111111111,
              "#46039f"
             ],
             [
              0.2222222222222222,
              "#7201a8"
             ],
             [
              0.3333333333333333,
              "#9c179e"
             ],
             [
              0.4444444444444444,
              "#bd3786"
             ],
             [
              0.5555555555555556,
              "#d8576b"
             ],
             [
              0.6666666666666666,
              "#ed7953"
             ],
             [
              0.7777777777777778,
              "#fb9f3a"
             ],
             [
              0.8888888888888888,
              "#fdca26"
             ],
             [
              1,
              "#f0f921"
             ]
            ],
            "type": "heatmapgl"
           }
          ],
          "histogram": [
           {
            "marker": {
             "colorbar": {
              "outlinewidth": 0,
              "ticks": ""
             }
            },
            "type": "histogram"
           }
          ],
          "histogram2d": [
           {
            "colorbar": {
             "outlinewidth": 0,
             "ticks": ""
            },
            "colorscale": [
             [
              0,
              "#0d0887"
             ],
             [
              0.1111111111111111,
              "#46039f"
             ],
             [
              0.2222222222222222,
              "#7201a8"
             ],
             [
              0.3333333333333333,
              "#9c179e"
             ],
             [
              0.4444444444444444,
              "#bd3786"
             ],
             [
              0.5555555555555556,
              "#d8576b"
             ],
             [
              0.6666666666666666,
              "#ed7953"
             ],
             [
              0.7777777777777778,
              "#fb9f3a"
             ],
             [
              0.8888888888888888,
              "#fdca26"
             ],
             [
              1,
              "#f0f921"
             ]
            ],
            "type": "histogram2d"
           }
          ],
          "histogram2dcontour": [
           {
            "colorbar": {
             "outlinewidth": 0,
             "ticks": ""
            },
            "colorscale": [
             [
              0,
              "#0d0887"
             ],
             [
              0.1111111111111111,
              "#46039f"
             ],
             [
              0.2222222222222222,
              "#7201a8"
             ],
             [
              0.3333333333333333,
              "#9c179e"
             ],
             [
              0.4444444444444444,
              "#bd3786"
             ],
             [
              0.5555555555555556,
              "#d8576b"
             ],
             [
              0.6666666666666666,
              "#ed7953"
             ],
             [
              0.7777777777777778,
              "#fb9f3a"
             ],
             [
              0.8888888888888888,
              "#fdca26"
             ],
             [
              1,
              "#f0f921"
             ]
            ],
            "type": "histogram2dcontour"
           }
          ],
          "mesh3d": [
           {
            "colorbar": {
             "outlinewidth": 0,
             "ticks": ""
            },
            "type": "mesh3d"
           }
          ],
          "parcoords": [
           {
            "line": {
             "colorbar": {
              "outlinewidth": 0,
              "ticks": ""
             }
            },
            "type": "parcoords"
           }
          ],
          "scatter": [
           {
            "marker": {
             "colorbar": {
              "outlinewidth": 0,
              "ticks": ""
             }
            },
            "type": "scatter"
           }
          ],
          "scatter3d": [
           {
            "line": {
             "colorbar": {
              "outlinewidth": 0,
              "ticks": ""
             }
            },
            "marker": {
             "colorbar": {
              "outlinewidth": 0,
              "ticks": ""
             }
            },
            "type": "scatter3d"
           }
          ],
          "scattercarpet": [
           {
            "marker": {
             "colorbar": {
              "outlinewidth": 0,
              "ticks": ""
             }
            },
            "type": "scattercarpet"
           }
          ],
          "scattergeo": [
           {
            "marker": {
             "colorbar": {
              "outlinewidth": 0,
              "ticks": ""
             }
            },
            "type": "scattergeo"
           }
          ],
          "scattergl": [
           {
            "marker": {
             "colorbar": {
              "outlinewidth": 0,
              "ticks": ""
             }
            },
            "type": "scattergl"
           }
          ],
          "scattermapbox": [
           {
            "marker": {
             "colorbar": {
              "outlinewidth": 0,
              "ticks": ""
             }
            },
            "type": "scattermapbox"
           }
          ],
          "scatterpolar": [
           {
            "marker": {
             "colorbar": {
              "outlinewidth": 0,
              "ticks": ""
             }
            },
            "type": "scatterpolar"
           }
          ],
          "scatterpolargl": [
           {
            "marker": {
             "colorbar": {
              "outlinewidth": 0,
              "ticks": ""
             }
            },
            "type": "scatterpolargl"
           }
          ],
          "scatterternary": [
           {
            "marker": {
             "colorbar": {
              "outlinewidth": 0,
              "ticks": ""
             }
            },
            "type": "scatterternary"
           }
          ],
          "surface": [
           {
            "colorbar": {
             "outlinewidth": 0,
             "ticks": ""
            },
            "colorscale": [
             [
              0,
              "#0d0887"
             ],
             [
              0.1111111111111111,
              "#46039f"
             ],
             [
              0.2222222222222222,
              "#7201a8"
             ],
             [
              0.3333333333333333,
              "#9c179e"
             ],
             [
              0.4444444444444444,
              "#bd3786"
             ],
             [
              0.5555555555555556,
              "#d8576b"
             ],
             [
              0.6666666666666666,
              "#ed7953"
             ],
             [
              0.7777777777777778,
              "#fb9f3a"
             ],
             [
              0.8888888888888888,
              "#fdca26"
             ],
             [
              1,
              "#f0f921"
             ]
            ],
            "type": "surface"
           }
          ],
          "table": [
           {
            "cells": {
             "fill": {
              "color": "#EBF0F8"
             },
             "line": {
              "color": "white"
             }
            },
            "header": {
             "fill": {
              "color": "#C8D4E3"
             },
             "line": {
              "color": "white"
             }
            },
            "type": "table"
           }
          ]
         },
         "layout": {
          "annotationdefaults": {
           "arrowcolor": "#2a3f5f",
           "arrowhead": 0,
           "arrowwidth": 1
          },
          "colorscale": {
           "diverging": [
            [
             0,
             "#8e0152"
            ],
            [
             0.1,
             "#c51b7d"
            ],
            [
             0.2,
             "#de77ae"
            ],
            [
             0.3,
             "#f1b6da"
            ],
            [
             0.4,
             "#fde0ef"
            ],
            [
             0.5,
             "#f7f7f7"
            ],
            [
             0.6,
             "#e6f5d0"
            ],
            [
             0.7,
             "#b8e186"
            ],
            [
             0.8,
             "#7fbc41"
            ],
            [
             0.9,
             "#4d9221"
            ],
            [
             1,
             "#276419"
            ]
           ],
           "sequential": [
            [
             0,
             "#0d0887"
            ],
            [
             0.1111111111111111,
             "#46039f"
            ],
            [
             0.2222222222222222,
             "#7201a8"
            ],
            [
             0.3333333333333333,
             "#9c179e"
            ],
            [
             0.4444444444444444,
             "#bd3786"
            ],
            [
             0.5555555555555556,
             "#d8576b"
            ],
            [
             0.6666666666666666,
             "#ed7953"
            ],
            [
             0.7777777777777778,
             "#fb9f3a"
            ],
            [
             0.8888888888888888,
             "#fdca26"
            ],
            [
             1,
             "#f0f921"
            ]
           ],
           "sequentialminus": [
            [
             0,
             "#0d0887"
            ],
            [
             0.1111111111111111,
             "#46039f"
            ],
            [
             0.2222222222222222,
             "#7201a8"
            ],
            [
             0.3333333333333333,
             "#9c179e"
            ],
            [
             0.4444444444444444,
             "#bd3786"
            ],
            [
             0.5555555555555556,
             "#d8576b"
            ],
            [
             0.6666666666666666,
             "#ed7953"
            ],
            [
             0.7777777777777778,
             "#fb9f3a"
            ],
            [
             0.8888888888888888,
             "#fdca26"
            ],
            [
             1,
             "#f0f921"
            ]
           ]
          },
          "colorway": [
           "#636efa",
           "#EF553B",
           "#00cc96",
           "#ab63fa",
           "#FFA15A",
           "#19d3f3",
           "#FF6692",
           "#B6E880",
           "#FF97FF",
           "#FECB52"
          ],
          "font": {
           "color": "#2a3f5f"
          },
          "geo": {
           "bgcolor": "white",
           "lakecolor": "white",
           "landcolor": "#E5ECF6",
           "showlakes": true,
           "showland": true,
           "subunitcolor": "white"
          },
          "hoverlabel": {
           "align": "left"
          },
          "hovermode": "closest",
          "mapbox": {
           "style": "light"
          },
          "paper_bgcolor": "white",
          "plot_bgcolor": "#E5ECF6",
          "polar": {
           "angularaxis": {
            "gridcolor": "white",
            "linecolor": "white",
            "ticks": ""
           },
           "bgcolor": "#E5ECF6",
           "radialaxis": {
            "gridcolor": "white",
            "linecolor": "white",
            "ticks": ""
           }
          },
          "scene": {
           "xaxis": {
            "backgroundcolor": "#E5ECF6",
            "gridcolor": "white",
            "gridwidth": 2,
            "linecolor": "white",
            "showbackground": true,
            "ticks": "",
            "zerolinecolor": "white"
           },
           "yaxis": {
            "backgroundcolor": "#E5ECF6",
            "gridcolor": "white",
            "gridwidth": 2,
            "linecolor": "white",
            "showbackground": true,
            "ticks": "",
            "zerolinecolor": "white"
           },
           "zaxis": {
            "backgroundcolor": "#E5ECF6",
            "gridcolor": "white",
            "gridwidth": 2,
            "linecolor": "white",
            "showbackground": true,
            "ticks": "",
            "zerolinecolor": "white"
           }
          },
          "shapedefaults": {
           "line": {
            "color": "#2a3f5f"
           }
          },
          "ternary": {
           "aaxis": {
            "gridcolor": "white",
            "linecolor": "white",
            "ticks": ""
           },
           "baxis": {
            "gridcolor": "white",
            "linecolor": "white",
            "ticks": ""
           },
           "bgcolor": "#E5ECF6",
           "caxis": {
            "gridcolor": "white",
            "linecolor": "white",
            "ticks": ""
           }
          },
          "title": {
           "x": 0.05
          },
          "xaxis": {
           "automargin": true,
           "gridcolor": "white",
           "linecolor": "white",
           "ticks": "",
           "zerolinecolor": "white",
           "zerolinewidth": 2
          },
          "yaxis": {
           "automargin": true,
           "gridcolor": "white",
           "linecolor": "white",
           "ticks": "",
           "zerolinecolor": "white",
           "zerolinewidth": 2
          }
         }
        },
        "title": {
         "text": "DLA Difference Across Categories"
        }
       }
      },
      "text/html": [
       "<div>\n",
       "        \n",
       "        \n",
       "            <div id=\"eaa9e3f1-007b-49a1-ae97-faf05d89990d\" class=\"plotly-graph-div\" style=\"height:600px; width:100%;\"></div>\n",
       "            <script type=\"text/javascript\">\n",
       "                require([\"plotly\"], function(Plotly) {\n",
       "                    window.PLOTLYENV=window.PLOTLYENV || {};\n",
       "                    \n",
       "                if (document.getElementById(\"eaa9e3f1-007b-49a1-ae97-faf05d89990d\")) {\n",
       "                    Plotly.newPlot(\n",
       "                        'eaa9e3f1-007b-49a1-ae97-faf05d89990d',\n",
       "                        [{\"dimensions\": [{\"label\": \"Program\", \"values\": [\"Intervention\", \"Intervention\", \"Intervention\", \"Intervention\", \"UsualCare\", \"Intervention\", \"Intervention\", \"Intervention\", \"UsualCare\", \"UsualCare\", \"Intervention\", \"UsualCare\", \"Intervention\", \"Intervention\", \"UsualCare\", \"UsualCare\", \"UsualCare\", \"UsualCare\", \"UsualCare\", \"UsualCare\", \"Intervention\", \"UsualCare\", \"Intervention\", \"UsualCare\", \"UsualCare\", \"UsualCare\", \"UsualCare\", \"UsualCare\", \"UsualCare\", \"Intervention\", \"Intervention\", \"Intervention\", \"UsualCare\", \"UsualCare\", \"UsualCare\", \"Intervention\", \"Intervention\", \"UsualCare\", \"Intervention\", \"UsualCare\", \"Intervention\", \"UsualCare\", \"Intervention\", \"Intervention\", \"UsualCare\", \"UsualCare\", \"UsualCare\", \"UsualCare\", \"UsualCare\", \"Intervention\", \"UsualCare\", \"UsualCare\", \"Intervention\", \"Intervention\", \"UsualCare\", \"UsualCare\", \"UsualCare\", \"Intervention\", \"Intervention\", \"Intervention\", \"UsualCare\", \"Intervention\", \"UsualCare\", \"UsualCare\", \"Intervention\", \"UsualCare\", \"UsualCare\", \"Intervention\", \"Intervention\", \"UsualCare\", \"UsualCare\", \"UsualCare\", \"UsualCare\", \"Intervention\", \"Intervention\", \"UsualCare\", \"UsualCare\", \"UsualCare\", \"UsualCare\", \"UsualCare\", \"UsualCare\", \"Intervention\", \"Intervention\", \"Intervention\", \"UsualCare\", \"UsualCare\", \"Intervention\", \"Intervention\", \"Intervention\", \"UsualCare\", \"UsualCare\", \"UsualCare\", \"UsualCare\", \"UsualCare\", \"Intervention\", \"Intervention\", \"Intervention\", \"Intervention\", \"Intervention\", \"Intervention\", \"UsualCare\", \"Intervention\", \"UsualCare\", \"Intervention\", \"UsualCare\", \"Intervention\", \"Intervention\", \"UsualCare\", \"UsualCare\", \"UsualCare\", \"Intervention\", \"UsualCare\", \"Intervention\", \"UsualCare\", \"Intervention\", \"Intervention\", \"Intervention\", \"UsualCare\", \"UsualCare\", \"Intervention\", \"UsualCare\", \"Intervention\", \"Intervention\", \"Intervention\", \"UsualCare\", \"Intervention\", \"Intervention\", \"Intervention\", \"Intervention\", \"UsualCare\", \"Intervention\", \"UsualCare\", \"UsualCare\", \"Intervention\", \"UsualCare\", \"Intervention\", \"UsualCare\", \"UsualCare\", \"UsualCare\", \"UsualCare\", \"Intervention\", \"UsualCare\", \"UsualCare\", \"UsualCare\", \"UsualCare\", \"Intervention\", \"UsualCare\", \"UsualCare\", \"Intervention\", \"UsualCare\", \"UsualCare\", \"Intervention\", \"UsualCare\", \"UsualCare\", \"Intervention\", \"UsualCare\", \"UsualCare\", \"UsualCare\", \"Intervention\", \"Intervention\", \"Intervention\", \"Intervention\", \"UsualCare\", \"Intervention\", \"UsualCare\", \"UsualCare\", \"UsualCare\", \"Intervention\", \"UsualCare\", \"UsualCare\", \"UsualCare\", \"UsualCare\", \"Intervention\", \"UsualCare\", \"UsualCare\", \"Intervention\", \"UsualCare\", \"Intervention\", \"UsualCare\", \"Intervention\", \"Intervention\", \"UsualCare\", \"UsualCare\", \"UsualCare\", \"UsualCare\", \"Intervention\", \"Intervention\", \"UsualCare\", \"UsualCare\", \"UsualCare\", \"Intervention\", \"UsualCare\", \"UsualCare\", \"UsualCare\", \"UsualCare\", \"UsualCare\", \"UsualCare\", \"UsualCare\", \"Intervention\", \"Intervention\", \"UsualCare\", \"UsualCare\", \"Intervention\", \"Intervention\", \"Intervention\", \"Intervention\", \"Intervention\", \"UsualCare\", \"Intervention\", \"UsualCare\", \"UsualCare\", \"UsualCare\", \"Intervention\", \"Intervention\", \"Intervention\", \"UsualCare\", \"UsualCare\", \"Intervention\", \"UsualCare\", \"UsualCare\", \"UsualCare\", \"UsualCare\", \"UsualCare\", \"UsualCare\", \"UsualCare\", \"Intervention\", \"Intervention\", \"Intervention\", \"Intervention\", \"Intervention\", \"UsualCare\", \"UsualCare\", \"Intervention\", \"UsualCare\", \"UsualCare\", \"UsualCare\", \"UsualCare\", \"Intervention\", \"UsualCare\", \"UsualCare\", \"Intervention\", \"UsualCare\", \"Intervention\", \"Intervention\", \"UsualCare\", \"Intervention\", \"Intervention\", \"Intervention\", \"UsualCare\", \"Intervention\", \"UsualCare\", \"UsualCare\", \"UsualCare\", \"Intervention\", \"UsualCare\", \"UsualCare\", \"Intervention\", \"Intervention\", \"UsualCare\", \"Intervention\", \"Intervention\", \"UsualCare\", \"Intervention\", \"UsualCare\", \"UsualCare\", \"UsualCare\", \"Intervention\", \"Intervention\", \"UsualCare\", \"Intervention\", \"Intervention\", \"Intervention\", \"UsualCare\", \"UsualCare\", \"UsualCare\", \"Intervention\", \"UsualCare\", \"UsualCare\", \"UsualCare\", \"Intervention\", \"UsualCare\", \"Intervention\", \"UsualCare\", \"Intervention\", \"Intervention\", \"UsualCare\", \"Intervention\", \"UsualCare\", \"UsualCare\", \"UsualCare\", \"UsualCare\", \"UsualCare\", \"UsualCare\", \"UsualCare\", \"UsualCare\", \"UsualCare\", \"Intervention\", \"Intervention\", \"UsualCare\", \"Intervention\", \"Intervention\", \"UsualCare\", \"Intervention\", \"UsualCare\", \"UsualCare\", \"UsualCare\", \"Intervention\", \"Intervention\", \"UsualCare\", \"UsualCare\", \"Intervention\", \"UsualCare\", \"UsualCare\", \"Intervention\", \"UsualCare\", \"Intervention\", \"Intervention\", \"UsualCare\", \"UsualCare\", \"Intervention\", \"Intervention\", \"Intervention\", \"UsualCare\", \"Intervention\", \"Intervention\", \"UsualCare\", \"UsualCare\", \"UsualCare\", \"UsualCare\", \"UsualCare\", \"UsualCare\", \"UsualCare\", \"UsualCare\", \"UsualCare\", \"UsualCare\", \"UsualCare\", \"UsualCare\", \"UsualCare\", \"UsualCare\", \"UsualCare\", \"UsualCare\", \"UsualCare\", \"UsualCare\", \"UsualCare\", \"UsualCare\", \"UsualCare\", \"UsualCare\", \"UsualCare\", \"UsualCare\", \"UsualCare\", \"UsualCare\", \"UsualCare\", \"UsualCare\", \"UsualCare\", \"UsualCare\", \"UsualCare\", \"UsualCare\", \"UsualCare\", \"UsualCare\", \"UsualCare\", \"UsualCare\", \"UsualCare\", \"UsualCare\", \"UsualCare\", \"UsualCare\", \"UsualCare\", \"UsualCare\", \"UsualCare\", \"UsualCare\", \"UsualCare\", \"UsualCare\", \"UsualCare\", \"UsualCare\", \"UsualCare\", \"UsualCare\", \"UsualCare\", \"UsualCare\", \"UsualCare\", \"UsualCare\", \"UsualCare\", \"UsualCare\", \"UsualCare\", \"UsualCare\", \"UsualCare\", \"UsualCare\", \"UsualCare\", \"UsualCare\", \"UsualCare\", \"UsualCare\", \"UsualCare\", \"UsualCare\", \"UsualCare\", \"UsualCare\", \"UsualCare\", \"UsualCare\", \"UsualCare\", \"UsualCare\", \"UsualCare\", \"UsualCare\", \"UsualCare\", \"UsualCare\", \"UsualCare\", \"UsualCare\", \"UsualCare\", \"UsualCare\", \"UsualCare\", \"UsualCare\", \"UsualCare\", \"UsualCare\", \"UsualCare\", \"UsualCare\", \"UsualCare\", \"UsualCare\", \"UsualCare\", \"UsualCare\", \"UsualCare\", \"UsualCare\", \"UsualCare\", \"UsualCare\", \"UsualCare\", \"UsualCare\", \"UsualCare\", \"UsualCare\", \"UsualCare\", \"UsualCare\", \"UsualCare\", \"UsualCare\", \"UsualCare\", \"UsualCare\", \"UsualCare\", \"UsualCare\", \"UsualCare\", \"UsualCare\", \"UsualCare\", \"UsualCare\", \"UsualCare\", \"UsualCare\", \"UsualCare\", \"UsualCare\", \"UsualCare\", \"UsualCare\", \"UsualCare\", \"UsualCare\", \"UsualCare\", \"UsualCare\", \"UsualCare\", \"UsualCare\", \"UsualCare\", \"UsualCare\", \"UsualCare\", \"UsualCare\", \"UsualCare\", \"UsualCare\", \"UsualCare\", \"UsualCare\", \"UsualCare\", \"UsualCare\", \"UsualCare\", \"UsualCare\", \"UsualCare\", \"UsualCare\", \"UsualCare\", \"UsualCare\", \"UsualCare\", \"UsualCare\", \"UsualCare\", \"UsualCare\", \"UsualCare\", \"UsualCare\", \"UsualCare\", \"UsualCare\", \"UsualCare\", \"UsualCare\", \"UsualCare\", \"UsualCare\", \"UsualCare\", \"UsualCare\", \"UsualCare\", \"UsualCare\"]}, {\"label\": \"Gender\", \"values\": [\"F\", \"M\", \"M\", \"F\", \"M\", \"M\", \"F\", \"M\", \"F\", \"M\", \"F\", \"M\", \"M\", \"M\", \"M\", \"F\", \"M\", \"M\", \"M\", \"M\", \"M\", \"M\", \"F\", \"F\", \"M\", \"M\", \"M\", \"F\", \"F\", \"F\", \"F\", \"M\", \"M\", \"M\", \"M\", \"M\", \"M\", \"M\", \"M\", \"M\", \"F\", \"M\", \"M\", \"M\", \"M\", \"M\", \"M\", \"M\", \"M\", \"F\", \"F\", \"F\", \"F\", \"F\", \"M\", \"F\", \"M\", \"M\", \"M\", \"M\", \"M\", \"M\", \"F\", \"M\", \"F\", \"M\", \"M\", \"M\", \"M\", \"M\", \"F\", \"M\", \"M\", \"M\", \"F\", \"F\", \"M\", \"F\", \"F\", \"M\", \"M\", \"F\", \"M\", \"M\", \"M\", \"F\", \"M\", \"F\", \"M\", \"M\", \"F\", \"F\", \"M\", \"F\", \"F\", \"M\", \"F\", \"F\", \"F\", \"M\", \"M\", \"M\", \"F\", \"M\", \"M\", \"M\", \"F\", \"M\", \"M\", \"M\", \"M\", \"M\", \"M\", \"F\", \"M\", \"M\", \"M\", \"F\", \"M\", \"M\", \"M\", \"M\", \"M\", \"F\", \"M\", \"F\", \"M\", \"M\", \"M\", \"M\", \"F\", \"F\", \"M\", \"M\", \"F\", \"M\", \"F\", \"F\", \"F\", \"M\", \"M\", \"M\", \"F\", \"M\", \"M\", \"M\", \"M\", \"M\", \"F\", \"M\", \"M\", \"M\", \"M\", \"M\", \"M\", \"M\", \"M\", \"M\", \"F\", \"M\", \"M\", \"M\", \"M\", \"M\", \"M\", \"M\", \"F\", \"M\", \"M\", \"M\", \"F\", \"F\", \"M\", \"M\", \"F\", \"F\", \"M\", \"F\", \"M\", \"F\", \"M\", \"M\", \"M\", \"F\", \"M\", \"M\", \"M\", \"F\", \"M\", \"M\", \"M\", \"F\", \"M\", \"F\", \"M\", \"M\", \"M\", \"M\", \"F\", \"F\", \"F\", \"F\", \"M\", \"F\", \"M\", \"F\", \"F\", \"F\", \"F\", \"F\", \"M\", \"M\", \"M\", \"M\", \"F\", \"F\", \"F\", \"M\", \"M\", \"M\", \"F\", \"M\", \"M\", \"M\", \"F\", \"F\", \"M\", \"F\", \"M\", \"M\", \"M\", \"M\", \"F\", \"M\", \"F\", \"M\", \"M\", \"M\", \"M\", \"M\", \"F\", \"F\", \"F\", \"M\", \"M\", \"M\", \"M\", \"M\", \"M\", \"M\", \"M\", \"F\", \"F\", \"M\", \"M\", \"M\", \"F\", \"F\", \"M\", \"M\", \"M\", \"M\", \"M\", \"M\", \"M\", \"F\", \"F\", \"F\", \"F\", \"M\", \"F\", \"F\", \"F\", \"F\", \"F\", \"F\", \"F\", \"F\", \"F\", \"F\", \"F\", \"F\", \"F\", \"M\", \"F\", \"M\", \"M\", \"F\", \"F\", \"M\", \"M\", \"M\", \"M\", \"F\", \"F\", \"F\", \"M\", \"F\", \"F\", \"F\", \"M\", \"M\", \"F\", \"M\", \"F\", \"F\", \"M\", \"M\", \"F\", \"F\", \"M\", \"M\", \"M\", \"F\", \"M\", \"M\", \"M\", \"F\", \"M\", \"F\", \"M\", \"M\", \"M\", \"M\", \"M\", \"M\", \"M\", \"M\", \"M\", \"F\", \"M\", \"M\", \"M\", \"M\", \"M\", \"M\", \"M\", \"M\", \"F\", \"F\", \"M\", \"F\", \"M\", \"F\", \"M\", \"M\", \"M\", \"M\", \"F\", \"M\", \"M\", \"F\", \"F\", \"M\", \"M\", \"M\", \"M\", \"M\", \"F\", \"M\", \"M\", \"M\", \"M\", \"M\", \"M\", \"F\", \"M\", \"F\", \"M\", \"M\", \"M\", \"F\", \"M\", \"F\", \"M\", \"M\", \"M\", \"M\", \"F\", \"F\", \"F\", \"M\", \"F\", \"M\", \"M\", \"F\", \"F\", \"M\", \"M\", \"F\", \"F\", \"M\", \"F\", \"M\", \"F\", \"F\", \"F\", \"M\", \"M\", \"M\", \"M\", \"F\", \"M\", \"F\", \"F\", \"M\", \"M\", \"F\", \"F\", \"F\", \"M\", \"F\", \"M\", \"F\", \"F\", \"F\", \"M\", \"M\", \"F\", \"M\", \"M\", \"F\", \"M\", \"F\", \"F\", \"M\", \"M\", \"F\", \"M\", \"M\", \"M\", \"F\", \"M\", \"M\", \"F\", \"M\", \"M\", \"M\", \"M\", \"M\", \"M\", \"M\", \"M\", \"F\", \"M\", \"M\", \"M\", \"F\", \"F\", \"M\", \"M\", \"F\", \"M\", \"F\", \"F\", \"M\", \"M\", \"M\", \"F\", \"M\", \"F\", \"M\", \"M\", \"M\", \"M\", \"M\", \"F\", \"M\", \"F\", \"F\", \"F\", \"M\", \"M\", \"F\", \"M\", \"F\", \"M\", \"M\", \"F\"]}, {\"label\": \"RaceEthnicity\", \"values\": [\"Other\", \"NonHispWhite\", \"NativeAm\", \"NonHispWhite\", \"NonHispBlack\", \"NonHispWhite\", \"NonHispBlack\", \"Other\", \"Other\", \"NativeAm\", \"NonHispWhite\", \"NonHispWhite\", \"NonHispWhite\", \"NativeAm\", \"NonHispWhite\", \"NativeAm\", \"Other\", \"Other\", \"NativeAm\", \"NonHispWhite\", \"NonHispWhite\", \"Hispanic\", \"NativeAm\", \"NativeAm\", \"Hispanic\", \"NonHispWhite\", \"Other\", \"Hispanic\", \"NonHispBlack\", \"Other\", \"NonHispWhite\", \"Other\", \"NativeAm\", \"NativeAm\", \"NativeAm\", \"NativeAm\", \"NonHispWhite\", \"NativeAm\", \"NonHispWhite\", \"Other\", \"NativeAm\", \"Other\", \"NativeAm\", \"NativeAm\", \"NonHispWhite\", \"Other\", \"Other\", \"Other\", \"NativeAm\", \"Other\", \"NonHispWhite\", \"NonHispWhite\", \"Other\", \"Other\", \"NativeAm\", \"Other\", \"NativeAm\", \"Other\", \"NonHispWhite\", \"Other\", \"Other\", \"Other\", \"NativeAm\", \"NonHispWhite\", \"NativeAm\", \"NonHispWhite\", \"Other\", \"NativeAm\", \"NonHispWhite\", \"Other\", \"Other\", \"NativeAm\", \"Hispanic\", \"NativeAm\", \"NonHispWhite\", \"NonHispWhite\", \"Hispanic\", \"NonHispWhite\", \"NonHispWhite\", \"NativeAm\", \"Other\", \"Other\", \"Other\", \"Other\", \"NativeAm\", \"Other\", \"Other\", \"NonHispWhite\", \"NonHispWhite\", \"Other\", \"Other\", \"NativeAm\", \"NonHispWhite\", \"Other\", \"Other\", \"NonHispWhite\", \"NonHispWhite\", \"NonHispBlack\", \"NonHispBlack\", \"Other\", \"Other\", \"Other\", \"NonHispWhite\", \"NonHispWhite\", \"Other\", \"NonHispBlack\", \"Other\", \"Other\", \"NativeAm\", \"NonHispWhite\", \"NonHispBlack\", \"Other\", \"Other\", \"Other\", \"Other\", \"NonHispWhite\", \"NativeAm\", \"NonHispWhite\", \"NativeAm\", \"NonHispWhite\", \"Other\", \"NonHispWhite\", \"Hispanic\", \"Other\", \"NativeAm\", \"Other\", \"NativeAm\", \"Other\", \"NonHispWhite\", \"Other\", \"Other\", \"NativeAm\", \"NativeAm\", \"Hispanic\", \"NativeAm\", \"NonHispWhite\", \"NativeAm\", \"NativeAm\", \"NonHispWhite\", \"NativeAm\", \"Other\", \"NonHispWhite\", \"Other\", \"NonHispWhite\", \"NativeAm\", \"NonHispWhite\", \"NativeAm\", \"NonHispWhite\", \"Other\", \"NonHispWhite\", \"Other\", \"Other\", \"Other\", \"NonHispWhite\", \"Other\", \"Other\", \"NativeAm\", \"NonHispWhite\", \"NativeAm\", \"NonHispWhite\", \"Other\", \"NonHispWhite\", \"Other\", \"NonHispWhite\", \"NonHispBlack\", \"Other\", \"Other\", \"NonHispWhite\", \"NativeAm\", \"NonHispWhite\", \"NativeAm\", \"NonHispWhite\", \"Other\", \"Other\", \"Other\", \"Other\", \"Hispanic\", \"NativeAm\", \"NonHispWhite\", \"NonHispWhite\", \"Hispanic\", \"NonHispWhite\", \"NativeAm\", \"NativeAm\", \"Other\", \"NativeAm\", \"Other\", \"NonHispWhite\", \"Other\", \"Other\", \"NonHispBlack\", \"NonHispWhite\", \"NativeAm\", \"NonHispWhite\", \"Other\", \"Other\", \"NonHispWhite\", \"NativeAm\", \"Other\", \"NonHispWhite\", \"Other\", \"NonHispWhite\", \"NonHispWhite\", \"Other\", \"NonHispWhite\", \"NativeAm\", \"Other\", \"NonHispBlack\", \"Hispanic\", \"NativeAm\", \"Other\", \"NonHispBlack\", \"NativeAm\", \"NonHispWhite\", \"NativeAm\", \"Other\", \"NonHispWhite\", \"NonHispWhite\", \"NonHispWhite\", \"NonHispWhite\", \"NonHispWhite\", \"NonHispWhite\", \"NonHispWhite\", \"NonHispWhite\", \"NativeAm\", \"NonHispBlack\", \"Other\", \"Other\", \"Other\", \"Hispanic\", \"Other\", \"NativeAm\", \"NonHispWhite\", \"NonHispWhite\", \"Other\", \"NativeAm\", \"Other\", \"Other\", \"Other\", \"NativeAm\", \"NativeAm\", \"Other\", \"Other\", \"NonHispBlack\", \"NativeAm\", \"NonHispWhite\", \"Other\", \"NativeAm\", \"NonHispWhite\", \"NonHispWhite\", \"NativeAm\", \"NativeAm\", \"Other\", \"Other\", \"Hispanic\", \"NativeAm\", \"Other\", \"Other\", \"NonHispWhite\", \"NonHispWhite\", \"NativeAm\", \"NonHispWhite\", \"Other\", \"Other\", \"Other\", \"NonHispWhite\", \"Other\", \"NonHispWhite\", \"NativeAm\", \"Other\", \"NonHispBlack\", \"Hispanic\", \"Other\", \"Other\", \"NativeAm\", \"NonHispWhite\", \"NonHispWhite\", \"NonHispWhite\", \"NativeAm\", \"Other\", \"NonHispWhite\", \"NativeAm\", \"NonHispBlack\", \"NonHispBlack\", \"Other\", \"Other\", \"NonHispWhite\", \"Other\", \"NonHispWhite\", \"NonHispWhite\", \"NativeAm\", \"Other\", \"NativeAm\", \"Other\", \"NonHispWhite\", \"Other\", \"NativeAm\", \"NonHispWhite\", \"NativeAm\", \"Hispanic\", \"NonHispWhite\", \"NonHispWhite\", \"NonHispWhite\", \"Other\", \"NativeAm\", \"NonHispBlack\", \"Other\", \"NativeAm\", \"NonHispWhite\", \"Other\", \"NonHispWhite\", \"NativeAm\", \"NonHispWhite\", \"Other\", \"NonHispWhite\", \"NonHispWhite\", \"Other\", \"NativeAm\", \"NonHispWhite\", \"Hispanic\", \"Other\", \"NativeAm\", \"NativeAm\", \"Other\", \"Other\", \"NonHispWhite\", \"NativeAm\", \"NonHispBlack\", \"NonHispBlack\", \"NonHispWhite\", \"NonHispWhite\", \"Other\", \"NativeAm\", \"Other\", \"NativeAm\", \"NativeAm\", \"Other\", \"Other\", \"Other\", \"Other\", \"Other\", \"Other\", \"NativeAm\", \"Other\", \"NonHispWhite\", \"Other\", \"Other\", \"NativeAm\", \"NativeAm\", \"NonHispWhite\", \"NativeAm\", \"NonHispBlack\", \"NonHispWhite\", \"Other\", \"Other\", \"NonHispBlack\", \"Other\", \"NativeAm\", \"NativeAm\", \"NativeAm\", \"Other\", \"Other\", \"NativeAm\", \"Hispanic\", \"NativeAm\", \"Other\", \"Other\", \"NativeAm\", \"NativeAm\", \"NativeAm\", \"Other\", \"Other\", \"Other\", \"Other\", \"Other\", \"Other\", \"NativeAm\", \"Other\", \"Other\", \"NonHispWhite\", \"Other\", \"Other\", \"NativeAm\", \"NonHispWhite\", \"NonHispWhite\", \"Other\", \"Other\", \"Other\", \"Other\", \"Other\", \"Other\", \"NativeAm\", \"Other\", \"NativeAm\", \"Other\", \"NativeAm\", \"Other\", \"NativeAm\", \"Other\", \"NonHispWhite\", \"NativeAm\", \"Other\", \"Other\", \"Other\", \"Other\", \"Hispanic\", \"NonHispWhite\", \"NonHispWhite\", \"Other\", \"Other\", \"NonHispWhite\", \"NonHispWhite\", \"Other\", \"Other\", \"Hispanic\", \"Other\", \"Other\", \"NonHispWhite\", \"Other\", \"NonHispWhite\", \"NativeAm\", \"NonHispBlack\", \"NativeAm\", \"Other\", \"NonHispWhite\", \"NonHispWhite\", \"NonHispWhite\", \"NativeAm\", \"Other\", \"NativeAm\", \"Other\", \"NonHispWhite\", \"Other\", \"Other\", \"NonHispWhite\", \"Other\", \"NativeAm\", \"NativeAm\", \"NonHispWhite\", \"NonHispWhite\", \"NonHispWhite\", \"Other\", \"Other\", \"NativeAm\", \"NativeAm\", \"Other\", \"Other\", \"NativeAm\", \"Other\", \"NonHispWhite\", \"NonHispWhite\", \"NonHispWhite\", \"NonHispWhite\", \"Other\", \"NativeAm\", \"NativeAm\", \"Other\", \"NativeAm\", \"NativeAm\", \"Other\", \"NativeAm\", \"NonHispWhite\", \"Other\", \"Other\", \"NonHispWhite\", \"NonHispWhite\", \"NativeAm\", \"NonHispWhite\", \"NonHispWhite\", \"Other\", \"Hispanic\", \"NativeAm\", \"NonHispWhite\", \"Other\", \"Other\", \"NativeAm\", \"NativeAm\", \"Other\", \"Other\"]}, {\"label\": \"MHDx\", \"values\": [\"Depression\", \"Trauma\", \"Depression\", \"Depression\", \"Trauma\", \"Anxiety\", \"Depression\", \"Psychosis\", \"Depression\", \"Trauma\", \"Anxiety\", \"Psychosis\", \"Anxiety\", \"Trauma\", \"Depression\", \"Anxiety\", \"Anxiety\", \"Depression\", \"Anxiety\", \"Trauma\", \"Anxiety\", \"Anxiety\", \"Anxiety\", \"Anxiety\", \"Depression\", \"Depression\", \"Depression\", \"Anxiety\", \"Psychosis\", \"Anxiety\", \"Depression\", \"Anxiety\", \"Trauma\", \"Depression\", \"Anxiety\", \"Trauma\", \"Depression\", \"Anxiety\", \"Trauma\", \"Depression\", \"Anxiety\", \"Depression\", \"Anxiety\", \"Depression\", \"Trauma\", \"Depression\", \"Anxiety\", \"Psychosis\", \"Psychosis\", \"Depression\", \"Trauma\", \"Anxiety\", \"Trauma\", \"Depression\", \"Depression\", \"Trauma\", \"Psychosis\", \"Anxiety\", \"Depression\", \"Psychosis\", \"Trauma\", \"Depression\", \"Depression\", \"Psychosis\", \"Anxiety\", \"Psychosis\", \"Anxiety\", \"Depression\", \"Anxiety\", \"Anxiety\", \"Depression\", \"Trauma\", \"Depression\", \"Psychosis\", \"Psychosis\", \"Psychosis\", \"Anxiety\", \"Depression\", \"Anxiety\", \"Trauma\", \"Psychosis\", \"Anxiety\", \"Anxiety\", \"Psychosis\", \"Trauma\", \"Trauma\", \"Trauma\", \"Psychosis\", \"Depression\", \"Anxiety\", \"Trauma\", \"Anxiety\", \"Trauma\", \"Depression\", \"Psychosis\", \"Depression\", \"Anxiety\", \"Depression\", \"Trauma\", \"Trauma\", \"Anxiety\", \"Psychosis\", \"Psychosis\", \"Trauma\", \"Psychosis\", \"Depression\", \"Anxiety\", \"Anxiety\", \"Depression\", \"Depression\", \"Depression\", \"Depression\", \"Psychosis\", \"Psychosis\", \"Depression\", \"Depression\", \"Psychosis\", \"Anxiety\", \"Trauma\", \"Psychosis\", \"Anxiety\", \"Trauma\", \"Trauma\", \"Anxiety\", \"Depression\", \"Anxiety\", \"Anxiety\", \"Anxiety\", \"Depression\", \"Anxiety\", \"Depression\", \"Psychosis\", \"Psychosis\", \"Depression\", \"Depression\", \"Depression\", \"Trauma\", \"Depression\", \"Depression\", \"Depression\", \"Trauma\", \"Psychosis\", \"Anxiety\", \"Depression\", \"Psychosis\", \"Psychosis\", \"Trauma\", \"Psychosis\", \"Anxiety\", \"Depression\", \"Psychosis\", \"Psychosis\", \"Trauma\", \"Anxiety\", \"Anxiety\", \"Psychosis\", \"Depression\", \"Trauma\", \"Psychosis\", \"Psychosis\", \"Psychosis\", \"Anxiety\", \"Trauma\", \"Depression\", \"Psychosis\", \"Depression\", \"Psychosis\", \"Psychosis\", \"Depression\", \"Trauma\", \"Psychosis\", \"Anxiety\", \"Psychosis\", \"Depression\", \"Depression\", \"Anxiety\", \"Depression\", \"Anxiety\", \"Psychosis\", \"Anxiety\", \"Depression\", \"Anxiety\", \"Depression\", \"Depression\", \"Trauma\", \"Trauma\", \"Anxiety\", \"Psychosis\", \"Anxiety\", \"Psychosis\", \"Psychosis\", \"Psychosis\", \"Depression\", \"Depression\", \"Trauma\", \"Anxiety\", \"Psychosis\", \"Psychosis\", \"Trauma\", \"Psychosis\", \"Trauma\", \"Psychosis\", \"Depression\", \"Trauma\", \"Depression\", \"Depression\", \"Psychosis\", \"Trauma\", \"Trauma\", \"Anxiety\", \"Depression\", \"Depression\", \"Depression\", \"Depression\", \"Depression\", \"Depression\", \"Trauma\", \"Anxiety\", \"Psychosis\", \"Depression\", \"Trauma\", \"Psychosis\", \"Depression\", \"Depression\", \"Psychosis\", \"Anxiety\", \"Trauma\", \"Anxiety\", \"Anxiety\", \"Trauma\", \"Depression\", \"Depression\", \"Depression\", \"Depression\", \"Anxiety\", \"Depression\", \"Psychosis\", \"Anxiety\", \"Trauma\", \"Anxiety\", \"Depression\", \"Anxiety\", \"Depression\", \"Anxiety\", \"Anxiety\", \"Anxiety\", \"Anxiety\", \"Depression\", \"Depression\", \"Depression\", \"Trauma\", \"Depression\", \"Anxiety\", \"Trauma\", \"Depression\", \"Depression\", \"Anxiety\", \"Psychosis\", \"Anxiety\", \"Depression\", \"Depression\", \"Anxiety\", \"Anxiety\", \"Anxiety\", \"Depression\", \"Depression\", \"Anxiety\", \"Psychosis\", \"Anxiety\", \"Anxiety\", \"Trauma\", \"Depression\", \"Anxiety\", \"Psychosis\", \"Depression\", \"Depression\", \"Trauma\", \"Depression\", \"Depression\", \"Psychosis\", \"Anxiety\", \"Depression\", \"Anxiety\", \"Anxiety\", \"Psychosis\", \"Anxiety\", \"Depression\", \"Psychosis\", \"Trauma\", \"Trauma\", \"Depression\", \"Trauma\", \"Anxiety\", \"Trauma\", \"Psychosis\", \"Trauma\", \"Depression\", \"Psychosis\", \"Depression\", \"Psychosis\", \"Psychosis\", \"Depression\", \"Anxiety\", \"Psychosis\", \"Trauma\", \"Anxiety\", \"Depression\", \"Anxiety\", \"Trauma\", \"Trauma\", \"Depression\", \"Depression\", \"Depression\", \"Trauma\", \"Depression\", \"Psychosis\", \"Psychosis\", \"Anxiety\", \"Psychosis\", \"Trauma\", \"Anxiety\", \"Psychosis\", \"Anxiety\", \"Psychosis\", \"Anxiety\", \"Psychosis\", \"Depression\", \"Trauma\", \"Anxiety\", \"Depression\", \"Trauma\", \"Anxiety\", \"Depression\", \"Depression\", \"Psychosis\", \"Anxiety\", \"Trauma\", \"Anxiety\", \"Anxiety\", \"Anxiety\", \"Depression\", \"Trauma\", \"Depression\", \"Psychosis\", \"Trauma\", \"Anxiety\", \"Depression\", \"Psychosis\", \"Anxiety\", \"Anxiety\", \"Trauma\", \"Depression\", \"Anxiety\", \"Depression\", \"Trauma\", \"Depression\", \"Psychosis\", \"Trauma\", \"Depression\", \"Psychosis\", \"Depression\", \"Depression\", \"Anxiety\", \"Trauma\", \"Anxiety\", \"Depression\", \"Trauma\", \"Anxiety\", \"Depression\", \"Trauma\", \"Anxiety\", \"Psychosis\", \"Trauma\", \"Trauma\", \"Depression\", \"Psychosis\", \"Depression\", \"Depression\", \"Trauma\", \"Depression\", \"Depression\", \"Anxiety\", \"Depression\", \"Trauma\", \"Trauma\", \"Anxiety\", \"Depression\", \"Depression\", \"Trauma\", \"Trauma\", \"Trauma\", \"Trauma\", \"Depression\", \"Anxiety\", \"Psychosis\", \"Psychosis\", \"Anxiety\", \"Depression\", \"Psychosis\", \"Anxiety\", \"Trauma\", \"Anxiety\", \"Anxiety\", \"Trauma\", \"Psychosis\", \"Psychosis\", \"Anxiety\", \"Depression\", \"Psychosis\", \"Trauma\", \"Anxiety\", \"Depression\", \"Anxiety\", \"Psychosis\", \"Trauma\", \"Psychosis\", \"Anxiety\", \"Anxiety\", \"Trauma\", \"Psychosis\", \"Psychosis\", \"Psychosis\", \"Depression\", \"Trauma\", \"Depression\", \"Psychosis\", \"Anxiety\", \"Trauma\", \"Trauma\", \"Depression\", \"Anxiety\", \"Anxiety\", \"Psychosis\", \"Trauma\", \"Psychosis\", \"Depression\", \"Trauma\", \"Anxiety\", \"Anxiety\", \"Depression\", \"Anxiety\", \"Anxiety\", \"Psychosis\", \"Depression\", \"Anxiety\", \"Psychosis\", \"Anxiety\", \"Psychosis\", \"Trauma\", \"Trauma\", \"Anxiety\", \"Depression\", \"Psychosis\", \"Depression\", \"Trauma\", \"Trauma\", \"Psychosis\", \"Anxiety\", \"Depression\", \"Trauma\", \"Depression\", \"Depression\", \"Psychosis\", \"Anxiety\", \"Depression\", \"Trauma\", \"Trauma\", \"Depression\", \"Depression\", \"Depression\", \"Depression\", \"Anxiety\", \"Anxiety\", \"Trauma\", \"Psychosis\", \"Depression\", \"Psychosis\", \"Anxiety\", \"Psychosis\"]}, {\"label\": \"SUDx\", \"values\": [\"Alcohol\", \"Opioid\", \"Opioid\", \"Alcohol\", \"Opioid\", \"Opioid\", \"Alcohol\", \"Stimulant\", \"Opioid\", \"None\", \"Opioid\", \"Opioid\", \"Opioid\", \"Alcohol\", \"Stimulant\", \"Stimulant\", \"Alcohol\", \"Opioid\", \"Opioid\", \"Alcohol\", \"None\", \"Alcohol\", \"Stimulant\", \"Alcohol\", \"Opioid\", \"Opioid\", \"Opioid\", \"None\", \"Opioid\", \"Stimulant\", \"None\", \"Opioid\", \"Alcohol\", \"None\", \"Alcohol\", \"Opioid\", \"Opioid\", \"None\", \"Opioid\", \"Opioid\", \"Alcohol\", \"Opioid\", \"Opioid\", \"Opioid\", \"Stimulant\", \"None\", \"Opioid\", \"Stimulant\", \"Alcohol\", \"Stimulant\", \"Opioid\", \"Opioid\", \"None\", \"Stimulant\", \"Stimulant\", \"Alcohol\", \"Opioid\", \"Alcohol\", \"None\", \"Alcohol\", \"Alcohol\", \"Alcohol\", \"Alcohol\", \"Opioid\", \"Opioid\", \"Opioid\", \"Stimulant\", \"Alcohol\", \"None\", \"Opioid\", \"Alcohol\", \"None\", \"Opioid\", \"Opioid\", \"Alcohol\", \"Stimulant\", \"Alcohol\", \"Alcohol\", \"None\", \"Alcohol\", \"Alcohol\", \"Opioid\", \"None\", \"Alcohol\", \"Stimulant\", \"Alcohol\", \"Opioid\", \"Stimulant\", \"Alcohol\", \"Stimulant\", \"Alcohol\", \"Stimulant\", \"Alcohol\", \"Stimulant\", \"Alcohol\", \"Alcohol\", \"Alcohol\", \"Opioid\", \"Alcohol\", \"Opioid\", \"None\", \"Alcohol\", \"None\", \"Alcohol\", \"Alcohol\", \"Stimulant\", \"Opioid\", \"Opioid\", \"None\", \"Opioid\", \"Alcohol\", \"Alcohol\", \"Alcohol\", \"Stimulant\", \"Opioid\", \"None\", \"Alcohol\", \"Alcohol\", \"None\", \"Opioid\", \"Opioid\", \"Alcohol\", \"Alcohol\", \"Opioid\", \"Opioid\", \"Alcohol\", \"Opioid\", \"Opioid\", \"Stimulant\", \"Stimulant\", \"Opioid\", \"None\", \"Alcohol\", \"Opioid\", \"None\", \"Opioid\", \"Alcohol\", \"Alcohol\", \"Alcohol\", \"Alcohol\", \"Opioid\", \"Stimulant\", \"Opioid\", \"Opioid\", \"Opioid\", \"None\", \"Alcohol\", \"Opioid\", \"Opioid\", \"Stimulant\", \"Stimulant\", \"Stimulant\", \"Opioid\", \"None\", \"Opioid\", \"None\", \"None\", \"Alcohol\", \"Alcohol\", \"None\", \"Alcohol\", \"Alcohol\", \"None\", \"Alcohol\", \"Opioid\", \"Alcohol\", \"Alcohol\", \"Stimulant\", \"None\", \"None\", \"Opioid\", \"Alcohol\", \"None\", \"Stimulant\", \"Opioid\", \"Alcohol\", \"Alcohol\", \"Opioid\", \"Alcohol\", \"Alcohol\", \"Opioid\", \"Opioid\", \"Alcohol\", \"Opioid\", \"Opioid\", \"Alcohol\", \"Alcohol\", \"Alcohol\", \"Opioid\", \"None\", \"Stimulant\", \"None\", \"Alcohol\", \"Opioid\", \"Opioid\", \"Alcohol\", \"None\", \"Alcohol\", \"Opioid\", \"Opioid\", \"Opioid\", \"Opioid\", \"Opioid\", \"Alcohol\", \"None\", \"None\", \"Opioid\", \"Alcohol\", \"None\", \"Alcohol\", \"None\", \"Opioid\", \"Alcohol\", \"Alcohol\", \"Alcohol\", \"None\", \"Opioid\", \"Opioid\", \"Alcohol\", \"Stimulant\", \"None\", \"None\", \"Opioid\", \"Opioid\", \"Opioid\", \"None\", \"Opioid\", \"Opioid\", \"Alcohol\", \"Opioid\", \"None\", \"None\", \"Alcohol\", \"Stimulant\", \"Opioid\", \"Alcohol\", \"Opioid\", \"None\", \"Opioid\", \"Alcohol\", \"Alcohol\", \"Opioid\", \"Stimulant\", \"Stimulant\", \"Opioid\", \"None\", \"Opioid\", \"Opioid\", \"None\", \"None\", \"Alcohol\", \"None\", \"Opioid\", \"Alcohol\", \"Stimulant\", \"None\", \"Opioid\", \"Opioid\", \"None\", \"Opioid\", \"Opioid\", \"None\", \"None\", \"Alcohol\", \"Stimulant\", \"Alcohol\", \"Opioid\", \"Opioid\", \"Alcohol\", \"Opioid\", \"Opioid\", \"Alcohol\", \"Alcohol\", \"None\", \"Opioid\", \"Alcohol\", \"Alcohol\", \"Opioid\", \"Alcohol\", \"Opioid\", \"Alcohol\", \"Opioid\", \"None\", \"Alcohol\", \"Opioid\", \"Alcohol\", \"Stimulant\", \"Alcohol\", \"Stimulant\", \"None\", \"Opioid\", \"Stimulant\", \"Opioid\", \"Opioid\", \"Alcohol\", \"Opioid\", \"None\", \"Stimulant\", \"Alcohol\", \"None\", \"Opioid\", \"Alcohol\", \"Alcohol\", \"Opioid\", \"Alcohol\", \"None\", \"Alcohol\", \"Opioid\", \"None\", \"Alcohol\", \"Opioid\", \"Alcohol\", \"Alcohol\", \"Stimulant\", \"Opioid\", \"Alcohol\", \"Alcohol\", \"None\", \"Alcohol\", \"Opioid\", \"Alcohol\", \"Opioid\", \"Alcohol\", \"Alcohol\", \"Opioid\", \"None\", \"Stimulant\", \"None\", \"None\", \"Opioid\", \"Alcohol\", \"Opioid\", \"Alcohol\", \"Alcohol\", \"Alcohol\", \"None\", \"Stimulant\", \"Alcohol\", \"Alcohol\", \"Alcohol\", \"Alcohol\", \"None\", \"Alcohol\", \"None\", \"Alcohol\", \"Alcohol\", \"None\", \"None\", \"Alcohol\", \"Alcohol\", \"Opioid\", \"None\", \"Opioid\", \"Alcohol\", \"Opioid\", \"Opioid\", \"Opioid\", \"None\", \"Opioid\", \"Opioid\", \"Alcohol\", \"Opioid\", \"Alcohol\", \"Opioid\", \"Alcohol\", \"Alcohol\", \"Alcohol\", \"None\", \"Alcohol\", \"Alcohol\", \"Opioid\", \"None\", \"None\", \"None\", \"None\", \"Alcohol\", \"Opioid\", \"Alcohol\", \"Opioid\", \"Alcohol\", \"None\", \"None\", \"None\", \"Opioid\", \"Alcohol\", \"Alcohol\", \"Opioid\", \"Opioid\", \"Alcohol\", \"Alcohol\", \"Alcohol\", \"Alcohol\", \"Alcohol\", \"Opioid\", \"Opioid\", \"Alcohol\", \"Alcohol\", \"None\", \"Opioid\", \"Alcohol\", \"Alcohol\", \"Alcohol\", \"Opioid\", \"None\", \"Opioid\", \"Alcohol\", \"Alcohol\", \"Opioid\", \"Stimulant\", \"Opioid\", \"None\", \"Stimulant\", \"None\", \"Opioid\", \"None\", \"None\", \"Alcohol\", \"Alcohol\", \"Alcohol\", \"None\", \"Opioid\", \"Alcohol\", \"Alcohol\", \"Alcohol\", \"None\", \"Stimulant\", \"None\", \"Opioid\", \"Alcohol\", \"Opioid\", \"None\", \"Alcohol\", \"None\", \"Stimulant\", \"Opioid\", \"Opioid\", \"Opioid\", \"None\", \"None\", \"None\", \"Opioid\", \"Alcohol\", \"None\", \"None\", \"Stimulant\", \"Opioid\", \"Opioid\", \"Alcohol\", \"Opioid\", \"None\", \"Alcohol\", \"Alcohol\", \"Alcohol\", \"Stimulant\", \"Opioid\", \"None\", \"Opioid\", \"Opioid\", \"None\", \"Alcohol\", \"Alcohol\", \"Opioid\", \"None\", \"Opioid\", \"Opioid\", \"Opioid\", \"Alcohol\", \"None\", \"Opioid\", \"None\", \"Opioid\", \"Opioid\", \"None\", \"Alcohol\", \"Stimulant\", \"Alcohol\", \"None\", \"Opioid\", \"None\"]}], \"domain\": {\"x\": [0.0, 0.98], \"y\": [0.0, 1.0]}, \"line\": {\"color\": [0.43999999999999995, 0.45999999999999996, 0.6100000000000003, 0.34999999999999964, 0.05999999999999961, 0.5099999999999998, 0.5099999999999998, 0.9499999999999997, 0.05999999999999961, -0.019999999999999574, 0.6699999999999999, -0.040000000000000036, 0.4900000000000002, 0.4499999999999993, -0.05000000000000071, -0.020000000000000018, 0.08000000000000007, 0.0, -0.029999999999999805, 0.04999999999999982, 0.28000000000000025, -0.08999999999999986, 0.5499999999999998, 0.02999999999999936, 0.019999999999999574, 0.020000000000000018, -0.010000000000000231, 0.010000000000000231, 0.010000000000000231, 0.35000000000000053, 0.6100000000000003, 0.6699999999999999, -0.009999999999999787, 0.05999999999999961, -0.10000000000000053, 0.28000000000000025, 0.6699999999999995, -0.03000000000000025, 0.5499999999999998, -0.010000000000000675, 0.33000000000000007, 0.040000000000000036, 0.33000000000000007, 0.71, -0.03000000000000025, -0.04999999999999982, 0.010000000000000231, 0.10000000000000009, -0.10000000000000053, 0.4899999999999993, 0.0, -0.050000000000000266, 0.7000000000000002, 0.5, -0.04999999999999982, 0.020000000000000018, 0.010000000000000231, 0.96, 0.45999999999999996, 0.7899999999999996, -0.009999999999999787, 0.6700000000000008, 0.06000000000000005, 0.0, 0.5699999999999998, 0.06000000000000005, -0.10000000000000009, 0.2799999999999998, 0.6600000000000001, -0.019999999999999574, 0.020000000000000018, -0.0600000000000005, -0.08999999999999986, 0.8200000000000003, 0.8699999999999997, -0.020000000000000018, 0.08000000000000007, -0.04999999999999982, 0.040000000000000036, -0.05999999999999961, -0.040000000000000036, 0.31999999999999984, 0.6599999999999997, 0.81, -0.009999999999999787, 0.040000000000000036, 0.2699999999999996, 0.75, 0.8799999999999999, -0.020000000000000018, 0.040000000000000036, -0.08000000000000007, -0.07000000000000028, -0.09000000000000075, 0.94, 0.43999999999999995, 0.45999999999999996, 0.71, 0.71, 0.2400000000000002, 0.07000000000000028, 0.8799999999999999, -0.10000000000000009, 0.45999999999999996, 0.03000000000000025, 0.45999999999999996, 0.23999999999999977, 0.04999999999999982, 0.009999999999999787, -0.03000000000000025, 0.71, 0.0, 0.8399999999999999, 0.020000000000000462, 0.7100000000000004, 0.2699999999999996, 0.6799999999999997, 0.0, -0.009999999999999787, 0.7600000000000002, -0.029999999999999805, 0.5300000000000002, 0.43999999999999995, 0.4900000000000002, -0.040000000000000036, 0.45999999999999996, 0.5099999999999998, 0.4499999999999993, 0.5499999999999998, 0.07000000000000028, 0.5700000000000003, -0.020000000000000018, -0.03000000000000025, 0.7100000000000004, 0.05000000000000071, 0.4499999999999993, -0.10999999999999988, -0.10999999999999988, -0.020000000000000018, -0.07000000000000028, 0.4499999999999993, 0.0, 0.040000000000000036, 0.05000000000000071, -0.050000000000000266, 0.7200000000000002, 0.040000000000000036, 0.1200000000000001, 0.6099999999999999, 0.020000000000000018, 0.0699999999999994, 0.5700000000000003, 0.029999999999999805, -0.04999999999999982, 0.6100000000000003, -0.03000000000000025, -0.020000000000000462, -0.03000000000000025, 0.7799999999999994, 0.69, 0.7200000000000002, 0.54, 0.0, 0.54, 0.0, -0.019999999999999574, -0.009999999999999787, 0.8299999999999996, 0.040000000000000036, 0.04999999999999982, -0.040000000000000036, 0.1299999999999999, 0.77, 0.009999999999999787, -0.03000000000000025, 0.6600000000000001, 0.03000000000000025, 0.4599999999999995, 0.06999999999999984, 0.6099999999999994, 0.2400000000000002, 0.009999999999999787, -0.009999999999999787, -0.009999999999999787, 0.05000000000000071, 0.7000000000000002, 0.5299999999999998, 0.0, -0.06000000000000005, 0.06000000000000005, 0.8099999999999996, -0.020000000000000462, 0.019999999999999574, 0.019999999999999574, 0.040000000000000036, -0.009999999999999787, 0.0, -0.040000000000000036, 0.4500000000000002, 0.71, -0.08000000000000007, 0.050000000000000266, 0.6500000000000004, 0.96, 0.43999999999999995, 0.4500000000000002, 0.6900000000000004, -0.10000000000000009, 0.4500000000000002, -0.06000000000000005, 0.040000000000000036, 0.04999999999999982, 0.71, 0.4400000000000004, 0.45999999999999996, -0.009999999999999787, 0.0, 0.34999999999999964, -0.040000000000000036, -0.009999999999999787, 0.040000000000000036, -0.010000000000000231, 0.0, -0.029999999999999805, -0.009999999999999787, 0.6099999999999994, 0.6499999999999999, 0.43999999999999995, 0.8800000000000003, 0.31999999999999984, -0.06000000000000005, -0.04999999999999982, 0.6099999999999999, -0.06000000000000005, 0.03000000000000025, 0.009999999999999787, -0.040000000000000036, 0.6700000000000004, -0.010000000000000675, 0.040000000000000036, 0.6699999999999999, -0.03000000000000025, 0.54, 0.5700000000000003, 0.009999999999999787, 0.5300000000000002, 0.6699999999999999, 0.2799999999999998, -0.009999999999999787, 0.45999999999999996, 0.0, -0.06000000000000005, -0.03000000000000025, 0.71, -0.020000000000000018, 0.040000000000000036, 0.2699999999999996, 0.8900000000000001, 0.029999999999999805, 0.4500000000000002, 0.31999999999999984, 0.03000000000000025, 0.6499999999999995, 0.040000000000000036, 0.03000000000000025, -0.040000000000000036, 0.2400000000000002, 0.7499999999999996, 0.010000000000000675, 0.8599999999999994, 0.4500000000000002, 0.43999999999999995, 0.040000000000000036, -0.050000000000000266, 0.06000000000000005, 0.9600000000000004, -0.08999999999999986, 0.009999999999999787, -0.010000000000000231, 0.7300000000000004, -0.04999999999999982, 0.5299999999999998, 0.009999999999999787, 0.8800000000000003, 0.6599999999999997, 0.009999999999999787, 0.8599999999999994, 0.0, 0.0, 0.040000000000000036, -0.050000000000000266, 0.029999999999999805, 0.04999999999999982, 0.05000000000000071, 0.050000000000000266, 0.010000000000000675, 0.5099999999999998, 0.7700000000000005, -0.03000000000000025, 0.8399999999999999, 0.6200000000000001, -0.02999999999999936, 0.44999999999999973, 0.009999999999999787, 0.09000000000000075, 0.040000000000000036, 0.45999999999999996, 0.6999999999999993, 0.08000000000000007, 0.010000000000000231, 0.6500000000000004, -0.050000000000000266, 0.0900000000000003, 0.6600000000000001, 0.07000000000000028, 0.9199999999999999, 0.7400000000000002, 0.040000000000000036, 0.010000000000000675, 0.5, 0.5, 0.7400000000000002, 0.08999999999999986, 0.6099999999999999, 0.8600000000000003, 0.010000000000000231, 0.040000000000000036, -0.040000000000000036, -0.08000000000000007, 0.009999999999999787, 0.0, 0.09999999999999964, -0.04999999999999982, -0.04999999999999982, -0.029999999999999805, 0.05999999999999961, 0.04999999999999982, -0.04999999999999982, 0.029999999999999805, -0.009999999999999787, 0.16999999999999993, -0.06999999999999984, 0.010000000000000675, 0.019999999999999574, 0.020000000000000018, 0.06000000000000005, -0.03000000000000025, -0.04999999999999982, -0.019999999999999574, 0.0, -0.09999999999999964, -0.029999999999999805, 0.009999999999999787, 0.009999999999999787, -0.03000000000000025, -0.06000000000000005, -0.050000000000000266, -0.050000000000000266, -0.029999999999999805, -0.06999999999999984, 0.020000000000000018, -0.040000000000000036, -0.1200000000000001, 0.020000000000000018, 0.029999999999999805, -0.040000000000000036, 0.04999999999999982, -0.1200000000000001, -0.009999999999999787, -0.03000000000000025, -0.08999999999999986, 0.040000000000000036, 0.020000000000000018, 0.08000000000000007, 0.050000000000000266, 0.06000000000000005, 0.020000000000000018, -0.02999999999999936, -0.019999999999999574, -0.06000000000000005, -0.019999999999999574, -0.020000000000000018, -0.020000000000000018, -0.11000000000000032, -0.050000000000000266, -0.03000000000000025, 0.0, -0.05999999999999961, -0.029999999999999805, 0.010000000000000231, 0.03000000000000025, 0.06000000000000005, 0.009999999999999787, 0.05999999999999961, 0.020000000000000018, -0.04999999999999982, 0.020000000000000018, 0.06000000000000005, 0.03000000000000025, -0.009999999999999787, 0.0, -0.019999999999999574, -0.020000000000000462, 0.0600000000000005, 0.019999999999999574, -0.020000000000000018, 0.05999999999999961, -0.03000000000000025, 0.0, -0.07999999999999963, -0.04999999999999982, -0.020000000000000018, -0.03000000000000025, -0.03000000000000025, -0.020000000000000018, -0.029999999999999805, -0.10000000000000009, 0.0, 0.0699999999999994, 0.009999999999999787, -0.009999999999999787, -0.009999999999999787, -0.020000000000000018, -0.009999999999999787, 0.029999999999999805, -0.11999999999999966, -0.009999999999999787, 0.06000000000000005, 0.02999999999999936, 0.009999999999999787, 0.009999999999999787, -0.1200000000000001, -0.019999999999999574, -0.040000000000000036, 0.08999999999999986, 0.0, -0.04999999999999982, 0.08000000000000007, -0.040000000000000036, 0.04999999999999982, 0.0, -0.019999999999999574, 0.04999999999999982, -0.03000000000000025, -0.07000000000000028, 0.020000000000000018, 0.010000000000000231, -0.009999999999999787, 0.1200000000000001, -0.020000000000000462, 0.0, 0.04999999999999982, -0.029999999999999805, -0.10999999999999988, 0.040000000000000036, 0.02999999999999936, 0.0, 0.06000000000000005, -0.020000000000000018, -0.009999999999999787, 0.04999999999999982, 0.020000000000000018, 0.0, 0.020000000000000462, -0.04999999999999982, -0.040000000000000036, 0.020000000000000018, 0.0, 0.010000000000000231, -0.07000000000000028, -0.04999999999999982, -0.040000000000000036, -0.04999999999999982, 0.07000000000000028, 0.06000000000000005, -0.019999999999999574, -0.04999999999999982, -0.010000000000000231, 0.009999999999999787], \"coloraxis\": \"coloraxis\"}, \"name\": \"\", \"type\": \"parcats\"}],\n",
       "                        {\"coloraxis\": {\"colorbar\": {\"title\": {\"text\": \"DLA_Diff\"}}, \"colorscale\": [[0.0, \"#000004\"], [0.1111111111111111, \"#1b0c41\"], [0.2222222222222222, \"#4a0c6b\"], [0.3333333333333333, \"#781c6d\"], [0.4444444444444444, \"#a52c60\"], [0.5555555555555556, \"#cf4446\"], [0.6666666666666666, \"#ed6925\"], [0.7777777777777778, \"#fb9b06\"], [0.8888888888888888, \"#f7d13d\"], [1.0, \"#fcffa4\"]]}, \"height\": 600, \"legend\": {\"tracegroupgap\": 0}, \"template\": {\"data\": {\"bar\": [{\"error_x\": {\"color\": \"#2a3f5f\"}, \"error_y\": {\"color\": \"#2a3f5f\"}, \"marker\": {\"line\": {\"color\": \"#E5ECF6\", \"width\": 0.5}}, \"type\": \"bar\"}], \"barpolar\": [{\"marker\": {\"line\": {\"color\": \"#E5ECF6\", \"width\": 0.5}}, \"type\": \"barpolar\"}], \"carpet\": [{\"aaxis\": {\"endlinecolor\": \"#2a3f5f\", \"gridcolor\": \"white\", \"linecolor\": \"white\", \"minorgridcolor\": \"white\", \"startlinecolor\": \"#2a3f5f\"}, \"baxis\": {\"endlinecolor\": \"#2a3f5f\", \"gridcolor\": \"white\", \"linecolor\": \"white\", \"minorgridcolor\": \"white\", \"startlinecolor\": \"#2a3f5f\"}, \"type\": \"carpet\"}], \"choropleth\": [{\"colorbar\": {\"outlinewidth\": 0, \"ticks\": \"\"}, \"type\": \"choropleth\"}], \"contour\": [{\"colorbar\": {\"outlinewidth\": 0, \"ticks\": \"\"}, \"colorscale\": [[0.0, \"#0d0887\"], [0.1111111111111111, \"#46039f\"], [0.2222222222222222, \"#7201a8\"], [0.3333333333333333, \"#9c179e\"], [0.4444444444444444, \"#bd3786\"], [0.5555555555555556, \"#d8576b\"], [0.6666666666666666, \"#ed7953\"], [0.7777777777777778, \"#fb9f3a\"], [0.8888888888888888, \"#fdca26\"], [1.0, \"#f0f921\"]], \"type\": \"contour\"}], \"contourcarpet\": [{\"colorbar\": {\"outlinewidth\": 0, \"ticks\": \"\"}, \"type\": \"contourcarpet\"}], \"heatmap\": [{\"colorbar\": {\"outlinewidth\": 0, \"ticks\": \"\"}, \"colorscale\": [[0.0, \"#0d0887\"], [0.1111111111111111, \"#46039f\"], [0.2222222222222222, \"#7201a8\"], [0.3333333333333333, \"#9c179e\"], [0.4444444444444444, \"#bd3786\"], [0.5555555555555556, \"#d8576b\"], [0.6666666666666666, \"#ed7953\"], [0.7777777777777778, \"#fb9f3a\"], [0.8888888888888888, \"#fdca26\"], [1.0, \"#f0f921\"]], \"type\": \"heatmap\"}], \"heatmapgl\": [{\"colorbar\": {\"outlinewidth\": 0, \"ticks\": \"\"}, \"colorscale\": [[0.0, \"#0d0887\"], [0.1111111111111111, \"#46039f\"], [0.2222222222222222, \"#7201a8\"], [0.3333333333333333, \"#9c179e\"], [0.4444444444444444, \"#bd3786\"], [0.5555555555555556, \"#d8576b\"], [0.6666666666666666, \"#ed7953\"], [0.7777777777777778, \"#fb9f3a\"], [0.8888888888888888, \"#fdca26\"], [1.0, \"#f0f921\"]], \"type\": \"heatmapgl\"}], \"histogram\": [{\"marker\": {\"colorbar\": {\"outlinewidth\": 0, \"ticks\": \"\"}}, \"type\": \"histogram\"}], \"histogram2d\": [{\"colorbar\": {\"outlinewidth\": 0, \"ticks\": \"\"}, \"colorscale\": [[0.0, \"#0d0887\"], [0.1111111111111111, \"#46039f\"], [0.2222222222222222, \"#7201a8\"], [0.3333333333333333, \"#9c179e\"], [0.4444444444444444, \"#bd3786\"], [0.5555555555555556, \"#d8576b\"], [0.6666666666666666, \"#ed7953\"], [0.7777777777777778, \"#fb9f3a\"], [0.8888888888888888, \"#fdca26\"], [1.0, \"#f0f921\"]], \"type\": \"histogram2d\"}], \"histogram2dcontour\": [{\"colorbar\": {\"outlinewidth\": 0, \"ticks\": \"\"}, \"colorscale\": [[0.0, \"#0d0887\"], [0.1111111111111111, \"#46039f\"], [0.2222222222222222, \"#7201a8\"], [0.3333333333333333, \"#9c179e\"], [0.4444444444444444, \"#bd3786\"], [0.5555555555555556, \"#d8576b\"], [0.6666666666666666, \"#ed7953\"], [0.7777777777777778, \"#fb9f3a\"], [0.8888888888888888, \"#fdca26\"], [1.0, \"#f0f921\"]], \"type\": \"histogram2dcontour\"}], \"mesh3d\": [{\"colorbar\": {\"outlinewidth\": 0, \"ticks\": \"\"}, \"type\": \"mesh3d\"}], \"parcoords\": [{\"line\": {\"colorbar\": {\"outlinewidth\": 0, \"ticks\": \"\"}}, \"type\": \"parcoords\"}], \"scatter\": [{\"marker\": {\"colorbar\": {\"outlinewidth\": 0, \"ticks\": \"\"}}, \"type\": \"scatter\"}], \"scatter3d\": [{\"line\": {\"colorbar\": {\"outlinewidth\": 0, \"ticks\": \"\"}}, \"marker\": {\"colorbar\": {\"outlinewidth\": 0, \"ticks\": \"\"}}, \"type\": \"scatter3d\"}], \"scattercarpet\": [{\"marker\": {\"colorbar\": {\"outlinewidth\": 0, \"ticks\": \"\"}}, \"type\": \"scattercarpet\"}], \"scattergeo\": [{\"marker\": {\"colorbar\": {\"outlinewidth\": 0, \"ticks\": \"\"}}, \"type\": \"scattergeo\"}], \"scattergl\": [{\"marker\": {\"colorbar\": {\"outlinewidth\": 0, \"ticks\": \"\"}}, \"type\": \"scattergl\"}], \"scattermapbox\": [{\"marker\": {\"colorbar\": {\"outlinewidth\": 0, \"ticks\": \"\"}}, \"type\": \"scattermapbox\"}], \"scatterpolar\": [{\"marker\": {\"colorbar\": {\"outlinewidth\": 0, \"ticks\": \"\"}}, \"type\": \"scatterpolar\"}], \"scatterpolargl\": [{\"marker\": {\"colorbar\": {\"outlinewidth\": 0, \"ticks\": \"\"}}, \"type\": \"scatterpolargl\"}], \"scatterternary\": [{\"marker\": {\"colorbar\": {\"outlinewidth\": 0, \"ticks\": \"\"}}, \"type\": \"scatterternary\"}], \"surface\": [{\"colorbar\": {\"outlinewidth\": 0, \"ticks\": \"\"}, \"colorscale\": [[0.0, \"#0d0887\"], [0.1111111111111111, \"#46039f\"], [0.2222222222222222, \"#7201a8\"], [0.3333333333333333, \"#9c179e\"], [0.4444444444444444, \"#bd3786\"], [0.5555555555555556, \"#d8576b\"], [0.6666666666666666, \"#ed7953\"], [0.7777777777777778, \"#fb9f3a\"], [0.8888888888888888, \"#fdca26\"], [1.0, \"#f0f921\"]], \"type\": \"surface\"}], \"table\": [{\"cells\": {\"fill\": {\"color\": \"#EBF0F8\"}, \"line\": {\"color\": \"white\"}}, \"header\": {\"fill\": {\"color\": \"#C8D4E3\"}, \"line\": {\"color\": \"white\"}}, \"type\": \"table\"}]}, \"layout\": {\"annotationdefaults\": {\"arrowcolor\": \"#2a3f5f\", \"arrowhead\": 0, \"arrowwidth\": 1}, \"colorscale\": {\"diverging\": [[0, \"#8e0152\"], [0.1, \"#c51b7d\"], [0.2, \"#de77ae\"], [0.3, \"#f1b6da\"], [0.4, \"#fde0ef\"], [0.5, \"#f7f7f7\"], [0.6, \"#e6f5d0\"], [0.7, \"#b8e186\"], [0.8, \"#7fbc41\"], [0.9, \"#4d9221\"], [1, \"#276419\"]], \"sequential\": [[0.0, \"#0d0887\"], [0.1111111111111111, \"#46039f\"], [0.2222222222222222, \"#7201a8\"], [0.3333333333333333, \"#9c179e\"], [0.4444444444444444, \"#bd3786\"], [0.5555555555555556, \"#d8576b\"], [0.6666666666666666, \"#ed7953\"], [0.7777777777777778, \"#fb9f3a\"], [0.8888888888888888, \"#fdca26\"], [1.0, \"#f0f921\"]], \"sequentialminus\": [[0.0, \"#0d0887\"], [0.1111111111111111, \"#46039f\"], [0.2222222222222222, \"#7201a8\"], [0.3333333333333333, \"#9c179e\"], [0.4444444444444444, \"#bd3786\"], [0.5555555555555556, \"#d8576b\"], [0.6666666666666666, \"#ed7953\"], [0.7777777777777778, \"#fb9f3a\"], [0.8888888888888888, \"#fdca26\"], [1.0, \"#f0f921\"]]}, \"colorway\": [\"#636efa\", \"#EF553B\", \"#00cc96\", \"#ab63fa\", \"#FFA15A\", \"#19d3f3\", \"#FF6692\", \"#B6E880\", \"#FF97FF\", \"#FECB52\"], \"font\": {\"color\": \"#2a3f5f\"}, \"geo\": {\"bgcolor\": \"white\", \"lakecolor\": \"white\", \"landcolor\": \"#E5ECF6\", \"showlakes\": true, \"showland\": true, \"subunitcolor\": \"white\"}, \"hoverlabel\": {\"align\": \"left\"}, \"hovermode\": \"closest\", \"mapbox\": {\"style\": \"light\"}, \"paper_bgcolor\": \"white\", \"plot_bgcolor\": \"#E5ECF6\", \"polar\": {\"angularaxis\": {\"gridcolor\": \"white\", \"linecolor\": \"white\", \"ticks\": \"\"}, \"bgcolor\": \"#E5ECF6\", \"radialaxis\": {\"gridcolor\": \"white\", \"linecolor\": \"white\", \"ticks\": \"\"}}, \"scene\": {\"xaxis\": {\"backgroundcolor\": \"#E5ECF6\", \"gridcolor\": \"white\", \"gridwidth\": 2, \"linecolor\": \"white\", \"showbackground\": true, \"ticks\": \"\", \"zerolinecolor\": \"white\"}, \"yaxis\": {\"backgroundcolor\": \"#E5ECF6\", \"gridcolor\": \"white\", \"gridwidth\": 2, \"linecolor\": \"white\", \"showbackground\": true, \"ticks\": \"\", \"zerolinecolor\": \"white\"}, \"zaxis\": {\"backgroundcolor\": \"#E5ECF6\", \"gridcolor\": \"white\", \"gridwidth\": 2, \"linecolor\": \"white\", \"showbackground\": true, \"ticks\": \"\", \"zerolinecolor\": \"white\"}}, \"shapedefaults\": {\"line\": {\"color\": \"#2a3f5f\"}}, \"ternary\": {\"aaxis\": {\"gridcolor\": \"white\", \"linecolor\": \"white\", \"ticks\": \"\"}, \"baxis\": {\"gridcolor\": \"white\", \"linecolor\": \"white\", \"ticks\": \"\"}, \"bgcolor\": \"#E5ECF6\", \"caxis\": {\"gridcolor\": \"white\", \"linecolor\": \"white\", \"ticks\": \"\"}}, \"title\": {\"x\": 0.05}, \"xaxis\": {\"automargin\": true, \"gridcolor\": \"white\", \"linecolor\": \"white\", \"ticks\": \"\", \"zerolinecolor\": \"white\", \"zerolinewidth\": 2}, \"yaxis\": {\"automargin\": true, \"gridcolor\": \"white\", \"linecolor\": \"white\", \"ticks\": \"\", \"zerolinecolor\": \"white\", \"zerolinewidth\": 2}}}, \"title\": {\"text\": \"DLA Difference Across Categories\"}},\n",
       "                        {\"responsive\": true}\n",
       "                    ).then(function(){\n",
       "                            \n",
       "var gd = document.getElementById('eaa9e3f1-007b-49a1-ae97-faf05d89990d');\n",
       "var x = new MutationObserver(function (mutations, observer) {{\n",
       "        var display = window.getComputedStyle(gd).display;\n",
       "        if (!display || display === 'none') {{\n",
       "            console.log([gd, 'removed!']);\n",
       "            Plotly.purge(gd);\n",
       "            observer.disconnect();\n",
       "        }}\n",
       "}});\n",
       "\n",
       "// Listen for the removal of the full notebook cells\n",
       "var notebookContainer = gd.closest('#notebook-container');\n",
       "if (notebookContainer) {{\n",
       "    x.observe(notebookContainer, {childList: true});\n",
       "}}\n",
       "\n",
       "// Listen for the clearing of the current output cell\n",
       "var outputEl = gd.closest('.output');\n",
       "if (outputEl) {{\n",
       "    x.observe(outputEl, {childList: true});\n",
       "}}\n",
       "\n",
       "                        })\n",
       "                };\n",
       "                });\n",
       "            </script>\n",
       "        </div>"
      ]
     },
     "metadata": {},
     "output_type": "display_data"
    }
   ],
   "source": [
    "fig = px.parallel_categories(df, dimensions=['Program', 'Gender', 'RaceEthnicity',\n",
    "                                             'MHDx', 'SUDx'],\n",
    "                color='DLA_Diff', color_continuous_scale=px.colors.sequential.Inferno,\n",
    "                title='DLA Difference Across Categories')\n",
    "fig.show()\n"
   ]
  },
  {
   "cell_type": "markdown",
   "metadata": {},
   "source": [
    "Looking at the plot above, it seems that the Intervention program serves all clients better across gender, race/ethnicity, medical diagnoses, and substance use."
   ]
  },
  {
   "cell_type": "markdown",
   "metadata": {},
   "source": [
    "## Statistical Analysis"
   ]
  },
  {
   "cell_type": "markdown",
   "metadata": {},
   "source": [
    "Two Sample T-Test to see "
   ]
  },
  {
   "cell_type": "code",
   "execution_count": 50,
   "metadata": {},
   "outputs": [],
   "source": [
    "import scipy.stats as stats\n",
    "import numpy as np"
   ]
  },
  {
   "cell_type": "code",
   "execution_count": 44,
   "metadata": {},
   "outputs": [],
   "source": [
    "group1 = np.array(df_usual['DLA_Diff'])\n",
    "group2 = np.array(df_intervention['DLA_Diff'])"
   ]
  },
  {
   "cell_type": "markdown",
   "metadata": {},
   "source": [
    "H0: µ1 = µ2 (the two program means are equal)\n",
    "\n",
    "HA: µ1 ≠µ2 (the two program means are not equal)"
   ]
  },
  {
   "cell_type": "code",
   "execution_count": 49,
   "metadata": {},
   "outputs": [
    {
     "name": "stdout",
     "output_type": "stream",
     "text": [
      "var1 = 0.0024 \n",
      " var2 = 0.0333\n"
     ]
    }
   ],
   "source": [
    "# Find variance of both groups\n",
    "var1 = (np.var(group1))\n",
    "var2 = (np.var(group2))\n",
    "print(f'var1 = {var1.round(4)} \\n var2 = {var2.round(4)}')"
   ]
  },
  {
   "cell_type": "code",
   "execution_count": 52,
   "metadata": {},
   "outputs": [
    {
     "data": {
      "text/plain": [
       "Ttest_indResult(statistic=-55.143722159871736, pvalue=4.3055817180988177e-209)"
      ]
     },
     "execution_count": 52,
     "metadata": {},
     "output_type": "execute_result"
    }
   ],
   "source": [
    "stats.ttest_ind(a=group1, b=group2)\n"
   ]
  },
  {
   "cell_type": "markdown",
   "metadata": {},
   "source": [
    "Since the P-value is under p=0.05, we can reject the null hypothesis and say with relative confidence that the means are not equal and the intervention program has statistical significance in improving a client's DLA-20 assessment score over the course of a year."
   ]
  },
  {
   "cell_type": "markdown",
   "metadata": {},
   "source": [
    "## Conclusion"
   ]
  },
  {
   "cell_type": "markdown",
   "metadata": {},
   "source": [
    "\n",
    "- Is the new intervention better than “usual care”?\n",
    "\n",
    "Overall, clients who receive the new intervention have greater improvement on the DLA-20 assessment after a year.\n",
    "\n",
    "- Which clients are best served by the intervention?\n",
    "\n",
    "Clients over all demographics that were in the intervention program showed greater improvements on their DLA-20 assessments after a year than clients in the \"usual care\" program.\n",
    "\n",
    "- Should we expand the care model from the new intervention to our “usual care” team?\n",
    "\n",
    "Based on the data given, I would recommend expanding the new intervention model to the \"usual care\" teams. \n"
   ]
  }
 ],
 "metadata": {
  "kernelspec": {
   "display_name": "learn-env",
   "language": "python",
   "name": "learn-env"
  },
  "language_info": {
   "codemirror_mode": {
    "name": "ipython",
    "version": 3
   },
   "file_extension": ".py",
   "mimetype": "text/x-python",
   "name": "python",
   "nbconvert_exporter": "python",
   "pygments_lexer": "ipython3",
   "version": "3.6.9"
  },
  "toc": {
   "base_numbering": 1,
   "nav_menu": {},
   "number_sections": true,
   "sideBar": true,
   "skip_h1_title": false,
   "title_cell": "Table of Contents",
   "title_sidebar": "Contents",
   "toc_cell": false,
   "toc_position": {},
   "toc_section_display": true,
   "toc_window_display": true
  }
 },
 "nbformat": 4,
 "nbformat_minor": 2
}
